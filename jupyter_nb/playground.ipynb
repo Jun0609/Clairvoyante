{
 "cells": [
  {
   "cell_type": "markdown",
   "metadata": {},
   "source": [
    "# Clairvoyante\n"
   ]
  },
  {
   "cell_type": "code",
   "execution_count": 1,
   "metadata": {
    "collapsed": false
   },
   "outputs": [
    {
     "name": "stdout",
     "output_type": "stream",
     "text": [
      "Populating the interactive namespace from numpy and matplotlib\n"
     ]
    }
   ],
   "source": [
    "%matplotlib inline\n",
    "%pylab inline\n",
    "import sys\n",
    "sys.path.append('../')\n",
    "import time\n",
    "import numpy as np\n",
    "import tensorflow as tf"
   ]
  },
  {
   "cell_type": "code",
   "execution_count": 2,
   "metadata": {
    "collapsed": false
   },
   "outputs": [],
   "source": [
    "#import clairvoyante\n",
    "import clairvoyante.utils as utils\n",
    "import clairvoyante.clairvoyante as cv\n",
    "import clairvoyante.param as param"
   ]
  },
  {
   "cell_type": "markdown",
   "metadata": {},
   "source": [
    "## Load a trained model for Illumina sequencing data"
   ]
  },
  {
   "cell_type": "code",
   "execution_count": 3,
   "metadata": {
    "collapsed": false
   },
   "outputs": [
    {
     "name": "stdout",
     "output_type": "stream",
     "text": [
      "INFO:tensorflow:Restoring parameters from ../trainedModels/illumina1/round2-less22-184885\n"
     ]
    },
    {
     "name": "stderr",
     "output_type": "stream",
     "text": [
      "INFO:tensorflow:Restoring parameters from ../trainedModels/illumina1/round2-less22-184885\n"
     ]
    }
   ],
   "source": [
    "# Load a trained model into memory\n",
    "m = cv.Clairvoyante()\n",
    "m.init()\n",
    "m.restoreParameters(\"../trainedModels/illumina1/round2-less22-184885\")"
   ]
  },
  {
   "cell_type": "code",
   "execution_count": 12,
   "metadata": {
    "collapsed": false
   },
   "outputs": [
    {
     "name": "stderr",
     "output_type": "stream",
     "text": [
      "conv2d/bias: [16] => 16\n",
      "conv2d/kernel: [1, 4, 4, 16] => 256\n",
      "conv2d_1/bias: [32] => 32\n",
      "conv2d_1/kernel: [2, 4, 16, 32] => 4096\n",
      "conv2d_2/bias: [48] => 48\n",
      "conv2d_2/kernel: [3, 4, 32, 48] => 18432\n",
      "dense/bias: [336] => 336\n",
      "dense/kernel: [4608, 336] => 1548288\n",
      "dense_1/bias: [84] => 84\n",
      "dense_1/kernel: [336, 84] => 28224\n",
      "dense_2/bias: [4] => 4\n",
      "dense_2/kernel: [84, 4] => 336\n",
      "dense_3/bias: [5] => 5\n",
      "dense_3/kernel: [84, 5] => 420\n",
      "Total number of parameters: 1600577\n"
     ]
    }
   ],
   "source": [
    "# Show the number of parameters of the model\n",
    "r = tf.train.NewCheckpointReader(\"../trainedModels/illumina1/round2-less22-184885\")\n",
    "p = r.get_variable_to_shape_map()\n",
    "tot = 0\n",
    "for k, v in sorted(p.items(), key=lambda x: x[0]):\n",
    "    if 'Momentum' not in k and\\\n",
    "       'global_step' not in k and\\\n",
    "       'Adam' not in k and\\\n",
    "       'power' not in k:\n",
    "        tmp = np.prod(v)\n",
    "        tot += tmp\n",
    "        print >> sys.stderr, '%s: %s => %d' % (k, str(v), tmp)\n",
    "print >> sys.stderr, 'Total number of parameters: %d' % tot"
   ]
  },
  {
   "cell_type": "code",
   "execution_count": 20,
   "metadata": {
    "collapsed": false
   },
   "outputs": [],
   "source": [
    "total, XArrayCompressed, YArrayCompressed, posArrayCompressed = \\\n",
    "utils.GetTrainingArray(\"../training/tensor_can_chr22\",\n",
    "                       \"../training/var_chr22\",\n",
    "                       \"../training/bed\")"
   ]
  },
  {
   "cell_type": "code",
   "execution_count": 14,
   "metadata": {
    "collapsed": true
   },
   "outputs": [],
   "source": [
    "# Pick a random candidate\n",
    "i = 0\n",
    "XArray, _, _ = utils.DecompressArray(XArrayCompressed, i, 1, total)"
   ]
  },
  {
   "cell_type": "code",
   "execution_count": 15,
   "metadata": {
    "collapsed": false
   },
   "outputs": [
    {
     "data": {
      "text/plain": [
       "<matplotlib.colorbar.Colorbar at 0x118216850>"
      ]
     },
     "execution_count": 15,
     "metadata": {},
     "output_type": "execute_result"
    },
    {
     "data": {
      "image/png": "[encoded data removed]",
      "text/plain": [
       "<matplotlib.figure.Figure at 0x116a89890>"
      ]
     },
     "metadata": {},
     "output_type": "display_data"
    },
    {
     "data": {
      "image/png": "[encoded data removed]",
      "text/plain": [
       "<matplotlib.figure.Figure at 0x117058990>"
      ]
     },
     "metadata": {},
     "output_type": "display_data"
    },
    {
     "data": {
      "image/png": "[encoded data removed]",
      "text/plain": [
       "<matplotlib.figure.Figure at 0x117344e90>"
      ]
     },
     "metadata": {},
     "output_type": "display_data"
    },
    {
     "data": {
      "image/png": "[encoded data removed]",
      "text/plain": [
       "<matplotlib.figure.Figure at 0x1170d0510>"
      ]
     },
     "metadata": {},
     "output_type": "display_data"
    }
   ],
   "source": [
    "# Show how the four matrices are like\n",
    "figure(figsize=(15, 2)); matshow(XArray[0,:,:,0].transpose(), vmin=0, vmax=50, cmap=cm.hot, fignum=0); colorbar()\n",
    "figure(figsize=(15, 2)); matshow(XArray[0,:,:,1].transpose(), vmin=-50, vmax=50, cmap=cm.bwr, fignum=0); colorbar()\n",
    "figure(figsize=(15, 2)); matshow(XArray[0,:,:,2].transpose(), vmin=-50, vmax=50, cmap=cm.bwr, fignum=0); colorbar()\n",
    "figure(figsize=(15, 2)); matshow(XArray[0,:,:,3].transpose(), vmin=-50, vmax=50, cmap=cm.bwr, fignum=0); colorbar()"
   ]
  },
  {
   "cell_type": "markdown",
   "metadata": {},
   "source": [
    "## Testing on the variants"
   ]
  },
  {
   "cell_type": "code",
   "execution_count": 22,
   "metadata": {
    "collapsed": false
   },
   "outputs": [
    {
     "name": "stderr",
     "output_type": "stream",
     "text": [
      "Time elapsed: 12.04 s\n",
      "23738\t5\t4\t0\t81\n",
      "4\t10605\t3\t0\t1\n",
      "5\t2\t60\t0\t5\n",
      "0\t0\t0\t20\t2\n",
      "74\t3\t4\t7\t35137\n"
     ]
    }
   ],
   "source": [
    "YArray, _, _ = utils.DecompressArray(YArrayCompressed, 0, total, total)\n",
    "\n",
    "predictStart = time.time()\n",
    "predictBatchSize = param.predictBatchSize\n",
    "datasetPtr = 0\n",
    "XBatch, _, _ = utils.DecompressArray(XArrayCompressed, datasetPtr, predictBatchSize, total)\n",
    "bases, ts = m.predict(XBatch)\n",
    "datasetPtr += predictBatchSize\n",
    "while datasetPtr < total:\n",
    "    XBatch, _, endFlag = utils.DecompressArray(XArrayCompressed, datasetPtr, predictBatchSize, total)\n",
    "    base, t = m.predict(XBatch)\n",
    "    bases = np.append(bases, base, 0)\n",
    "    ts = np.append(ts, t, 0)\n",
    "    datasetPtr += predictBatchSize\n",
    "    if endFlag != 0:\n",
    "        break\n",
    "print >> sys.stderr, \"Time elapsed: %.2f s\" % (time.time() - predictStart)\n",
    "\n",
    "ed = np.zeros( (5,5), dtype=np.int )\n",
    "for predictV, annotateV in zip(ts, YArray[:,4:]):\n",
    "    ed[np.argmax(annotateV)][np.argmax(predictV)] += 1\n",
    "\n",
    "for i in range(5):\n",
    "    print >> sys.stderr, \"\\t\".join([str(ed[i][j]) for j in range(5)])"
   ]
  },
  {
   "cell_type": "markdown",
   "metadata": {},
   "source": [
    "## Visualizing predictions"
   ]
  },
  {
   "cell_type": "code",
   "execution_count": 17,
   "metadata": {
    "collapsed": false
   },
   "outputs": [
    {
     "data": {
      "text/plain": [
       "<matplotlib.image.AxesImage at 0x116df1e50>"
      ]
     },
     "execution_count": 17,
     "metadata": {},
     "output_type": "execute_result"
    },
    {
     "data": {
      "image/png": "[encoded data removed]",
      "text/plain": [
       "<matplotlib.figure.Figure at 0x106356b10>"
      ]
     },
     "metadata": {},
     "output_type": "display_data"
    },
    {
     "data": {
      "image/png": "[encoded data removed]",
      "text/plain": [
       "<matplotlib.figure.Figure at 0x106356cd0>"
      ]
     },
     "metadata": {},
     "output_type": "display_data"
    }
   ],
   "source": [
    "# Compare the output of the expected calls and the predicted calls\n",
    "arrayStart = 0\n",
    "arrayEnd = 100\n",
    "figure(figsize=(20, 5))\n",
    "matshow(YArray[arrayStart:arrayEnd,:].transpose(), fignum=0, cmap=cm.PuRd)\n",
    "figure(figsize=(20, 5))\n",
    "matshow(np.concatenate( (bases[arrayStart:arrayEnd,:],ts[arrayStart:arrayEnd,:]),1).transpose(), fignum=0, cmap=cm.PuRd)"
   ]
  }
 ],
 "metadata": {
  "kernelspec": {
   "display_name": "Python 2",
   "language": "python",
   "name": "python2"
  },
  "language_info": {
   "codemirror_mode": {
    "name": "ipython",
    "version": 2
   },
   "file_extension": ".py",
   "mimetype": "text/x-python",
   "name": "python",
   "nbconvert_exporter": "python",
   "pygments_lexer": "ipython2",
   "version": "2.7.13"
  }
 },
 "nbformat": 4,
 "nbformat_minor": 2
}
