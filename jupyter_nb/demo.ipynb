{
 "cells": [
  {
   "cell_type": "markdown",
   "metadata": {},
   "source": [
    "# Clairvoyante\n"
   ]
  },
  {
   "cell_type": "code",
   "execution_count": 1,
   "metadata": {
    "collapsed": false
   },
   "outputs": [
    {
     "name": "stdout",
     "output_type": "stream",
     "text": [
      "Populating the interactive namespace from numpy and matplotlib\n"
     ]
    }
   ],
   "source": [
    "%matplotlib inline\n",
    "%pylab inline"
   ]
  },
  {
   "cell_type": "code",
   "execution_count": 2,
   "metadata": {
    "collapsed": false
   },
   "outputs": [],
   "source": [
    "import sys\n",
    "sys.path.append('../')"
   ]
  },
  {
   "cell_type": "code",
   "execution_count": 3,
   "metadata": {
    "collapsed": false
   },
   "outputs": [],
   "source": [
    "#import clairvoyante as cv\n",
    "import clairvoyante.utils as utils\n",
    "import clairvoyante.clairvoyante as cv"
   ]
  },
  {
   "cell_type": "markdown",
   "metadata": {},
   "source": [
    "Shell script example to get testing data from a BAM file and a VCF file\n",
    "These scripts depend on \"samtools\" to parse alignment records. \n",
    "\n",
    "```\n",
    "python ../dataPrepScripts/ExtractVariantCandidates.py --bam_fn ../testingData/chr21/hg38.NA12878-WashU_chr21-14069662-46411975.bam --ref_fn ../testingData/chr21/chr21.fa --pi_fn pi_chr21 --ctgName chr21\n",
    "\n",
    "python ../dataPrepScripts/CreateTensor.py --bam_fn ../testingData/chr21/hg38.NA12878-WashU_chr21-14069662-46411975.bam --pi_fn pi_chr21 --ctgName chr21 --ref_fn ../testingData/chr21/chr21.fa --tensor_fn tensor_chr21\n",
    "\n",
    "python ../dataPrepScripts/GetTruth.py --vcf_fn ../testingData/chr21/chr21.vcf --var_fn var_chr21 --ctgName chr21\n",
    "```"
   ]
  },
  {
   "cell_type": "markdown",
   "metadata": {},
   "source": [
    "## Training using Chr21 variant calls"
   ]
  },
  {
   "cell_type": "code",
   "execution_count": 4,
   "metadata": {
    "collapsed": false
   },
   "outputs": [],
   "source": [
    "# load the generate alignment tensors \n",
    "# we use only variants overlapping with the regions defined in `CHROM21_v.3.3.2_highconf_noinconsistent.bed`\n",
    "\n",
    "XArray, YArray, posArray = \\\n",
    "utils.GetTrainingArray(\"../training/tensor_chr21\", \n",
    "                       \"../training/var_chr21\", \n",
    "                       \"../testingData/chr21/CHROM21_v.3.3.2_highconf_noinconsistent.bed\",\n",
    "                       \"chr21\")"
   ]
  },
  {
   "cell_type": "code",
   "execution_count": 5,
   "metadata": {
    "collapsed": false
   },
   "outputs": [
    {
     "name": "stdout",
     "output_type": "stream",
     "text": [
      "(54861, 15, 4, 4)\n",
      "(54861, 9)\n"
     ]
    }
   ],
   "source": [
    "print XArray.shape\n",
    "print YArray.shape"
   ]
  },
  {
   "cell_type": "code",
   "execution_count": 6,
   "metadata": {
    "collapsed": false
   },
   "outputs": [
    {
     "data": {
      "text/plain": [
       "<matplotlib.image.AxesImage at 0x1302cbe50>"
      ]
     },
     "execution_count": 6,
     "metadata": {},
     "output_type": "execute_result"
    },
    {
     "data": {
      "image/png": "[encoded data removed]",
      "text/plain": [
       "<matplotlib.figure.Figure at 0x105b6b0d0>"
      ]
     },
     "metadata": {},
     "output_type": "display_data"
    },
    {
     "data": {
      "image/png": "[encoded data removed]",
      "text/plain": [
       "<matplotlib.figure.Figure at 0x12f81c7d0>"
      ]
     },
     "metadata": {},
     "output_type": "display_data"
    },
    {
     "data": {
      "image/png": "[encoded data removed]",
      "text/plain": [
       "<matplotlib.figure.Figure at 0x13070c0d0>"
      ]
     },
     "metadata": {},
     "output_type": "display_data"
    },
    {
     "data": {
      "image/png": "[encoded data removed]",
      "text/plain": [
       "<matplotlib.figure.Figure at 0x1305ed390>"
      ]
     },
     "metadata": {},
     "output_type": "display_data"
    }
   ],
   "source": [
    "# here we show how the three matrices are like for a candidate site\n",
    "\n",
    "i = 3721\n",
    "figure(figsize=(6, 2))\n",
    "matshow(XArray[i,:,:,0].transpose(), vmin=0, vmax=50, cmap=cm.coolwarm, fignum=0)\n",
    "figure(figsize=(6, 2))\n",
    "matshow(XArray[i,:,:,1].transpose(), vmin=-50, vmax=50, cmap=cm.coolwarm, fignum=0)\n",
    "figure(figsize=(6, 2))\n",
    "matshow(XArray[i,:,:,2].transpose(), vmin=-50, vmax=50, cmap=cm.coolwarm, fignum=0)\n",
    "figure(figsize=(6, 2))\n",
    "matshow(XArray[i,:,:,3].transpose(), vmin=-50, vmax=50, cmap=cm.coolwarm, fignum=0)"
   ]
  },
  {
   "cell_type": "code",
   "execution_count": 7,
   "metadata": {
    "collapsed": true
   },
   "outputs": [],
   "source": [
    "%%bash\n",
    "mkdir -p ../training/parameters"
   ]
  },
  {
   "cell_type": "code",
   "execution_count": 8,
   "metadata": {
    "collapsed": false
   },
   "outputs": [],
   "source": [
    "# create a Clairvoyante\n",
    "m = cv.Clairvoyante()\n",
    "m.init()"
   ]
  },
  {
   "cell_type": "code",
   "execution_count": 9,
   "metadata": {
    "collapsed": false
   },
   "outputs": [
    {
     "name": "stderr",
     "output_type": "stream",
     "text": [
      "43 Training lost: 1.208609375 Validation lost:  1.11404626697\n",
      "86 Training lost: 0.856809814453 Validation lost:  0.820096504631\n",
      "129 Training lost: 0.613249023437 Validation lost:  0.601864911316\n",
      "172 Training lost: 0.514970336914 Validation lost:  0.476326035354\n",
      "215 Training lost: 0.427604736328 Validation lost:  0.41937498932\n",
      "258 Training lost: 0.39278314209 Validation lost:  0.375655061358\n",
      "301 Training lost: 0.446072875977 Validation lost:  0.339337246644\n",
      "344 Training lost: 0.334375061035 Validation lost:  0.30790224443\n",
      "387 Training lost: 0.268884033203 Validation lost:  0.248579298691\n",
      "430 Training lost: 0.248494293213 Validation lost:  0.223824111242\n",
      "473 Training lost: 0.211046157837 Validation lost:  0.202377693401\n",
      "516 Training lost: 0.215674163818 Validation lost:  0.192672185777\n",
      "559 Training lost: 0.23413684082 Validation lost:  0.181043456097\n",
      "602 Training lost: 0.140851196289 Validation lost:  0.174358101277\n",
      "645 Training lost: 0.171062713623 Validation lost:  0.179492730381\n",
      "688 Training lost: 0.194105789185 Validation lost:  0.171295786212\n",
      "731 Training lost: 0.160927368164 Validation lost:  0.16087634581\n",
      "774 Training lost: 0.158157104492 Validation lost:  0.163230557391\n",
      "817 Training lost: 0.152250442505 Validation lost:  0.159076061786\n",
      "860 Training lost: 0.139988647461 Validation lost:  0.159032475576\n",
      "903 Training lost: 0.145205718994 Validation lost:  0.157272195638\n",
      "New learning rate: 1.00e-04\n",
      "946 Training lost: 0.111594665527 Validation lost:  0.150390691748\n",
      "989 Training lost: 0.132175491333 Validation lost:  0.148561483745\n",
      "1032 Training lost: 0.146610397339 Validation lost:  0.14882288976\n",
      "1075 Training lost: 0.146808654785 Validation lost:  0.149456302633\n",
      "1118 Training lost: 0.134453643799 Validation lost:  0.148034655732\n",
      "1161 Training lost: 0.152377532959 Validation lost:  0.148397707281\n",
      "1204 Training lost: 0.13993536377 Validation lost:  0.147236398433\n",
      "1247 Training lost: 0.114748306274 Validation lost:  0.148060976552\n",
      "1290 Training lost: 0.167099472046 Validation lost:  0.147074157164\n",
      "1333 Training lost: 0.12905116272 Validation lost:  0.148457502043\n",
      "1376 Training lost: 0.127032119751 Validation lost:  0.147032795875\n",
      "1419 Training lost: 0.173633026123 Validation lost:  0.146118364305\n",
      "1462 Training lost: 0.0934386291504 Validation lost:  0.147913775752\n",
      "1505 Training lost: 0.119832214355 Validation lost:  0.146209285718\n",
      "1548 Training lost: 0.104145568848 Validation lost:  0.145833885855\n",
      "1591 Training lost: 0.135634841919 Validation lost:  0.14572958154\n",
      "1634 Training lost: 0.135528411865 Validation lost:  0.145010753935\n",
      "1677 Training lost: 0.139526855469 Validation lost:  0.14447972082\n",
      "1720 Training lost: 0.145389785767 Validation lost:  0.145524388164\n",
      "1763 Training lost: 0.124404525757 Validation lost:  0.144988604843\n",
      "New learning rate: 1.00e-05\n",
      "1806 Training lost: 0.155016815186 Validation lost:  0.14463655553\n",
      "1849 Training lost: 0.139564117432 Validation lost:  0.144552965233\n",
      "1892 Training lost: 0.144162475586 Validation lost:  0.144577228001\n",
      "1935 Training lost: 0.122959121704 Validation lost:  0.144316367091\n",
      "1978 Training lost: 0.15964465332 Validation lost:  0.144166930246\n",
      "2021 Training lost: 0.125301040649 Validation lost:  0.144446024386\n",
      "2064 Training lost: 0.131882324219 Validation lost:  0.144460252758\n",
      "2107 Training lost: 0.187229537964 Validation lost:  0.144592858074\n",
      "2150 Training lost: 0.13506439209 Validation lost:  0.144781876271\n",
      "2193 Training lost: 0.122454597473 Validation lost:  0.144367851773\n",
      "2236 Training lost: 0.107691665649 Validation lost:  0.144467672871\n",
      "2279 Training lost: 0.137068206787 Validation lost:  0.144535243734\n",
      "2322 Training lost: 0.136055526733 Validation lost:  0.144609055501\n",
      "2365 Training lost: 0.142343170166 Validation lost:  0.144339083539\n",
      "2408 Training lost: 0.127789230347 Validation lost:  0.144466215548\n",
      "2451 Training lost: 0.132001403809 Validation lost:  0.144433420206\n",
      "2494 Training lost: 0.108256591797 Validation lost:  0.144419380952\n",
      "2537 Training lost: 0.120862579346 Validation lost:  0.144288143963\n",
      "2580 Training lost: 0.148447753906 Validation lost:  0.144443098614\n"
     ]
    }
   ],
   "source": [
    "# training and save the parameters, we train on the first 80% SNP sites and validate on other 20% SNP sites\n",
    "batchSize = 1000\n",
    "validationLosts = []\n",
    "XLen = len(XArray)\n",
    "XIdx = int(XLen * 0.8)\n",
    "epoch = 0\n",
    "for i in range(1, int(XIdx/batchSize)*60+1):\n",
    "    XBatch, YBatch = utils.GetBatch(XArray[:XIdx], YArray[:XIdx], size=batchSize)\n",
    "    loss = m.train(XBatch, YBatch)\n",
    "    if i % int(XIdx / batchSize) == 0:\n",
    "        validationLost = m.getLoss( XArray[XIdx:-1], YArray[XIdx:-1] )\n",
    "        print >> sys.stderr, i,\\\n",
    "                 \"Training lost:\", loss/batchSize,\\\n",
    "                 \"Validation lost: \", validationLost/(XLen-XIdx)\n",
    "        m.saveParameters('../training/parameters/cv.params-%05d' % i)\n",
    "        validationLosts.append( (validationLost, i) )\n",
    "        if epoch and epoch % 20 == 0:\n",
    "            nl = m.setLearningRate()\n",
    "            print >> sys.stderr, \"New learning rate: %.2e\" % nl\n",
    "        epoch += 1\n",
    "        "
   ]
  },
  {
   "cell_type": "code",
   "execution_count": 10,
   "metadata": {
    "collapsed": false,
    "deletable": true,
    "editable": true
   },
   "outputs": [
    {
     "name": "stdout",
     "output_type": "stream",
     "text": [
      "1978\n",
      "INFO:tensorflow:Restoring parameters from ../training/parameters/cv.params-01978\n"
     ]
    },
    {
     "name": "stderr",
     "output_type": "stream",
     "text": [
      "INFO:tensorflow:Restoring parameters from ../training/parameters/cv.params-01978\n"
     ]
    }
   ],
   "source": [
    "# pick the parameter set of the smallest validation loss\n",
    "\n",
    "validationLosts.sort()\n",
    "i = validationLosts[0][1]\n",
    "print i\n",
    "m.restoreParameters('../training/parameters/cv.params-%05d' % i)"
   ]
  },
  {
   "cell_type": "markdown",
   "metadata": {},
   "source": [
    "## Testing using Chr22 variant calls"
   ]
  },
  {
   "cell_type": "code",
   "execution_count": 11,
   "metadata": {
    "collapsed": false
   },
   "outputs": [],
   "source": [
    "XArray2, YArray2, posArray2 = \\\n",
    "utils.GetTrainingArray(\"../training/tensor_chr22\", \n",
    "                       \"../training/var_chr22\", \n",
    "                       \"../testingData/chr22/CHROM22_v.3.3.2_highconf_noinconsistent.bed\",\n",
    "                       \"chr22\")"
   ]
  },
  {
   "cell_type": "code",
   "execution_count": 12,
   "metadata": {
    "collapsed": false
   },
   "outputs": [],
   "source": [
    "batchSize = 1000\n",
    "bases, ts = m.predict(XArray2[0:batchSize])\n",
    "\n",
    "for i in range(batchSize, len(XArray2), batchSize):\n",
    "    base, t = m.predict(XArray2[i:i+batchSize])\n",
    "    bases = np.append(bases, base, 0)\n",
    "    ts = np.append(ts, t, 0)"
   ]
  },
  {
   "cell_type": "code",
   "execution_count": 13,
   "metadata": {
    "collapsed": false
   },
   "outputs": [
    {
     "data": {
      "text/plain": [
       "<matplotlib.image.AxesImage at 0x13f6e5990>"
      ]
     },
     "execution_count": 13,
     "metadata": {},
     "output_type": "execute_result"
    },
    {
     "data": {
      "image/png": "[encoded data removed]",
      "text/plain": [
       "<matplotlib.figure.Figure at 0x13140b750>"
      ]
     },
     "metadata": {},
     "output_type": "display_data"
    },
    {
     "data": {
      "image/png": "[encoded data removed]",
      "text/plain": [
       "<matplotlib.figure.Figure at 0x13025fd50>"
      ]
     },
     "metadata": {},
     "output_type": "display_data"
    }
   ],
   "source": [
    "# we can compare the output of the expected calls and the predicted calls\n",
    "\n",
    "figure(figsize=(15, 5))\n",
    "matshow(YArray2[4000:4150,:].transpose(), fignum=0)\n",
    "figure(figsize=(15, 5))\n",
    "matshow(np.concatenate( (bases[4000:4150,:],ts[4000:4150,:]),1).transpose(), fignum=0)\n"
   ]
  },
  {
   "cell_type": "markdown",
   "metadata": {},
   "source": [
    "## Evaluation"
   ]
  },
  {
   "cell_type": "code",
   "execution_count": 14,
   "metadata": {
    "collapsed": false
   },
   "outputs": [],
   "source": [
    "ed = []\n",
    "for pos, predictV, annotateV in zip(np.array(posArray2), ts, YArray2[:,4:]):\n",
    "    ed.append( (pos, np.argmax(predictV), np.argmax(annotateV)) )\n",
    "ed = np.array(ed)"
   ]
  },
  {
   "cell_type": "code",
   "execution_count": 15,
   "metadata": {
    "collapsed": false
   },
   "outputs": [],
   "source": [
    "from collections import Counter"
   ]
  },
  {
   "cell_type": "code",
   "execution_count": 16,
   "metadata": {
    "collapsed": false
   },
   "outputs": [
    {
     "name": "stdout",
     "output_type": "stream",
     "text": [
      "0 \t23226 \t142 \t0 \t0 \t343 \t\n",
      "1 \t90 \t10510 \t0 \t0 \t26 \t\n",
      "2 \t69 \t18 \t0 \t0 \t182 \t\n",
      "3 \t2 \t0 \t0 \t0 \t29 \t\n",
      "4 \t370 \t28 \t0 \t0 \t14141 \t\n"
     ]
    }
   ],
   "source": [
    "for i in range(5):\n",
    "    cnt = Counter(ed[ed[:,2]==i,1])\n",
    "    print i,\"\\t\",\n",
    "    for j in range(5):\n",
    "        print cnt.get(j,0),\"\\t\",\n",
    "    print"
   ]
  },
  {
   "cell_type": "code",
   "execution_count": 17,
   "metadata": {
    "collapsed": false
   },
   "outputs": [
    {
     "name": "stdout",
     "output_type": "stream",
     "text": [
      "Recall rate for het-call (regardless called variant types): 0.985534140272\n",
      "Recall rate for het-call (called variant type = het): 0.979545358694\n",
      "\n",
      "PPV for het-call (regardless called variant types): 0.984425642968\n",
      "PPV for het-call (called variant type = het): 0.977648693017\n",
      "\n",
      "Recall rate for hom-call (regardless called variant types): 0.997553171466\n",
      "Recall rate for hom-call (called variant type = hom): 0.989083380388\n",
      "\n",
      "PPV for hom-call (regardless called variant types): 0.997382688353\n",
      "PPV for hom-call (called variant type = hom): 0.982426621798\n",
      "\n",
      "Recall rate for all calls: 0.983254900829\n",
      "PPV for all calls: 0.988448701204\n"
     ]
    }
   ],
   "source": [
    "print \"Recall rate for het-call (regardless called variant types):\", 1.0*sum((ed[:,1]!=4) & (ed[:,2]==0))/sum(ed[:,2]==0)\n",
    "print \"Recall rate for het-call (called variant type = het):\",       1.0*sum((ed[:,1]==0) & (ed[:,2]==0))/sum(ed[:,2]==0)\n",
    "print\n",
    "print \"PPV for het-call (regardless called variant types):\", 1.0*sum((ed[:,1]==0) & (ed[:,2]!=4))/sum(ed[:,1]==0)\n",
    "print \"PPV for het-call (called variant type = het):\",       1.0*sum((ed[:,1]==0) & (ed[:,2]==0))/sum(ed[:,1]==0)\n",
    "print\n",
    "print \"Recall rate for hom-call (regardless called variant types):\", 1.0*sum((ed[:,1]!=4) & (ed[:,2]==1))/sum(ed[:,2]==1)\n",
    "print \"Recall rate for hom-call (called variant type = hom):\",       1.0*sum((ed[:,1]==1) & (ed[:,2]==1))/sum(ed[:,2]==1)\n",
    "print\n",
    "print \"PPV for hom-call (regardless called variant types):\", 1.0*sum((ed[:,1]==1) & (ed[:,2]!=4))/sum(ed[:,1]==1)\n",
    "print \"PPV for hom-call (called variant type = hom):\",       1.0*sum((ed[:,1]==1) & (ed[:,2]==1))/sum(ed[:,1]==1)\n",
    "print\n",
    "print \"Recall rate for all calls:\", 1.0*sum((ed[:,1]!=4) & (ed[:,2]!=4))/sum(ed[:,2]!=4) \n",
    "print \"PPV for all calls:\",         1.0*sum((ed[:,1]!=4) & (ed[:,2]!=4))/sum(ed[:,1]!=4) "
   ]
  },
  {
   "cell_type": "code",
   "execution_count": null,
   "metadata": {
    "collapsed": true
   },
   "outputs": [],
   "source": []
  }
 ],
 "metadata": {
  "kernelspec": {
   "display_name": "Python 2",
   "language": "python",
   "name": "python2"
  },
  "language_info": {
   "codemirror_mode": {
    "name": "ipython",
    "version": 2
   },
   "file_extension": ".py",
   "mimetype": "text/x-python",
   "name": "python",
   "nbconvert_exporter": "python",
   "pygments_lexer": "ipython2",
   "version": "2.7.13"
  }
 },
 "nbformat": 4,
 "nbformat_minor": 2
}
