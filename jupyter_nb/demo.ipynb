{
 "cells": [
  {
   "cell_type": "markdown",
   "metadata": {},
   "source": [
    "# Clairvoyante\n"
   ]
  },
  {
   "cell_type": "code",
   "execution_count": 1,
   "metadata": {
    "collapsed": false
   },
   "outputs": [
    {
     "name": "stdout",
     "output_type": "stream",
     "text": [
      "Populating the interactive namespace from numpy and matplotlib\n"
     ]
    }
   ],
   "source": [
    "%matplotlib inline\n",
    "%pylab inline\n",
    "import sys\n",
    "sys.path.append('../')\n",
    "import numpy as np\n",
    "import time\n",
    "import pickle\n",
    "from random import randrange"
   ]
  },
  {
   "cell_type": "code",
   "execution_count": 2,
   "metadata": {
    "collapsed": false
   },
   "outputs": [],
   "source": [
    "#import clairvoyante\n",
    "import clairvoyante.utils as utils\n",
    "import clairvoyante.clairvoyante as cv\n",
    "import clairvoyante.param as param"
   ]
  },
  {
   "cell_type": "markdown",
   "metadata": {},
   "source": [
    "Please run prepDataBeforeDemo.sh to generate training and testing data from BAM and VCF files before proceeding.\n",
    "\n",
    "References:\n",
    "1. The GIAB v3.3.2 NA12878 truth variant dataset is available at ftp://ftp-trace.ncbi.nlm.nih.gov/giab/ftp/release/NA12878_HG001/NISTv3.3.2/GRCh38\n",
    "2. The Illumina alignment is available at ftp://ftp-trace.ncbi.nlm.nih.gov/giab/ftp/data/NA12878/NIST_NA12878_HG001_HiSeq_300x/, the chr21.bam and chr22.bam were extracted from the HG001.GRCh38_full_plus_hs38d1_analysis_set_minus_alts.300x.bam file, downsampled to 50x.\n",
    "\n",
    "#### prepDataBeforeDemo.sh:\n",
    "```\n",
    "mkdir ../training\n",
    "python ../dataPrepScripts/ExtractVariantCandidates.py --bam_fn ../testingData/chr21/chr21.bam --ref_fn ../testingData/chr21/chr21.fa --can_fn ../training/can_chr21 --ctgName chr21 --ctgStart 10269870 --ctgEnd 46672937 &\n",
    "python ../dataPrepScripts/GetTruth.py --vcf_fn ../testingData/chr21/chr21.vcf --var_fn ../training/var_chr21 --ctgName chr21 &\n",
    "python ../dataPrepScripts/ExtractVariantCandidates.py --bam_fn ../testingData/chr22/chr22.bam --ref_fn ../testingData/chr22/chr22.fa --can_fn ../training/can_chr22 --ctgName chr22 --ctgStart 18924717 --ctgEnd 49973797 &\n",
    "python ../dataPrepScripts/GetTruth.py --vcf_fn ../testingData/chr22/chr22.vcf --var_fn ../training/var_chr22 --ctgName chr22 &\n",
    "wait\n",
    "\n",
    "python ../dataPrepScripts/CreateTensor.py --bam_fn ../testingData/chr21/chr21.bam --can_fn ../training/can_chr21 --ref_fn ../testingData/chr21/chr21.fa --tensor_fn ../training/tensor_can_chr21 --ctgName chr21 --ctgStart 10269870 --ctgEnd 46672937 &\n",
    "python ../dataPrepScripts/CreateTensor.py --bam_fn ../testingData/chr22/chr22.bam --can_fn ../training/can_chr22 --ref_fn ../testingData/chr22/chr22.fa --tensor_fn ../training/tensor_can_chr22 --ctgName chr22 --ctgStart 18924717 --ctgEnd 49973797 &\n",
    "wait\n",
    "\n",
    "cat ../training/can_chr21 ../training/can_chr22 > ../training/can_mul\n",
    "cat ../training/var_chr21 ../training/var_chr22 > ../training/var_mul\n",
    "cat ../training/tensor_can_chr21 ../training/tensor_can_chr22 > ../training/tensor_can_mul\n",
    "cat ../testingData/chr21/chr21.bed ../testingData/chr22/chr22.bed > ../training/bed\n",
    "python tensor2Bin.py --tensor_fn ../training/tensor_can_mul --var_fn ../training/var_mul --bed_fn ../training/bed --bin_fn ../training/tensor.bin\n",
    "```"
   ]
  },
  {
   "cell_type": "markdown",
   "metadata": {},
   "source": [
    "## Train using the chr21+chr22 variants"
   ]
  },
  {
   "cell_type": "code",
   "execution_count": 3,
   "metadata": {
    "collapsed": false
   },
   "outputs": [],
   "source": [
    "# Load the preprocessed and compressed tensors into memory\n",
    "with open(\"../training/tensor.bin\", \"rb\") as fh:\n",
    "    total = pickle.load(fh)\n",
    "    XArrayCompressed = pickle.load(fh)\n",
    "    YArrayCompressed = pickle.load(fh)\n",
    "    posArrayCompressed = pickle.load(fh)"
   ]
  },
  {
   "cell_type": "code",
   "execution_count": 4,
   "metadata": {
    "collapsed": false
   },
   "outputs": [
    {
     "name": "stderr",
     "output_type": "stream",
     "text": [
      "The size of training dataset: 132765\n"
     ]
    }
   ],
   "source": [
    "print >> sys.stderr, \"The size of training dataset: {}\".format(total)"
   ]
  },
  {
   "cell_type": "code",
   "execution_count": 5,
   "metadata": {
    "collapsed": true
   },
   "outputs": [],
   "source": [
    "# Pick a random candidate\n",
    "i = randrange(total)\n",
    "XArray, _, _ = utils.DecompressArray(XArrayCompressed, i, 1, total)"
   ]
  },
  {
   "cell_type": "code",
   "execution_count": 6,
   "metadata": {
    "collapsed": false
   },
   "outputs": [
    {
     "data": {
      "text/plain": [
       "<matplotlib.colorbar.Colorbar at 0x115591950>"
      ]
     },
     "execution_count": 6,
     "metadata": {},
     "output_type": "execute_result"
    },
    {
     "data": {
      "image/png": "[encoded data removed]",
      "text/plain": [
       "<matplotlib.figure.Figure at 0x113f6aad0>"
      ]
     },
     "metadata": {},
     "output_type": "display_data"
    },
    {
     "data": {
      "image/png": "[encoded data removed]",
      "text/plain": [
       "<matplotlib.figure.Figure at 0x1151fa150>"
      ]
     },
     "metadata": {},
     "output_type": "display_data"
    },
    {
     "data": {
      "image/png": "[encoded data removed]",
      "text/plain": [
       "<matplotlib.figure.Figure at 0x115352b10>"
      ]
     },
     "metadata": {},
     "output_type": "display_data"
    },
    {
     "data": {
      "image/png": "[encoded data removed]",
      "text/plain": [
       "<matplotlib.figure.Figure at 0x11546dbd0>"
      ]
     },
     "metadata": {},
     "output_type": "display_data"
    }
   ],
   "source": [
    "# Show how the four matrices are like\n",
    "figure(figsize=(15, 2)); matshow(XArray[0,:,:,0].transpose(), vmin=0, vmax=50, cmap=cm.hot, fignum=0); colorbar()\n",
    "figure(figsize=(15, 2)); matshow(XArray[0,:,:,1].transpose(), vmin=-50, vmax=50, cmap=cm.bwr, fignum=0); colorbar()\n",
    "figure(figsize=(15, 2)); matshow(XArray[0,:,:,2].transpose(), vmin=-50, vmax=50, cmap=cm.bwr, fignum=0); colorbar()\n",
    "figure(figsize=(15, 2)); matshow(XArray[0,:,:,3].transpose(), vmin=-50, vmax=50, cmap=cm.bwr, fignum=0); colorbar()"
   ]
  },
  {
   "cell_type": "code",
   "execution_count": 7,
   "metadata": {
    "collapsed": false
   },
   "outputs": [],
   "source": [
    "# create a Clairvoyante network\n",
    "m = cv.Clairvoyante()\n",
    "m.init()"
   ]
  },
  {
   "cell_type": "code",
   "execution_count": 8,
   "metadata": {
    "collapsed": false
   },
   "outputs": [
    {
     "name": "stderr",
     "output_type": "stream",
     "text": [
      "Start at learning rate: 1.00e-03\n",
      "Number of variants for validation: 13276\n",
      "27 Training lost: 0.468646679688 Validation lost:  0.76480761807 Epoch time elapsed: 78.58 s\n",
      "53 Training lost: 0.323882617187 Validation lost:  0.5434867121 Epoch time elapsed: 90.91 s\n",
      "79 Training lost: 0.186701477051 Validation lost:  0.302858744015 Epoch time elapsed: 97.61 s\n",
      "105 Training lost: 0.125648339844 Validation lost:  0.218032988628 Epoch time elapsed: 97.31 s\n",
      "131 Training lost: 0.104345605469 Validation lost:  0.168846707345 Epoch time elapsed: 89.72 s\n",
      "157 Training lost: 0.08053671875 Validation lost:  0.128230716421 Epoch time elapsed: 87.83 s\n",
      "183 Training lost: 0.0592120239258 Validation lost:  0.0896385953742 Epoch time elapsed: 87.79 s\n",
      "209 Training lost: 0.0547924316406 Validation lost:  0.0742770359077 Epoch time elapsed: 89.04 s\n",
      "235 Training lost: 0.0418676757813 Validation lost:  0.0701548135866 Epoch time elapsed: 98.72 s\n",
      "261 Training lost: 0.0382120849609 Validation lost:  0.0558404695488 Epoch time elapsed: 97.36 s\n",
      "287 Training lost: 0.0340536407471 Validation lost:  0.0533039061985 Epoch time elapsed: 97.48 s\n",
      "313 Training lost: 0.0318329772949 Validation lost:  0.049978285534 Epoch time elapsed: 98.96 s\n",
      "339 Training lost: 0.0298168823242 Validation lost:  0.0472455876676 Epoch time elapsed: 96.36 s\n",
      "365 Training lost: 0.0264241394043 Validation lost:  0.0462463047893 Epoch time elapsed: 93.78 s\n",
      "391 Training lost: 0.0256468139648 Validation lost:  0.0433542470538 Epoch time elapsed: 95.05 s\n",
      "417 Training lost: 0.0247848236084 Validation lost:  0.0400567946933 Epoch time elapsed: 98.21 s\n",
      "443 Training lost: 0.0238520477295 Validation lost:  0.0395569739553 Epoch time elapsed: 95.98 s\n",
      "469 Training lost: 0.0247812866211 Validation lost:  0.0377054815014 Epoch time elapsed: 102.67 s\n",
      "495 Training lost: 0.0212764099121 Validation lost:  0.0349416477057 Epoch time elapsed: 103.72 s\n",
      "521 Training lost: 0.0217735992432 Validation lost:  0.0347801615366 Epoch time elapsed: 105.01 s\n",
      "547 Training lost: 0.0206367614746 Validation lost:  0.0327403708444 Epoch time elapsed: 98.57 s\n",
      "573 Training lost: 0.0194391296387 Validation lost:  0.032341791873 Epoch time elapsed: 103.00 s\n",
      "599 Training lost: 0.0192797042847 Validation lost:  0.0307989669299 Epoch time elapsed: 102.65 s\n",
      "625 Training lost: 0.0183095611572 Validation lost:  0.0302346032152 Epoch time elapsed: 101.47 s\n",
      "651 Training lost: 0.0172623397827 Validation lost:  0.0321697707491 Epoch time elapsed: 99.24 s\n",
      "677 Training lost: 0.0172106994629 Validation lost:  0.0304998942045 Epoch time elapsed: 97.99 s\n",
      "New learning rate: 5.00e-04\n",
      "703 Training lost: 0.0148001800537 Validation lost:  0.0279766150575 Epoch time elapsed: 97.72 s\n",
      "729 Training lost: 0.0130853134155 Validation lost:  0.0266466683816 Epoch time elapsed: 95.07 s\n",
      "755 Training lost: 0.0124948524475 Validation lost:  0.026605388277 Epoch time elapsed: 97.86 s\n",
      "781 Training lost: 0.0127177276611 Validation lost:  0.0260035396161 Epoch time elapsed: 98.68 s\n",
      "807 Training lost: 0.0126578216553 Validation lost:  0.0257952173778 Epoch time elapsed: 105.21 s\n",
      "833 Training lost: 0.0107394897461 Validation lost:  0.0251526839764 Epoch time elapsed: 96.16 s\n",
      "859 Training lost: 0.0119227493286 Validation lost:  0.0246705379641 Epoch time elapsed: 96.77 s\n",
      "885 Training lost: 0.0108026702881 Validation lost:  0.0239389849988 Epoch time elapsed: 96.77 s\n",
      "911 Training lost: 0.0103335708618 Validation lost:  0.0238503516169 Epoch time elapsed: 97.09 s\n",
      "937 Training lost: 0.0110235397339 Validation lost:  0.0233342284788 Epoch time elapsed: 98.13 s\n",
      "963 Training lost: 0.0104822891235 Validation lost:  0.0230741716358 Epoch time elapsed: 97.95 s\n",
      "989 Training lost: 0.00965727996826 Validation lost:  0.0224709736363 Epoch time elapsed: 96.09 s\n",
      "1015 Training lost: 0.00921660614014 Validation lost:  0.0225521500264 Epoch time elapsed: 95.95 s\n",
      "1041 Training lost: 0.00916436309814 Validation lost:  0.022026376934 Epoch time elapsed: 89.90 s\n",
      "New learning rate: 2.50e-04\n",
      "1067 Training lost: 0.00947588882446 Validation lost:  0.0228359892484 Epoch time elapsed: 88.98 s\n",
      "1093 Training lost: 0.00909578399658 Validation lost:  0.0218308010027 Epoch time elapsed: 88.93 s\n",
      "1119 Training lost: 0.0092972869873 Validation lost:  0.0215412931796 Epoch time elapsed: 87.97 s\n",
      "1145 Training lost: 0.00886124649048 Validation lost:  0.0212217918826 Epoch time elapsed: 88.58 s\n",
      "1171 Training lost: 0.00823346710205 Validation lost:  0.0212161853465 Epoch time elapsed: 88.21 s\n",
      "1197 Training lost: 0.00958878326416 Validation lost:  0.0214723987585 Epoch time elapsed: 89.13 s\n",
      "1223 Training lost: 0.00856578979492 Validation lost:  0.0206501159944 Epoch time elapsed: 87.82 s\n",
      "Training time elapsed: 4484.01 s\n"
     ]
    }
   ],
   "source": [
    "# training the model. The code train on all variants and validate on the first 10% variant sites\n",
    "trainingStart = time.time()\n",
    "trainBatchSize = param.trainBatchSize\n",
    "validationLosts = []\n",
    "numValItems = int(len(XArray) * 0.1 + 0.499)\n",
    "print >> sys.stderr, \"Start at learning rate: %.2e\" % m.setLearningRate(0.001)\n",
    "c = 0; maxLearningRateSwitch = 3\n",
    "epochStart = time.time()\n",
    "datasetPtr = 0\n",
    "numValItems = int(total * 0.1 + 0.499)\n",
    "valXArray, _, _ = utils.DecompressArray(XArrayCompressed, 0, numValItems, total)\n",
    "valYArray, _, _ = utils.DecompressArray(YArrayCompressed, 0, numValItems, total)\n",
    "print >> sys.stderr, \"Number of variants for validation: %d\" % len(valXArray)\n",
    "i = 1\n",
    "while i < (1 + int(param.maxEpoch * total / trainBatchSize + 0.499)):\n",
    "    XBatch, _, endFlag = utils.DecompressArray(XArrayCompressed, datasetPtr, trainBatchSize, total)\n",
    "    YBatch, _, _ = utils.DecompressArray(YArrayCompressed, datasetPtr, trainBatchSize, total)\n",
    "    loss, _ = m.train(XBatch, YBatch)\n",
    "    if endFlag != 0:\n",
    "        validationLost = m.getLoss( valXArray, valYArray )\n",
    "        print >> sys.stderr, \" \".join([str(i),\\\n",
    "                                       \"Training lost:\", str(loss/trainBatchSize),\\\n",
    "                                       \"Validation lost: \", str(validationLost/numValItems),\\\n",
    "                                       \"Epoch time elapsed: %.2f s\" % (time.time() - epochStart)])\n",
    "        validationLosts.append( (validationLost, i) )\n",
    "        c += 1\n",
    "        flag = 0\n",
    "        if c >= 4:\n",
    "            if validationLosts[-4][0] - validationLosts[-3][0] > 0:\n",
    "                if validationLosts[-3][0] - validationLosts[-2][0] < 0:\n",
    "                    if validationLosts[-2][0] - validationLosts[-1][0] > 0:\n",
    "                        flag = 1\n",
    "            elif validationLosts[-4][0] - validationLosts[-3][0] < 0:\n",
    "                if validationLosts[-3][0] - validationLosts[-2][0] > 0:\n",
    "                    if validationLosts[-2][0] - validationLosts[-1][0] < 0:\n",
    "                        flag = 1\n",
    "            else: flag = 1\n",
    "        if flag == 1:\n",
    "            maxLearningRateSwitch -= 1\n",
    "            if maxLearningRateSwitch == 0: break\n",
    "            print >> sys.stderr, \"New learning rate: %.2e\" % m.setLearningRate()\n",
    "            c = 0\n",
    "        epochStart = time.time()\n",
    "        datasetPtr = 0\n",
    "    i += 1\n",
    "    datasetPtr += trainBatchSize\n",
    "\n",
    "print >> sys.stderr, \"Training time elapsed: %.2f s\" % (time.time() - trainingStart)"
   ]
  },
  {
   "cell_type": "markdown",
   "metadata": {},
   "source": [
    "## Testing on the training dataset"
   ]
  },
  {
   "cell_type": "code",
   "execution_count": 9,
   "metadata": {
    "collapsed": false
   },
   "outputs": [
    {
     "name": "stderr",
     "output_type": "stream",
     "text": [
      "Prediciton time elapsed: 27.21 s\n",
      "Model evaluation on the training dataset:\n",
      "50431\t2\t1\t0\t97\n",
      "10\t27664\t1\t0\t0\n",
      "14\t4\t129\t0\t3\n",
      "2\t0\t5\t30\t9\n",
      "83\t3\t15\t6\t54256\n"
     ]
    }
   ],
   "source": [
    "predictStart = time.time()\n",
    "predictBatchSize = param.predictBatchSize\n",
    "datasetPtr = 0\n",
    "XBatch, _, _ = utils.DecompressArray(XArrayCompressed, datasetPtr, predictBatchSize, total)\n",
    "bases, ts = m.predict(XBatch)\n",
    "datasetPtr += predictBatchSize\n",
    "while datasetPtr < total:\n",
    "    XBatch, _, endFlag = utils.DecompressArray(XArrayCompressed, datasetPtr, predictBatchSize, total)\n",
    "    base, t = m.predict(XBatch)\n",
    "    bases = np.append(bases, base, 0)\n",
    "    ts = np.append(ts, t, 0)\n",
    "    datasetPtr += predictBatchSize\n",
    "    if endFlag != 0:\n",
    "        break\n",
    "print >> sys.stderr, \"Prediciton time elapsed: %.2f s\" % (time.time() - predictStart)\n",
    "\n",
    "\n",
    "YArray, _, _ = utils.DecompressArray(YArrayCompressed, 0, total, total)\n",
    "print >> sys.stderr, \"Model evaluation on the training dataset:\"\n",
    "ed = np.zeros( (5,5), dtype=np.int )\n",
    "for predictV, annotateV in zip(ts, YArray[:,4:]):\n",
    "    ed[np.argmax(annotateV)][np.argmax(predictV)] += 1\n",
    "\n",
    "for i in range(5):\n",
    "    print >> sys.stderr, \"\\t\".join([str(ed[i][j]) for j in range(5)])"
   ]
  },
  {
   "cell_type": "markdown",
   "metadata": {},
   "source": [
    "## Testing on the chr22 variants"
   ]
  },
  {
   "cell_type": "code",
   "execution_count": 10,
   "metadata": {
    "collapsed": false
   },
   "outputs": [],
   "source": [
    "total, XArrayCompressed, YArrayCompressed, posArrayCompressed = \\\n",
    "utils.GetTrainingArray(\"../training/tensor_can_chr22\",\n",
    "                       \"../training/var_chr22\",\n",
    "                       \"../training/bed\")\n",
    "YArray, _, _ = utils.DecompressArray(YArrayCompressed, 0, total, total)"
   ]
  },
  {
   "cell_type": "code",
   "execution_count": null,
   "metadata": {
    "collapsed": false
   },
   "outputs": [],
   "source": [
    "predictStart = time.time()\n",
    "predictBatchSize = param.predictBatchSize\n",
    "datasetPtr = 0\n",
    "XBatch, _, _ = utils.DecompressArray(XArrayCompressed, datasetPtr, predictBatchSize, total)\n",
    "bases, ts = m.predict(XBatch)\n",
    "datasetPtr += predictBatchSize\n",
    "while datasetPtr < total:\n",
    "    XBatch, _, endFlag = utils.DecompressArray(XArrayCompressed, datasetPtr, predictBatchSize, total)\n",
    "    base, t = m.predict(XBatch)\n",
    "    bases = np.append(bases, base, 0)\n",
    "    ts = np.append(ts, t, 0)\n",
    "    datasetPtr += predictBatchSize\n",
    "    if endFlag != 0:\n",
    "        break\n",
    "print >> sys.stderr, \"Time elapsed: %.2f s\" % (time.time() - predictStart)\n",
    "\n",
    "print >> sys.stderr, \"Model evaluation on the chr22 variants:\"\n",
    "ed = np.zeros( (5,5), dtype=np.int )\n",
    "for predictV, annotateV in zip(ts, YArray[:,4:]):\n",
    "    ed[np.argmax(annotateV)][np.argmax(predictV)] += 1\n",
    "\n",
    "for i in range(5):\n",
    "    print >> sys.stderr, \"\\t\".join([str(ed[i][j]) for j in range(5)])"
   ]
  },
  {
   "cell_type": "markdown",
   "metadata": {},
   "source": [
    "## Visualizing predictions"
   ]
  },
  {
   "cell_type": "code",
   "execution_count": 12,
   "metadata": {
    "collapsed": false
   },
   "outputs": [
    {
     "data": {
      "text/plain": [
       "<matplotlib.image.AxesImage at 0x1159e0210>"
      ]
     },
     "execution_count": 12,
     "metadata": {},
     "output_type": "execute_result"
    },
    {
     "data": {
      "image/png": "[encoded data removed]",
      "text/plain": [
       "<matplotlib.figure.Figure at 0x115ddab90>"
      ]
     },
     "metadata": {},
     "output_type": "display_data"
    },
    {
     "data": {
      "image/png": "[encoded data removed]",
      "text/plain": [
       "<matplotlib.figure.Figure at 0x115dada90>"
      ]
     },
     "metadata": {},
     "output_type": "display_data"
    }
   ],
   "source": [
    "# Compare the output of the expected calls and the predicted calls\n",
    "arrayStart = 0\n",
    "arrayEnd = 100\n",
    "figure(figsize=(20, 5))\n",
    "matshow(YArray[arrayStart:arrayEnd,:].transpose(), fignum=0, cmap=cm.PuRd)\n",
    "figure(figsize=(20, 5))\n",
    "matshow(np.concatenate( (bases[arrayStart:arrayEnd,:],ts[arrayStart:arrayEnd,:]),1).transpose(), fignum=0, cmap=cm.PuRd)"
   ]
  }
 ],
 "metadata": {
  "kernelspec": {
   "display_name": "Python 2",
   "language": "python",
   "name": "python2"
  },
  "language_info": {
   "codemirror_mode": {
    "name": "ipython",
    "version": 2
   },
   "file_extension": ".py",
   "mimetype": "text/x-python",
   "name": "python",
   "nbconvert_exporter": "python",
   "pygments_lexer": "ipython2",
   "version": "2.7.13"
  }
 },
 "nbformat": 4,
 "nbformat_minor": 2
}
