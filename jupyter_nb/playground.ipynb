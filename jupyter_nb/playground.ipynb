{
 "cells": [
  {
   "cell_type": "markdown",
   "metadata": {},
   "source": [
    "# Clairvoyante\n"
   ]
  },
  {
   "cell_type": "code",
   "execution_count": 1,
   "metadata": {
    "collapsed": false
   },
   "outputs": [
    {
     "name": "stdout",
     "output_type": "stream",
     "text": [
      "Populating the interactive namespace from numpy and matplotlib\n"
     ]
    }
   ],
   "source": [
    "%matplotlib inline\n",
    "%pylab inline\n",
    "import sys\n",
    "sys.path.append('../')\n",
    "import time\n",
    "import numpy as np\n",
    "import tensorflow as tf"
   ]
  },
  {
   "cell_type": "code",
   "execution_count": 2,
   "metadata": {
    "collapsed": false
   },
   "outputs": [],
   "source": [
    "#import clairvoyante\n",
    "import clairvoyante.utils_v2 as utils\n",
    "import clairvoyante.clairvoyante_v2 as cv\n",
    "import clairvoyante.param as param"
   ]
  },
  {
   "cell_type": "markdown",
   "metadata": {},
   "source": [
    "## Load a trained model for Illumina sequencing data"
   ]
  },
  {
   "cell_type": "code",
   "execution_count": 3,
   "metadata": {
    "collapsed": false
   },
   "outputs": [
    {
     "name": "stdout",
     "output_type": "stream",
     "text": [
      "INFO:tensorflow:Restoring parameters from ../trainedModels/illumina2/full_round4-less17-031351\n"
     ]
    },
    {
     "name": "stderr",
     "output_type": "stream",
     "text": [
      "INFO:tensorflow:Restoring parameters from ../trainedModels/illumina2/full_round4-less17-031351\n"
     ]
    }
   ],
   "source": [
    "# Load a trained model into memory\n",
    "m = cv.Clairvoyante()\n",
    "m.init()\n",
    "m.restoreParameters(\"../trainedModels/illumina2/full_round4-less17-031351\")"
   ]
  },
  {
   "cell_type": "code",
   "execution_count": 4,
   "metadata": {
    "collapsed": false
   },
   "outputs": [
    {
     "name": "stderr",
     "output_type": "stream",
     "text": [
      "YBaseChangeSigmoid/bias: [4] => 4\n",
      "YBaseChangeSigmoid/kernel: [168, 4] => 672\n",
      "YIndelLengthFC/bias: [6] => 6\n",
      "YIndelLengthFC/kernel: [168, 6] => 1008\n",
      "YVarTypeFC/bias: [4] => 4\n",
      "YVarTypeFC/kernel: [168, 4] => 672\n",
      "YZygosityFC/bias: [2] => 2\n",
      "YZygosityFC/kernel: [168, 2] => 336\n",
      "conv1/bias: [16] => 16\n",
      "conv1/kernel: [1, 4, 4, 16] => 256\n",
      "conv2/bias: [32] => 32\n",
      "conv2/kernel: [2, 4, 16, 32] => 4096\n",
      "conv3/bias: [48] => 48\n",
      "conv3/kernel: [3, 4, 32, 48] => 18432\n",
      "fc4/bias: [336] => 336\n",
      "fc4/kernel: [4608, 336] => 1548288\n",
      "fc5/bias: [168] => 168\n",
      "fc5/kernel: [336, 168] => 56448\n",
      "Total number of parameters: 1630824\n"
     ]
    }
   ],
   "source": [
    "# Show the number of parameters of the model\n",
    "r = tf.train.NewCheckpointReader(\"../trainedModels/illumina2/full_round4-less17-031351\")\n",
    "p = r.get_variable_to_shape_map()\n",
    "tot = 0\n",
    "for k, v in sorted(p.items(), key=lambda x: x[0]):\n",
    "    if 'Momentum' not in k and\\\n",
    "       'global_step' not in k and\\\n",
    "       'Adam' not in k and\\\n",
    "       'power' not in k:\n",
    "        tmp = np.prod(v)\n",
    "        tot += tmp\n",
    "        print >> sys.stderr, '%s: %s => %d' % (k, str(v), tmp)\n",
    "print >> sys.stderr, 'Total number of parameters: %d' % tot"
   ]
  },
  {
   "cell_type": "code",
   "execution_count": 5,
   "metadata": {
    "collapsed": false
   },
   "outputs": [
    {
     "name": "stderr",
     "output_type": "stream",
     "text": [
      "YBaseChangeSigmoid/bias: [4] => 4\n",
      "YBaseChangeSigmoid/kernel: [18, 4] => 72\n",
      "YIndelLengthFC/bias: [6] => 6\n",
      "YIndelLengthFC/kernel: [18, 6] => 108\n",
      "YVarTypeFC/bias: [4] => 4\n",
      "YVarTypeFC/kernel: [18, 4] => 72\n",
      "YZygosityFC/bias: [2] => 2\n",
      "YZygosityFC/kernel: [18, 2] => 36\n",
      "conv1/bias: [8] => 8\n",
      "conv1/kernel: [1, 4, 4, 8] => 128\n",
      "conv2/bias: [16] => 16\n",
      "conv2/kernel: [3, 4, 8, 16] => 1536\n",
      "conv3/bias: [32] => 32\n",
      "conv3/kernel: [5, 4, 16, 32] => 10240\n",
      "fc4/bias: [36] => 36\n",
      "fc4/kernel: [4224, 36] => 152064\n",
      "fc5/bias: [18] => 18\n",
      "fc5/kernel: [36, 18] => 648\n",
      "Total number of parameters: 165030\n"
     ]
    }
   ],
   "source": [
    "r = tf.train.NewCheckpointReader(\"../trainedModels/slim_illumina2/slim_round1-less22-021625\")\n",
    "p = r.get_variable_to_shape_map()\n",
    "tot = 0\n",
    "for k, v in sorted(p.items(), key=lambda x: x[0]):\n",
    "    if 'Momentum' not in k and\\\n",
    "       'global_step' not in k and\\\n",
    "       'Adam' not in k and\\\n",
    "       'power' not in k:\n",
    "        tmp = np.prod(v)\n",
    "        tot += tmp\n",
    "        print >> sys.stderr, '%s: %s => %d' % (k, str(v), tmp)\n",
    "print >> sys.stderr, 'Total number of parameters: %d' % tot"
   ]
  },
  {
   "cell_type": "code",
   "execution_count": 6,
   "metadata": {
    "collapsed": false
   },
   "outputs": [],
   "source": [
    "total, XArrayCompressed, YArrayCompressed, posArrayCompressed = \\\n",
    "utils.GetTrainingArray(\"../training/tensor_can_chr22\",\n",
    "                       \"../training/var_chr22\",\n",
    "                       \"../training/bed\",\n",
    "                       shuffle = False)"
   ]
  },
  {
   "cell_type": "code",
   "execution_count": 7,
   "metadata": {
    "collapsed": true
   },
   "outputs": [],
   "source": [
    "# Pick a random candidate\n",
    "i = 0\n",
    "XArray, _, _ = utils.DecompressArray(XArrayCompressed, i, 1, total)"
   ]
  },
  {
   "cell_type": "code",
   "execution_count": 8,
   "metadata": {
    "collapsed": false
   },
   "outputs": [
    {
     "data": {
      "text/plain": [
       "<matplotlib.colorbar.Colorbar at 0x11431ea50>"
      ]
     },
     "execution_count": 8,
     "metadata": {},
     "output_type": "execute_result"
    },
    {
     "data": {
      "image/png": "[encoded data removed]",
      "text/plain": [
       "<matplotlib.figure.Figure at 0x11396a410>"
      ]
     },
     "metadata": {},
     "output_type": "display_data"
    },
    {
     "data": {
      "image/png": "[encoded data removed]",
      "text/plain": [
       "<matplotlib.figure.Figure at 0x113ea7850>"
      ]
     },
     "metadata": {},
     "output_type": "display_data"
    },
    {
     "data": {
      "image/png": "[encoded data removed]",
      "text/plain": [
       "<matplotlib.figure.Figure at 0x11414ab50>"
      ]
     },
     "metadata": {},
     "output_type": "display_data"
    },
    {
     "data": {
      "image/png": "[encoded data removed]",
      "text/plain": [
       "<matplotlib.figure.Figure at 0x114903ad0>"
      ]
     },
     "metadata": {},
     "output_type": "display_data"
    }
   ],
   "source": [
    "# Show how the four matrices are like\n",
    "figure(figsize=(15, 2)); matshow(XArray[0,:,:,0].transpose(), vmin=0, vmax=50, cmap=cm.hot, fignum=0); colorbar()\n",
    "figure(figsize=(15, 2)); matshow(XArray[0,:,:,1].transpose(), vmin=-50, vmax=50, cmap=cm.bwr, fignum=0); colorbar()\n",
    "figure(figsize=(15, 2)); matshow(XArray[0,:,:,2].transpose(), vmin=-50, vmax=50, cmap=cm.bwr, fignum=0); colorbar()\n",
    "figure(figsize=(15, 2)); matshow(XArray[0,:,:,3].transpose(), vmin=-50, vmax=50, cmap=cm.bwr, fignum=0); colorbar()"
   ]
  },
  {
   "cell_type": "markdown",
   "metadata": {},
   "source": [
    "## Testing on the variants"
   ]
  },
  {
   "cell_type": "code",
   "execution_count": 12,
   "metadata": {
    "collapsed": false
   },
   "outputs": [
    {
     "name": "stderr",
     "output_type": "stream",
     "text": [
      "Testing on the training and validation dataset ...\n",
      "Prediciton time elapsed: 21.84 s\n",
      "Version 2 model, evaluation on base change:\n",
      "all/top1/top2/top1p/top2p: 69760/57817/69748/82.88/99.98\n",
      "Version 2 model, evaluation on Zygosity:\n",
      "23901\t11\n",
      "116\t45732\n",
      "Version 2 model, evaluation on variant type:\n",
      "35104\t117\t2\t2\n",
      "6\t34434\t1\t0\n",
      "1\t3\t68\t0\n",
      "0\t0\t0\t22\n",
      "Version 2 model, evaluation on indel length:\n",
      "69660\t4\t0\t0\t0\t2\n",
      "2\t52\t0\t0\t0\t0\n",
      "4\t0\t13\t0\t0\t0\n",
      "1\t1\t0\t5\t0\t0\n",
      "1\t0\t0\t0\t4\t0\n",
      "0\t0\t0\t0\t0\t11\n"
     ]
    }
   ],
   "source": [
    "print >> sys.stderr, \"Testing on the training and validation dataset ...\"\n",
    "predictStart = time.time()\n",
    "predictBatchSize = param.predictBatchSize\n",
    "datasetPtr = 0\n",
    "XBatch, _, _ = utils.DecompressArray(XArrayCompressed, datasetPtr, predictBatchSize, total)\n",
    "bases = []; zs = []; ts = []; ls = []\n",
    "base, z, t, l = m.predict(XBatch)\n",
    "bases.append(base); zs.append(z); ts.append(t); ls.append(l)\n",
    "datasetPtr += predictBatchSize\n",
    "while datasetPtr < total:\n",
    "    XBatch, _, endFlag = utils.DecompressArray(XArrayCompressed, datasetPtr, predictBatchSize, total)\n",
    "    base, z, t, l = m.predict(XBatch)\n",
    "    bases.append(base); zs.append(z); ts.append(t); ls.append(l)\n",
    "    datasetPtr += predictBatchSize\n",
    "    if endFlag != 0:\n",
    "        break\n",
    "bases = np.concatenate(bases[:]); zs = np.concatenate(zs[:]); ts = np.concatenate(ts[:]); ls = np.concatenate(ls[:])\n",
    "print >> sys.stderr, \"Prediciton time elapsed: %.2f s\" % (time.time() - predictStart)\n",
    "\n",
    "# Evaluate the trained model\n",
    "YArray, _, _ = utils.DecompressArray(YArrayCompressed, 0, total, total)\n",
    "print >> sys.stderr, \"Version 2 model, evaluation on base change:\"\n",
    "allBaseCount = top1Count = top2Count = 0\n",
    "for predictV, annotateV in zip(bases, YArray[:,0:4]):\n",
    "    allBaseCount += 1\n",
    "    sortPredictV = predictV.argsort()[::-1]\n",
    "    if np.argmax(annotateV) == sortPredictV[0]: top1Count += 1; top2Count += 1\n",
    "    elif np.argmax(annotateV) == sortPredictV[1]: top2Count += 1\n",
    "print >> sys.stderr, \"all/top1/top2/top1p/top2p: %d/%d/%d/%.2f/%.2f\" %\\\n",
    "            (allBaseCount, top1Count, top2Count, float(top1Count)/allBaseCount*100, float(top2Count)/allBaseCount*100)\n",
    "print >> sys.stderr, \"Version 2 model, evaluation on Zygosity:\"\n",
    "ed = np.zeros( (2,2), dtype=np.int )\n",
    "for predictV, annotateV in zip(zs, YArray[:,4:6]):\n",
    "    ed[np.argmax(annotateV)][np.argmax(predictV)] += 1\n",
    "for i in range(2):\n",
    "    print >> sys.stderr, \"\\t\".join([str(ed[i][j]) for j in range(2)])\n",
    "print >> sys.stderr, \"Version 2 model, evaluation on variant type:\"\n",
    "ed = np.zeros( (4,4), dtype=np.int )\n",
    "for predictV, annotateV in zip(ts, YArray[:,6:10]):\n",
    "    ed[np.argmax(annotateV)][np.argmax(predictV)] += 1\n",
    "for i in range(4):\n",
    "    print >> sys.stderr, \"\\t\".join([str(ed[i][j]) for j in range(4)])\n",
    "print >> sys.stderr, \"Version 2 model, evaluation on indel length:\"\n",
    "ed = np.zeros( (6,6), dtype=np.int )\n",
    "for predictV, annotateV in zip(ls, YArray[:,10:16]):\n",
    "    ed[np.argmax(annotateV)][np.argmax(predictV)] += 1\n",
    "for i in range(6):\n",
    "    print >> sys.stderr, \"\\t\".join([str(ed[i][j]) for j in range(6)])"
   ]
  },
  {
   "cell_type": "markdown",
   "metadata": {},
   "source": [
    "## Visualizing predictions"
   ]
  },
  {
   "cell_type": "code",
   "execution_count": 14,
   "metadata": {
    "collapsed": false
   },
   "outputs": [
    {
     "data": {
      "text/plain": [
       "<matplotlib.image.AxesImage at 0x1148b9290>"
      ]
     },
     "execution_count": 14,
     "metadata": {},
     "output_type": "execute_result"
    },
    {
     "data": {
      "image/png": "[encoded data removed]",
      "text/plain": [
       "<matplotlib.figure.Figure at 0x1153408d0>"
      ]
     },
     "metadata": {},
     "output_type": "display_data"
    },
    {
     "data": {
      "image/png": "[encoded data removed]",
      "text/plain": [
       "<matplotlib.figure.Figure at 0x11064f490>"
      ]
     },
     "metadata": {},
     "output_type": "display_data"
    }
   ],
   "source": [
    "# Compare the output of the expected calls and the predicted calls\n",
    "arrayStart = 0\n",
    "arrayEnd = 100\n",
    "figure(figsize=(20, 5))\n",
    "matshow(YArray[arrayStart:arrayEnd,:].transpose(), fignum=0, cmap=cm.PuRd)\n",
    "figure(figsize=(20, 5))\n",
    "matshow(np.concatenate( (bases[arrayStart:arrayEnd,:],zs[arrayStart:arrayEnd,:],\\\n",
    "                         ts[arrayStart:arrayEnd,:],ls[arrayStart:arrayEnd,:]),1).transpose(), fignum=0, cmap=cm.PuRd)"
   ]
  },
  {
   "cell_type": "code",
   "execution_count": null,
   "metadata": {
    "collapsed": true
   },
   "outputs": [],
   "source": []
  }
 ],
 "metadata": {
  "kernelspec": {
   "display_name": "Python 2",
   "language": "python",
   "name": "python2"
  },
  "language_info": {
   "codemirror_mode": {
    "name": "ipython",
    "version": 2
   },
   "file_extension": ".py",
   "mimetype": "text/x-python",
   "name": "python",
   "nbconvert_exporter": "python",
   "pygments_lexer": "ipython2",
   "version": "2.7.13"
  }
 },
 "nbformat": 4,
 "nbformat_minor": 2
}
