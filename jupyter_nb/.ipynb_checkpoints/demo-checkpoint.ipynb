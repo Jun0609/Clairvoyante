{
 "cells": [
  {
   "cell_type": "markdown",
   "metadata": {},
   "source": [
    "# Clairvoyante\n"
   ]
  },
  {
   "cell_type": "code",
   "execution_count": 1,
   "metadata": {
    "collapsed": false
   },
   "outputs": [
    {
     "name": "stdout",
     "output_type": "stream",
     "text": [
      "Populating the interactive namespace from numpy and matplotlib\n"
     ]
    }
   ],
   "source": [
    "%matplotlib inline\n",
    "%pylab inline"
   ]
  },
  {
   "cell_type": "code",
   "execution_count": 2,
   "metadata": {
    "collapsed": false
   },
   "outputs": [],
   "source": [
    "import sys\n",
    "sys.path.append('../')"
   ]
  },
  {
   "cell_type": "code",
   "execution_count": 3,
   "metadata": {
    "collapsed": false
   },
   "outputs": [],
   "source": [
    "#import clairvoyante as cv\n",
    "import clairvoyante.utils as utils\n",
    "import clairvoyante.clairvoyante as cv"
   ]
  },
  {
   "cell_type": "markdown",
   "metadata": {},
   "source": [
    "Shell script example to get testing data from a BAM file and a VCF file\n",
    "These scripts depend on \"samtools\" to parse alignment records. \n",
    "\n",
    "```\n",
    "python ../dataPrepScripts/ExtractVariantCandidates.py --bam_fn ../testingData/chr21/hg38.NA12878-WashU_chr21-14069662-46411975.bam --ref_fn ../testingData/chr21/chr21.fa --pi_fn pi_chr21 --ctgName chr21\n",
    "\n",
    "python ../dataPrepScripts/CreateTensor.py --bam_fn ../testingData/chr21/hg38.NA12878-WashU_chr21-14069662-46411975.bam --pi_fn pi_chr21 --ctgName chr21 --ref_fn ../testingData/chr21/chr21.fa --tensor_fn tensor_chr21\n",
    "\n",
    "python ../dataPrepScripts/GetTruth.py --vcf_fn ../testingData/chr21/chr21.vcf --var_fn var_chr21 --ctgName chr21\n",
    "```"
   ]
  },
  {
   "cell_type": "markdown",
   "metadata": {},
   "source": [
    "## Training using Chr21 variant calls"
   ]
  },
  {
   "cell_type": "code",
   "execution_count": 4,
   "metadata": {
    "collapsed": false
   },
   "outputs": [],
   "source": [
    "# load the generate alignment tensors \n",
    "# we use only variants overlapping with the regions defined in `CHROM21_v.3.3.2_highconf_noinconsistent.bed`\n",
    "\n",
    "XArray, YArray, posArray = \\\n",
    "utils.GetTrainingArray(\"../training/tensor_chr21\", \n",
    "                       \"../training/var_chr21\", \n",
    "                       \"../testingData/chr21/CHROM21_v.3.3.2_highconf_noinconsistent.bed\",\n",
    "                       \"chr21\")"
   ]
  },
  {
   "cell_type": "code",
   "execution_count": 5,
   "metadata": {
    "collapsed": false
   },
   "outputs": [
    {
     "name": "stdout",
     "output_type": "stream",
     "text": [
      "(54861, 15, 4, 4)\n",
      "(54861, 9)\n"
     ]
    }
   ],
   "source": [
    "print XArray.shape\n",
    "print YArray.shape"
   ]
  },
  {
   "cell_type": "code",
   "execution_count": 6,
   "metadata": {
    "collapsed": false
   },
   "outputs": [
    {
     "data": {
      "text/plain": [
       "<matplotlib.image.AxesImage at 0x12f751e50>"
      ]
     },
     "execution_count": 6,
     "metadata": {},
     "output_type": "execute_result"
    },
    {
     "data": {
      "image/png": "[encoded data removed]",
      "text/plain": [
       "<matplotlib.figure.Figure at 0x1064b4390>"
      ]
     },
     "metadata": {},
     "output_type": "display_data"
    },
    {
     "data": {
      "image/png": "[encoded data removed]",
      "text/plain": [
       "<matplotlib.figure.Figure at 0x12ecab7d0>"
      ]
     },
     "metadata": {},
     "output_type": "display_data"
    },
    {
     "data": {
      "image/png": "[encoded data removed]",
      "text/plain": [
       "<matplotlib.figure.Figure at 0x12fb92050>"
      ]
     },
     "metadata": {},
     "output_type": "display_data"
    },
    {
     "data": {
      "image/png": "[encoded data removed]",
      "text/plain": [
       "<matplotlib.figure.Figure at 0x12fa73390>"
      ]
     },
     "metadata": {},
     "output_type": "display_data"
    }
   ],
   "source": [
    "# here we show how the three matrices are like for a candidate site\n",
    "\n",
    "i = 3721\n",
    "figure(figsize=(6, 2))\n",
    "matshow(XArray[i,:,:,0].transpose(), vmin=0, vmax=50, cmap=cm.coolwarm, fignum=0)\n",
    "figure(figsize=(6, 2))\n",
    "matshow(XArray[i,:,:,1].transpose(), vmin=-50, vmax=50, cmap=cm.coolwarm, fignum=0)\n",
    "figure(figsize=(6, 2))\n",
    "matshow(XArray[i,:,:,2].transpose(), vmin=-50, vmax=50, cmap=cm.coolwarm, fignum=0)\n",
    "figure(figsize=(6, 2))\n",
    "matshow(XArray[i,:,:,3].transpose(), vmin=-50, vmax=50, cmap=cm.coolwarm, fignum=0)"
   ]
  },
  {
   "cell_type": "code",
   "execution_count": 7,
   "metadata": {
    "collapsed": true
   },
   "outputs": [],
   "source": [
    "%%bash\n",
    "mkdir -p ../training/parameters"
   ]
  },
  {
   "cell_type": "code",
   "execution_count": 8,
   "metadata": {
    "collapsed": false
   },
   "outputs": [],
   "source": [
    "# create a Clairvoyante\n",
    "m = cv.Clairvoyante()\n",
    "m.init()"
   ]
  },
  {
   "cell_type": "code",
   "execution_count": 9,
   "metadata": {
    "collapsed": false
   },
   "outputs": [
    {
     "name": "stderr",
     "output_type": "stream",
     "text": [
      "43 Training lost: 1.15283618164 Validation lost:  1.12662517159\n",
      "86 Training lost: 0.847687011719 Validation lost:  0.841634722729\n",
      "129 Training lost: 0.690855102539 Validation lost:  0.657027076047\n",
      "172 Training lost: 0.487954406738 Validation lost:  0.511943645055\n",
      "215 Training lost: 0.439294647217 Validation lost:  0.444739271251\n",
      "258 Training lost: 0.391509216309 Validation lost:  0.378915950657\n",
      "301 Training lost: 0.301420593262 Validation lost:  0.311241028227\n",
      "344 Training lost: 0.251646957397 Validation lost:  0.275562655922\n",
      "387 Training lost: 0.251303527832 Validation lost:  0.235305462129\n",
      "430 Training lost: 0.244713897705 Validation lost:  0.214733304902\n",
      "473 Training lost: 0.189198364258 Validation lost:  0.211985037493\n",
      "516 Training lost: 0.205413589478 Validation lost:  0.190566008434\n",
      "559 Training lost: 0.188755950928 Validation lost:  0.181449304009\n",
      "602 Training lost: 0.156218383789 Validation lost:  0.185052664334\n",
      "645 Training lost: 0.174257873535 Validation lost:  0.168294445119\n",
      "688 Training lost: 0.13169909668 Validation lost:  0.163919526551\n",
      "731 Training lost: 0.15475769043 Validation lost:  0.157091020288\n",
      "774 Training lost: 0.14331187439 Validation lost:  0.157501195673\n",
      "817 Training lost: 0.142830505371 Validation lost:  0.155785247294\n",
      "860 Training lost: 0.106904144287 Validation lost:  0.156972587722\n",
      "903 Training lost: 0.135915023804 Validation lost:  0.152414391254\n",
      "New learning rate: 1.00e-04\n",
      "946 Training lost: 0.0969934692383 Validation lost:  0.141943588542\n",
      "989 Training lost: 0.111406349182 Validation lost:  0.141685508784\n",
      "1032 Training lost: 0.0914093017578 Validation lost:  0.141849963849\n",
      "1075 Training lost: 0.120723907471 Validation lost:  0.14142265657\n",
      "1118 Training lost: 0.092850692749 Validation lost:  0.14051814815\n",
      "1161 Training lost: 0.121218917847 Validation lost:  0.141078082993\n",
      "1204 Training lost: 0.104323822021 Validation lost:  0.140890043762\n",
      "1247 Training lost: 0.0998228988647 Validation lost:  0.140689678465\n",
      "1290 Training lost: 0.0829373550415 Validation lost:  0.139526756549\n",
      "1333 Training lost: 0.121130599976 Validation lost:  0.139590289179\n",
      "1376 Training lost: 0.111175300598 Validation lost:  0.139840425967\n",
      "1419 Training lost: 0.107331794739 Validation lost:  0.138068632061\n",
      "1462 Training lost: 0.114572677612 Validation lost:  0.138009204411\n",
      "1505 Training lost: 0.097071182251 Validation lost:  0.137361930278\n",
      "1548 Training lost: 0.10508380127 Validation lost:  0.137778346567\n",
      "1591 Training lost: 0.148206817627 Validation lost:  0.136229378539\n",
      "1634 Training lost: 0.102837257385 Validation lost:  0.136876897413\n",
      "1677 Training lost: 0.103232772827 Validation lost:  0.138499866327\n",
      "1720 Training lost: 0.0789453887939 Validation lost:  0.136597247042\n",
      "1763 Training lost: 0.10924156189 Validation lost:  0.137408453384\n",
      "New learning rate: 1.00e-05\n",
      "1806 Training lost: 0.0985869827271 Validation lost:  0.135666918409\n",
      "1849 Training lost: 0.134970016479 Validation lost:  0.135369179428\n",
      "1892 Training lost: 0.093854598999 Validation lost:  0.135094746498\n",
      "1935 Training lost: 0.127855697632 Validation lost:  0.134910011274\n",
      "1978 Training lost: 0.0881491088867 Validation lost:  0.134809734067\n",
      "2021 Training lost: 0.0967840042114 Validation lost:  0.135012179665\n",
      "2064 Training lost: 0.0785924758911 Validation lost:  0.1350225033\n",
      "2107 Training lost: 0.121755508423 Validation lost:  0.134758316133\n",
      "2150 Training lost: 0.103005973816 Validation lost:  0.134958503436\n",
      "2193 Training lost: 0.118565917969 Validation lost:  0.135170927806\n",
      "2236 Training lost: 0.107325531006 Validation lost:  0.13478982102\n",
      "2279 Training lost: 0.109232826233 Validation lost:  0.134772433259\n",
      "2322 Training lost: 0.129336242676 Validation lost:  0.13476647047\n",
      "2365 Training lost: 0.0946708145142 Validation lost:  0.134757381666\n",
      "2408 Training lost: 0.127150016785 Validation lost:  0.13485352052\n",
      "2451 Training lost: 0.0733516693115 Validation lost:  0.134932249363\n",
      "2494 Training lost: 0.098576385498 Validation lost:  0.134997773299\n",
      "2537 Training lost: 0.0812128143311 Validation lost:  0.134516456053\n",
      "2580 Training lost: 0.0847045669556 Validation lost:  0.135074866825\n"
     ]
    }
   ],
   "source": [
    "# training and save the parameters, we train on the first 80% SNP sites and validate on other 20% SNP sites\n",
    "batchSize = 1000\n",
    "validationLosts = []\n",
    "XLen = len(XArray)\n",
    "XIdx = int(XLen * 0.8)\n",
    "epoch = 0\n",
    "for i in range(1, int(XIdx/batchSize)*60+1):\n",
    "    XBatch, YBatch = utils.GetBatch(XArray[:XIdx], YArray[:XIdx], size=batchSize)\n",
    "    loss = m.train(XBatch, YBatch)\n",
    "    if i % int(XIdx / batchSize) == 0:\n",
    "        validationLost = m.getLoss( XArray[XIdx:-1], YArray[XIdx:-1] )\n",
    "        print >> sys.stderr, i,\\\n",
    "                 \"Training lost:\", loss/batchSize,\\\n",
    "                 \"Validation lost: \", validationLost/(XLen-XIdx)\n",
    "        m.saveParameters('../training/parameters/cv.params-%05d' % i)\n",
    "        validationLosts.append( (validationLost, i) )\n",
    "        if epoch and epoch % 20 == 0:\n",
    "            nl = m.setLearningRate()\n",
    "            print >> sys.stderr, \"New learning rate: %.2e\" % nl\n",
    "        epoch += 1\n",
    "        "
   ]
  },
  {
   "cell_type": "code",
   "execution_count": 10,
   "metadata": {
    "collapsed": false,
    "deletable": true,
    "editable": true
   },
   "outputs": [
    {
     "name": "stdout",
     "output_type": "stream",
     "text": [
      "2537\n",
      "INFO:tensorflow:Restoring parameters from ../training/parameters/cv.params-02537\n"
     ]
    },
    {
     "name": "stderr",
     "output_type": "stream",
     "text": [
      "INFO:tensorflow:Restoring parameters from ../training/parameters/cv.params-02537\n"
     ]
    }
   ],
   "source": [
    "# pick the parameter set of the smallest validation loss\n",
    "\n",
    "validationLosts.sort()\n",
    "i = validationLosts[0][1]\n",
    "print i\n",
    "m.restoreParameters('../training/parameters/cv.params-%05d' % i)"
   ]
  },
  {
   "cell_type": "markdown",
   "metadata": {},
   "source": [
    "## Testing using Chr22 variant calls"
   ]
  },
  {
   "cell_type": "code",
   "execution_count": 11,
   "metadata": {
    "collapsed": false
   },
   "outputs": [],
   "source": [
    "XArray2, YArray2, posArray2 = \\\n",
    "utils.GetTrainingArray(\"../training/tensor_chr22\", \n",
    "                       \"../training/var_chr22\", \n",
    "                       \"../testingData/chr22/CHROM22_v.3.3.2_highconf_noinconsistent.bed\",\n",
    "                       \"chr22\")"
   ]
  },
  {
   "cell_type": "code",
   "execution_count": 21,
   "metadata": {
    "collapsed": false
   },
   "outputs": [
    {
     "ename": "ValueError",
     "evalue": "all the input arrays must have same number of dimensions",
     "output_type": "error",
     "traceback": [
      "\u001b[0;31m---------------------------------------------------------------------------\u001b[0m",
      "\u001b[0;31mValueError\u001b[0m                                Traceback (most recent call last)",
      "\u001b[0;32m<ipython-input-21-9955ea114d5e>\u001b[0m in \u001b[0;36m<module>\u001b[0;34m()\u001b[0m\n\u001b[1;32m      5\u001b[0m \u001b[0;32mfor\u001b[0m \u001b[0mi\u001b[0m \u001b[0;32min\u001b[0m \u001b[0mrange\u001b[0m\u001b[0;34m(\u001b[0m\u001b[0;36m0\u001b[0m\u001b[0;34m,\u001b[0m \u001b[0mlen\u001b[0m\u001b[0;34m(\u001b[0m\u001b[0mXArray2\u001b[0m\u001b[0;34m)\u001b[0m\u001b[0;34m,\u001b[0m \u001b[0mbatchSize\u001b[0m\u001b[0;34m)\u001b[0m\u001b[0;34m:\u001b[0m\u001b[0;34m\u001b[0m\u001b[0m\n\u001b[1;32m      6\u001b[0m     \u001b[0mbase\u001b[0m\u001b[0;34m,\u001b[0m \u001b[0mt\u001b[0m \u001b[0;34m=\u001b[0m \u001b[0mm\u001b[0m\u001b[0;34m.\u001b[0m\u001b[0mpredict\u001b[0m\u001b[0;34m(\u001b[0m\u001b[0mXArray2\u001b[0m\u001b[0;34m[\u001b[0m\u001b[0mi\u001b[0m\u001b[0;34m:\u001b[0m\u001b[0mi\u001b[0m\u001b[0;34m+\u001b[0m\u001b[0mbatchSize\u001b[0m\u001b[0;34m]\u001b[0m\u001b[0;34m)\u001b[0m\u001b[0;34m\u001b[0m\u001b[0m\n\u001b[0;32m----> 7\u001b[0;31m     \u001b[0mbases\u001b[0m \u001b[0;34m=\u001b[0m \u001b[0mnp\u001b[0m\u001b[0;34m.\u001b[0m\u001b[0mappend\u001b[0m\u001b[0;34m(\u001b[0m\u001b[0mbases\u001b[0m\u001b[0;34m,\u001b[0m \u001b[0mbase\u001b[0m\u001b[0;34m,\u001b[0m \u001b[0;36m0\u001b[0m\u001b[0;34m)\u001b[0m\u001b[0;34m\u001b[0m\u001b[0m\n\u001b[0m\u001b[1;32m      8\u001b[0m     \u001b[0mts\u001b[0m \u001b[0;34m=\u001b[0m \u001b[0mnp\u001b[0m\u001b[0;34m.\u001b[0m\u001b[0mappend\u001b[0m\u001b[0;34m(\u001b[0m\u001b[0mts\u001b[0m\u001b[0;34m,\u001b[0m \u001b[0mt\u001b[0m\u001b[0;34m,\u001b[0m \u001b[0;36m0\u001b[0m\u001b[0;34m)\u001b[0m\u001b[0;34m\u001b[0m\u001b[0m\n",
      "\u001b[0;32m/usr/local/lib/python2.7/site-packages/numpy/lib/function_base.pyc\u001b[0m in \u001b[0;36mappend\u001b[0;34m(arr, values, axis)\u001b[0m\n\u001b[1;32m   5145\u001b[0m         \u001b[0mvalues\u001b[0m \u001b[0;34m=\u001b[0m \u001b[0mravel\u001b[0m\u001b[0;34m(\u001b[0m\u001b[0mvalues\u001b[0m\u001b[0;34m)\u001b[0m\u001b[0;34m\u001b[0m\u001b[0m\n\u001b[1;32m   5146\u001b[0m         \u001b[0maxis\u001b[0m \u001b[0;34m=\u001b[0m \u001b[0marr\u001b[0m\u001b[0;34m.\u001b[0m\u001b[0mndim\u001b[0m\u001b[0;34m-\u001b[0m\u001b[0;36m1\u001b[0m\u001b[0;34m\u001b[0m\u001b[0m\n\u001b[0;32m-> 5147\u001b[0;31m     \u001b[0;32mreturn\u001b[0m \u001b[0mconcatenate\u001b[0m\u001b[0;34m(\u001b[0m\u001b[0;34m(\u001b[0m\u001b[0marr\u001b[0m\u001b[0;34m,\u001b[0m \u001b[0mvalues\u001b[0m\u001b[0;34m)\u001b[0m\u001b[0;34m,\u001b[0m \u001b[0maxis\u001b[0m\u001b[0;34m=\u001b[0m\u001b[0maxis\u001b[0m\u001b[0;34m)\u001b[0m\u001b[0;34m\u001b[0m\u001b[0m\n\u001b[0m",
      "\u001b[0;31mValueError\u001b[0m: all the input arrays must have same number of dimensions"
     ]
    }
   ],
   "source": [
    "batchSize = 1000\n",
    "bases, ts = m.predict(XArray2[0:batchSize])\n",
    "\n",
    "for i in range(batchSize, len(XArray2), batchSize):\n",
    "    base, t = m.predict(XArray2[i:i+batchSize])\n",
    "    bases = np.append(bases, base, 0)\n",
    "    ts = np.append(ts, t, 0)"
   ]
  },
  {
   "cell_type": "code",
   "execution_count": 13,
   "metadata": {
    "collapsed": false
   },
   "outputs": [
    {
     "data": {
      "text/plain": [
       "<matplotlib.image.AxesImage at 0x13fab7990>"
      ]
     },
     "execution_count": 13,
     "metadata": {},
     "output_type": "execute_result"
    },
    {
     "data": {
      "image/png": "[encoded data removed]",
      "text/plain": [
       "<matplotlib.figure.Figure at 0x12ec79d90>"
      ]
     },
     "metadata": {},
     "output_type": "display_data"
    },
    {
     "data": {
      "image/png": "[encoded data removed]",
      "text/plain": [
       "<matplotlib.figure.Figure at 0x12f646e10>"
      ]
     },
     "metadata": {},
     "output_type": "display_data"
    }
   ],
   "source": [
    "# we can compare the output of the expected calls and the predicted calls\n",
    "\n",
    "figure(figsize=(15, 5))\n",
    "matshow(YArray2[4000:4150,:].transpose(), fignum=0)\n",
    "figure(figsize=(15, 5))\n",
    "matshow(np.concatenate( (bases[4000:4150,:],ts[4000:4150,:]),1).transpose(), fignum=0)\n"
   ]
  },
  {
   "cell_type": "markdown",
   "metadata": {},
   "source": [
    "## Evaluation"
   ]
  },
  {
   "cell_type": "code",
   "execution_count": 14,
   "metadata": {
    "collapsed": false
   },
   "outputs": [],
   "source": [
    "ed = []\n",
    "for pos, predictV, annotateV in zip(np.array(posArray2), ts, YArray2[:,4:]):\n",
    "    ed.append( (pos, np.argmax(predictV), np.argmax(annotateV)) )\n",
    "ed = np.array(ed)"
   ]
  },
  {
   "cell_type": "code",
   "execution_count": 15,
   "metadata": {
    "collapsed": false
   },
   "outputs": [],
   "source": [
    "from collections import Counter"
   ]
  },
  {
   "cell_type": "code",
   "execution_count": 16,
   "metadata": {
    "collapsed": false
   },
   "outputs": [
    {
     "name": "stdout",
     "output_type": "stream",
     "text": [
      "0 \t23289 \t108 \t2 \t0 \t312 \t\n",
      "1 \t108 \t10498 \t0 \t0 \t20 \t\n",
      "2 \t70 \t19 \t39 \t0 \t141 \t\n",
      "3 \t2 \t0 \t0 \t0 \t29 \t\n",
      "4 \t432 \t19 \t30 \t0 \t14058 \t\n"
     ]
    }
   ],
   "source": [
    "for i in range(5):\n",
    "    cnt = Counter(ed[ed[:,2]==i,1])\n",
    "    print i,\"\\t\",\n",
    "    for j in range(5):\n",
    "        print cnt.get(j,0),\"\\t\",\n",
    "    print"
   ]
  },
  {
   "cell_type": "code",
   "execution_count": 17,
   "metadata": {
    "collapsed": false
   },
   "outputs": [
    {
     "name": "stdout",
     "output_type": "stream",
     "text": [
      "Recall rate for het-call (regardless called variant types): 0.986841550335\n",
      "Recall rate for het-call (called variant type = het): 0.982202353338\n",
      "\n",
      "PPV for het-call (regardless called variant types): 0.98192544245\n",
      "PPV for het-call (called variant type = het): 0.974394376804\n",
      "\n",
      "Recall rate for hom-call (regardless called variant types): 0.998117824205\n",
      "Recall rate for hom-call (called variant type = hom): 0.987954074911\n",
      "\n",
      "PPV for hom-call (regardless called variant types): 0.998214956783\n",
      "PPV for hom-call (called variant type = hom): 0.986283352123\n",
      "\n",
      "Recall rate for all calls: 0.985506827959\n",
      "PPV for all calls: 0.986104691472\n"
     ]
    }
   ],
   "source": [
    "print \"Recall rate for het-call (regardless called variant types):\", 1.0*sum((ed[:,1]!=4) & (ed[:,2]==0))/sum(ed[:,2]==0)\n",
    "print \"Recall rate for het-call (called variant type = het):\",       1.0*sum((ed[:,1]==0) & (ed[:,2]==0))/sum(ed[:,2]==0)\n",
    "print\n",
    "print \"PPV for het-call (regardless called variant types):\", 1.0*sum((ed[:,1]==0) & (ed[:,2]!=4))/sum(ed[:,1]==0)\n",
    "print \"PPV for het-call (called variant type = het):\",       1.0*sum((ed[:,1]==0) & (ed[:,2]==0))/sum(ed[:,1]==0)\n",
    "print\n",
    "print \"Recall rate for hom-call (regardless called variant types):\", 1.0*sum((ed[:,1]!=4) & (ed[:,2]==1))/sum(ed[:,2]==1)\n",
    "print \"Recall rate for hom-call (called variant type = hom):\",       1.0*sum((ed[:,1]==1) & (ed[:,2]==1))/sum(ed[:,2]==1)\n",
    "print\n",
    "print \"PPV for hom-call (regardless called variant types):\", 1.0*sum((ed[:,1]==1) & (ed[:,2]!=4))/sum(ed[:,1]==1)\n",
    "print \"PPV for hom-call (called variant type = hom):\",       1.0*sum((ed[:,1]==1) & (ed[:,2]==1))/sum(ed[:,1]==1)\n",
    "print\n",
    "print \"Recall rate for all calls:\", 1.0*sum((ed[:,1]!=4) & (ed[:,2]!=4))/sum(ed[:,2]!=4) \n",
    "print \"PPV for all calls:\",         1.0*sum((ed[:,1]!=4) & (ed[:,2]!=4))/sum(ed[:,1]!=4) "
   ]
  },
  {
   "cell_type": "code",
   "execution_count": null,
   "metadata": {
    "collapsed": true
   },
   "outputs": [],
   "source": []
  }
 ],
 "metadata": {
  "kernelspec": {
   "display_name": "Python 2",
   "language": "python",
   "name": "python2"
  },
  "language_info": {
   "codemirror_mode": {
    "name": "ipython",
    "version": 2
   },
   "file_extension": ".py",
   "mimetype": "text/x-python",
   "name": "python",
   "nbconvert_exporter": "python",
   "pygments_lexer": "ipython2",
   "version": "2.7.13"
  }
 },
 "nbformat": 4,
 "nbformat_minor": 2
}
