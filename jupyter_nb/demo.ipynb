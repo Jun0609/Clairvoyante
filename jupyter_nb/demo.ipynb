{
 "cells": [
  {
   "cell_type": "markdown",
   "metadata": {},
   "source": [
    "# Clairvoyante\n"
   ]
  },
  {
   "cell_type": "code",
   "execution_count": 8,
   "metadata": {
    "collapsed": false
   },
   "outputs": [
    {
     "name": "stdout",
     "output_type": "stream",
     "text": [
      "Populating the interactive namespace from numpy and matplotlib\n"
     ]
    }
   ],
   "source": [
    "%matplotlib inline\n",
    "%pylab inline\n",
    "import sys\n",
    "sys.path.append('../') # Make clairvoyante modules visible\n",
    "import numpy as np\n",
    "import time\n",
    "from random import randrange"
   ]
  },
  {
   "cell_type": "code",
   "execution_count": 2,
   "metadata": {
    "collapsed": false
   },
   "outputs": [],
   "source": [
    "#import clairvoyante\n",
    "import clairvoyante.utils as utils\n",
    "import clairvoyante.clairvoyante as cv\n",
    "import clairvoyante.param as param"
   ]
  },
  {
   "cell_type": "markdown",
   "metadata": {},
   "source": [
    "Shell script example to get testing data from BAM files and a VCF files\n",
    "These scripts depend on \"samtools\".\n",
    "\n",
    "The GIAB v3.3.2 NA12878 dataset is available at ftp://ftp-trace.ncbi.nlm.nih.gov/giab/ftp/release/NA12878_HG001/NISTv3.3.2/GRCh38\n",
    "\n",
    "```\n",
    "python ../dataPrepScripts/ExtractVariantCandidates.py --bam_fn ../testingData/chr21/hg38.NA12878-WashU_chr21-14069662-46411975.bam --ref_fn ../testingData/chr21/chr21.fa --pi_fn pi_chr21 --ctgName chr21 --ctgStart 14069662 --ctgEnd 46411975\n",
    "\n",
    "python ../dataPrepScripts/GetTruth.py --vcf_fn ../testingData/chr21/chr21.vcf --var_fn var_chr21 --ctgName chr21\n",
    "\n",
    "python ../dataPrepScripts/CreateTensor.py --bam_fn ../testingData/chr21/hg38.NA12878-WashU_chr21-14069662-46411975.bam --can_fn pi_chr21 --ctgName chr21 --ref_fn ../testingData/chr21/chr21.fa --tensor_fn tensor_pi_chr21 --ctgStart 14069662 --ctgEnd 46411975\n",
    "\n",
    "python ../dataPrepScripts/ExtractVariantCandidates.py --bam_fn ../testingData/chr22/hg38.NA12878-WashU_chr22-18924717-49973797.bam --ref_fn ../testingData/chr22/chr22.fa --pi_fn pi_chr22 --ctgName chr22 --ctgStart 18924717 --ctgEnd 49973797\n",
    "\n",
    "python ../dataPrepScripts/GetTruth.py --vcf_fn ../testingData/chr22/chr22.vcf --var_fn var_chr22 --ctgName chr22\n",
    "\n",
    "python ../dataPrepScripts/CreateTensor.py --bam_fn ../testingData/chr22/hg38.NA12878-WashU_chr22-18924717-49973797.bam --can_fn pi_chr22 --ctgName chr22 --ref_fn ../testingData/chr22/chr22.fa --tensor_fn tensor_pi_chr22 --ctgStart 18924717 --ctgEnd 49973797\n",
    "\n",
    "cat pi_chr21 pi_chr22 > pi_mul\n",
    "\n",
    "cat var_chr21 var_chr22 > var_mul\n",
    "\n",
    "cat tensor_pi_chr21 tensor_pi_chr22 > tensor_pi_mul\n",
    "\n",
    "cat ../testingData/chr21/CHROM21_v.3.3.2_highconf_noinconsistent.bed ../testingData/chr22/CHROM22_v.3.3.2_highconf_noinconsistent.bed > bed\n",
    "```"
   ]
  },
  {
   "cell_type": "markdown",
   "metadata": {},
   "source": [
    "## Training on the chr21 and chr22 variant calls"
   ]
  },
  {
   "cell_type": "code",
   "execution_count": 5,
   "metadata": {
    "collapsed": false
   },
   "outputs": [],
   "source": [
    "# load the generate alignment tensors \n",
    "# we use only variants overlapping with the high confident regions\n",
    "\n",
    "XArray, YArray, posArray = \\\n",
    "utils.GetTrainingArray(\"../training/tensor_pi_mul\",\n",
    "                       \"../training/var_mul\",\n",
    "                       \"../training/bed\")"
   ]
  },
  {
   "cell_type": "code",
   "execution_count": 6,
   "metadata": {
    "collapsed": false
   },
   "outputs": [
    {
     "name": "stderr",
     "output_type": "stream",
     "text": [
      "Input:  (412034, 33, 4, 4)\n",
      "Output:  (412034, 9)\n"
     ]
    }
   ],
   "source": [
    "print >> sys.stderr, \"Input: \", XArray.shape\n",
    "print >> sys.stderr, \"Output: \", YArray.shape"
   ]
  },
  {
   "cell_type": "code",
   "execution_count": 30,
   "metadata": {
    "collapsed": false
   },
   "outputs": [
    {
     "data": {
      "text/plain": [
       "<matplotlib.image.AxesImage at 0x13a0b5f10>"
      ]
     },
     "execution_count": 30,
     "metadata": {},
     "output_type": "execute_result"
    },
    {
     "data": {
      "image/png": "[encoded data removed]",
      "text/plain": [
       "<matplotlib.figure.Figure at 0x13c003390>"
      ]
     },
     "metadata": {},
     "output_type": "display_data"
    },
    {
     "data": {
      "image/png": "[encoded data removed]",
      "text/plain": [
       "<matplotlib.figure.Figure at 0x139ccb2d0>"
      ]
     },
     "metadata": {},
     "output_type": "display_data"
    },
    {
     "data": {
      "image/png": "[encoded data removed]",
      "text/plain": [
       "<matplotlib.figure.Figure at 0x13cdedc50>"
      ]
     },
     "metadata": {},
     "output_type": "display_data"
    },
    {
     "data": {
      "image/png": "[encoded data removed]",
      "text/plain": [
       "<matplotlib.figure.Figure at 0x13939a850>"
      ]
     },
     "metadata": {},
     "output_type": "display_data"
    }
   ],
   "source": [
    "# Show how the four matrices are like for a random candidate\n",
    "\n",
    "i = randrange(len(XArray))\n",
    "figure(figsize=(10, 2))\n",
    "matshow(XArray[i,:,:,0].transpose(), vmin=0, vmax=50, cmap=cm.coolwarm, fignum=0)\n",
    "figure(figsize=(10, 2))\n",
    "matshow(XArray[i,:,:,1].transpose(), vmin=-50, vmax=50, cmap=cm.coolwarm, fignum=0)\n",
    "figure(figsize=(10, 2))\n",
    "matshow(XArray[i,:,:,2].transpose(), vmin=-50, vmax=50, cmap=cm.coolwarm, fignum=0)\n",
    "figure(figsize=(10, 2))\n",
    "matshow(XArray[i,:,:,3].transpose(), vmin=-50, vmax=50, cmap=cm.coolwarm, fignum=0)"
   ]
  },
  {
   "cell_type": "code",
   "execution_count": 12,
   "metadata": {
    "collapsed": true
   },
   "outputs": [],
   "source": [
    "#Create an output folder for models\n",
    "%%bash\n",
    "mkdir -p ../training/parameters"
   ]
  },
  {
   "cell_type": "code",
   "execution_count": 8,
   "metadata": {
    "collapsed": false
   },
   "outputs": [],
   "source": [
    "# create a Clairvoyante\n",
    "m = cv.Clairvoyante()\n",
    "m.init()"
   ]
  },
  {
   "cell_type": "code",
   "execution_count": null,
   "metadata": {
    "collapsed": false
   },
   "outputs": [],
   "source": [
    "# training and save the parameters, we train on all variant sites and validate on the last 15% variant sites\n",
    "trainingStart = time.time()\n",
    "trainBatchSize = param.trainBatchSize\n",
    "validationLosts = []\n",
    "numValItems = int(len(XArray) * 0.1 + 0.499)\n",
    "\n",
    "c = 0; maxLearningRateSwitch = 3\n",
    "epochStart = time.time()\n",
    "for i in range(1, 1 + int(param.maxEpoch * len(XArray) / trainBatchSize + 0.499)):\n",
    "    XBatch, YBatch = utils.GetBatch(XArray, YArray, size=trainBatchSize)\n",
    "    loss, summary = m.train(XBatch, YBatch)\n",
    "    summaryWriter.add_summary(summary, i)\n",
    "    if i % int(len(XArray) / trainBatchSize + 0.499) == 0:\n",
    "        validationLost = m.getLoss( XArray[-numValItems:-1], YArray[-numValItems:-1] )\n",
    "        print >> sys.stderr, i, \"Training lost:\", loss/trainBatchSize, \"Validation lost: \", validationLost/numValItems\n",
    "        validationLosts.append( (validationLost, i) )\n",
    "        print >> sys.stderr, \"Time elapsed for 1 epoch: %.2f s\" % (time.time() - epochStart)\n",
    "        flag = 0\n",
    "        if c >= 4:\n",
    "          if validationLosts[-4][0] - validationLosts[-3][0] > 0:\n",
    "              if validationLosts[-3][0] - validationLosts[-2][0] < 0:\n",
    "                  if validationLosts[-2][0] - validationLosts[-1][0] > 0:\n",
    "                      flag = 1\n",
    "          elif validationLosts[-4][0] - validationLosts[-3][0] < 0:\n",
    "              if validationLosts[-3][0] - validationLosts[-2][0] > 0:\n",
    "                  if validationLosts[-2][0] - validationLosts[-1][0] < 0:\n",
    "                      flag = 1\n",
    "          else:\n",
    "              flag = 1\n",
    "        if flag == 1:\n",
    "            m.saveParameters('../training/parameters/cv.params-%05d' % i)\n",
    "            maxLearningRateSwitch -= 1\n",
    "            if maxLearningRateSwitch == 0:\n",
    "              break\n",
    "            print >> sys.stderr, \"New learning rate: %.2e\" % m.setLearningRate()\n",
    "            c = 0\n",
    "        c += 1\n",
    "        epochStart = time.time()\n",
    "\n",
    "print >> sys.stderr, \"Training time elapsed: %.2f s\" % (time.time() - trainingStart)"
   ]
  },
  {
   "cell_type": "markdown",
   "metadata": {},
   "source": [
    "## Testign on the training dataset"
   ]
  },
  {
   "cell_type": "code",
   "execution_count": null,
   "metadata": {
    "collapsed": true
   },
   "outputs": [],
   "source": [
    "predictStart = time.time()\n",
    "predictBatchSize = param.predictBatchSize\n",
    "bases, ts = m.predict(XArray[0:predictBatchSize])\n",
    "for i in range(predictBatchSize, len(XArray), predictBatchSize):\n",
    "    base, t = m.predict(XArray[i:i+predictBatchSize])\n",
    "    bases = np.append(bases, base, 0)\n",
    "    ts = np.append(ts, t, 0)\n",
    "print >> sys.stderr, \"Prediciton time elapsed: %.2f s\" % (time.time() - predictStart)\n",
    "\n",
    "print >> sys.stderr, \"Model evaluation on the training dataset:\"\n",
    "ed = np.zeros( (5,5), dtype=np.int )\n",
    "for predictV, annotateV in zip(ts, YArray[:,4:]):\n",
    "    ed[np.argmax(annotateV)][np.argmax(predictV)] += 1\n",
    "\n",
    "for i in range(5):\n",
    "      print >> sys.stderr, i,\"\\t\",\n",
    "      for j in range(5):\n",
    "          print >> sys.stderr, ed[i][j],\"\\t\",\n",
    "      print >> sys.stderr"
   ]
  },
  {
   "cell_type": "markdown",
   "metadata": {},
   "source": [
    "## Testing on the chr22 variant calls"
   ]
  },
  {
   "cell_type": "code",
   "execution_count": null,
   "metadata": {
    "collapsed": false
   },
   "outputs": [],
   "source": [
    "XArray2, YArray2, posArray2 = \\\n",
    "utils.GetTrainingArray(\"../training/tensor_pi_chr22\",\n",
    "                       \"../training/var_chr22\",\n",
    "                       \"../testingData/chr22/CHROM22_v.3.3.2_highconf_noinconsistent.bed\")"
   ]
  },
  {
   "cell_type": "code",
   "execution_count": null,
   "metadata": {
    "collapsed": false
   },
   "outputs": [],
   "source": [
    "predictStart = time.time()\n",
    "predictBatchSize = param.predictBatchSize\n",
    "bases, ts = m.predict(XArray2[0:predictBatchSize])\n",
    "for i in range(predictBatchSize, len(XArray2), predictBatchSize):\n",
    "    base, t = m.predict(XArray2[i:i+predictBatchSize])\n",
    "    bases = np.append(bases, base, 0)\n",
    "    ts = np.append(ts, t, 0)\n",
    "print >> sys.stderr, \"Prediciton time elapsed: %.2f s\" % (time.time() - predictStart)\n",
    "\n",
    "print >> sys.stderr, \"Model evaluation on the chr22 dataset:\"\n",
    "ed = np.zeros( (5,5), dtype=np.int )\n",
    "for predictV, annotateV in zip(ts, YArray2[:,4:]):\n",
    "    ed[np.argmax(annotateV)][np.argmax(predictV)] += 1\n",
    "\n",
    "for i in range(5):\n",
    "      print >> sys.stderr, i,\"\\t\",\n",
    "      for j in range(5):\n",
    "          print >> sys.stderr, ed[i][j],\"\\t\",\n",
    "      print >> sys.stderr\n"
   ]
  },
  {
   "cell_type": "code",
   "execution_count": null,
   "metadata": {
    "collapsed": false
   },
   "outputs": [],
   "source": [
    "# Compare the output of the expected calls and the predicted calls\n",
    "figure(figsize=(20, 5))\n",
    "matshow(YArray2[4000:4200,:].transpose(), fignum=0)\n",
    "figure(figsize=(20, 5))\n",
    "matshow(np.concatenate( (bases[4000:4200,:],ts[4000:4200,:]),1).transpose(), fignum=0)\n"
   ]
  }
 ],
 "metadata": {
  "kernelspec": {
   "display_name": "Python 2",
   "language": "python",
   "name": "python2"
  },
  "language_info": {
   "codemirror_mode": {
    "name": "ipython",
    "version": 2
   },
   "file_extension": ".py",
   "mimetype": "text/x-python",
   "name": "python",
   "nbconvert_exporter": "python",
   "pygments_lexer": "ipython2",
   "version": "2.7.13"
  }
 },
 "nbformat": 4,
 "nbformat_minor": 2
}
