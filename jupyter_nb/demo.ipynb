{
 "cells": [
  {
   "cell_type": "markdown",
   "metadata": {},
   "source": [
    "# Clairvoyante\n"
   ]
  },
  {
   "cell_type": "code",
   "execution_count": 3,
   "metadata": {
    "collapsed": false
   },
   "outputs": [
    {
     "name": "stdout",
     "output_type": "stream",
     "text": [
      "Populating the interactive namespace from numpy and matplotlib\n"
     ]
    }
   ],
   "source": [
    "%matplotlib inline\n",
    "%pylab inline\n",
    "import sys\n",
    "sys.path.append('../')\n",
    "import numpy as np\n",
    "import time\n",
    "import pickle\n",
    "from random import randrange"
   ]
  },
  {
   "cell_type": "code",
   "execution_count": 4,
   "metadata": {
    "collapsed": false
   },
   "outputs": [],
   "source": [
    "#import clairvoyante\n",
    "import clairvoyante.utils_v2 as utils\n",
    "import clairvoyante.clairvoyante_v2 as cv\n",
    "import clairvoyante.param as param"
   ]
  },
  {
   "cell_type": "markdown",
   "metadata": {},
   "source": [
    "Please run prepDataBeforeDemo.sh to generate training and testing data from BAM and VCF files before proceeding.\n",
    "\n",
    "References:\n",
    "1. The GIAB v3.3.2 NA12878 truth variant dataset is available at ftp://ftp-trace.ncbi.nlm.nih.gov/giab/ftp/release/NA12878_HG001/NISTv3.3.2/GRCh38\n",
    "2. The Illumina alignment is available at ftp://ftp-trace.ncbi.nlm.nih.gov/giab/ftp/data/NA12878/NIST_NA12878_HG001_HiSeq_300x/, the chr21.bam and chr22.bam were extracted from the HG001.GRCh38_full_plus_hs38d1_analysis_set_minus_alts.300x.bam file, downsampled to 50x.\n",
    "\n",
    "#### prepDataBeforeDemo.sh:\n",
    "```\n",
    "mkdir ../training\n",
    "python ../dataPrepScripts/ExtractVariantCandidates.py --bam_fn ../testingData/chr21/chr21.bam --ref_fn ../testingData/chr21/chr21.fa --can_fn ../training/can_chr21 --ctgName chr21 --ctgStart 10269870 --ctgEnd 46672937 &\n",
    "python ../dataPrepScripts/GetTruth.py --vcf_fn ../testingData/chr21/chr21.vcf --var_fn ../training/var_chr21 --ctgName chr21 &\n",
    "python ../dataPrepScripts/ExtractVariantCandidates.py --bam_fn ../testingData/chr22/chr22.bam --ref_fn ../testingData/chr22/chr22.fa --can_fn ../training/can_chr22 --ctgName chr22 --ctgStart 18924717 --ctgEnd 49973797 &\n",
    "python ../dataPrepScripts/GetTruth.py --vcf_fn ../testingData/chr22/chr22.vcf --var_fn ../training/var_chr22 --ctgName chr22 &\n",
    "wait\n",
    "\n",
    "python ../dataPrepScripts/CreateTensor.py --bam_fn ../testingData/chr21/chr21.bam --can_fn ../training/can_chr21 --ref_fn ../testingData/chr21/chr21.fa --tensor_fn ../training/tensor_can_chr21 --ctgName chr21 --ctgStart 10269870 --ctgEnd 46672937 &\n",
    "python ../dataPrepScripts/CreateTensor.py --bam_fn ../testingData/chr22/chr22.bam --can_fn ../training/can_chr22 --ref_fn ../testingData/chr22/chr22.fa --tensor_fn ../training/tensor_can_chr22 --ctgName chr22 --ctgStart 18924717 --ctgEnd 49973797 &\n",
    "wait\n",
    "\n",
    "cat ../training/can_chr21 ../training/can_chr22 > ../training/can_mul\n",
    "cat ../training/var_chr21 ../training/var_chr22 > ../training/var_mul\n",
    "cat ../training/tensor_can_chr21 ../training/tensor_can_chr22 > ../training/tensor_can_mul\n",
    "cat ../testingData/chr21/chr21.bed ../testingData/chr22/chr22.bed > ../training/bed\n",
    "python tensor2Bin.py --tensor_fn ../training/tensor_can_mul --var_fn ../training/var_mul --bed_fn ../training/bed --bin_fn ../training/tensor.bin\n",
    "```"
   ]
  },
  {
   "cell_type": "markdown",
   "metadata": {},
   "source": [
    "## Train using the chr21+chr22 variants"
   ]
  },
  {
   "cell_type": "code",
   "execution_count": 5,
   "metadata": {
    "collapsed": false
   },
   "outputs": [],
   "source": [
    "# Load the preprocessed and compressed tensors into memory\n",
    "with open(\"../training/tensor.bin\", \"rb\") as fh:\n",
    "    total = pickle.load(fh)\n",
    "    XArrayCompressed = pickle.load(fh)\n",
    "    YArrayCompressed = pickle.load(fh)\n",
    "    posArrayCompressed = pickle.load(fh)"
   ]
  },
  {
   "cell_type": "code",
   "execution_count": 6,
   "metadata": {
    "collapsed": false
   },
   "outputs": [
    {
     "name": "stderr",
     "output_type": "stream",
     "text": [
      "The size of training dataset: 132765\n"
     ]
    }
   ],
   "source": [
    "print >> sys.stderr, \"The size of training dataset: {}\".format(total)"
   ]
  },
  {
   "cell_type": "code",
   "execution_count": 7,
   "metadata": {
    "collapsed": true
   },
   "outputs": [],
   "source": [
    "# Pick a random candidate\n",
    "i = randrange(total)\n",
    "XArray, _, _ = utils.DecompressArray(XArrayCompressed, i, 1, total)"
   ]
  },
  {
   "cell_type": "code",
   "execution_count": 8,
   "metadata": {
    "collapsed": false
   },
   "outputs": [
    {
     "data": {
      "text/plain": [
       "<matplotlib.colorbar.Colorbar at 0x11f8cfed0>"
      ]
     },
     "execution_count": 8,
     "metadata": {},
     "output_type": "execute_result"
    },
    {
     "data": {
      "image/png": "[encoded data removed]",
      "text/plain": [
       "<matplotlib.figure.Figure at 0x11dddc1d0>"
      ]
     },
     "metadata": {},
     "output_type": "display_data"
    },
    {
     "data": {
      "image/png": "[encoded data removed]",
      "text/plain": [
       "<matplotlib.figure.Figure at 0x11f52fa90>"
      ]
     },
     "metadata": {},
     "output_type": "display_data"
    },
    {
     "data": {
      "image/png": "[encoded data removed]",
      "text/plain": [
       "<matplotlib.figure.Figure at 0x11f69a150>"
      ]
     },
     "metadata": {},
     "output_type": "display_data"
    },
    {
     "data": {
      "image/png": "[encoded data removed]",
      "text/plain": [
       "<matplotlib.figure.Figure at 0x11f7b52d0>"
      ]
     },
     "metadata": {},
     "output_type": "display_data"
    }
   ],
   "source": [
    "# Show how the four matrices are like\n",
    "figure(figsize=(15, 2)); matshow(XArray[0,:,:,0].transpose(), vmin=0, vmax=50, cmap=cm.hot, fignum=0); colorbar()\n",
    "figure(figsize=(15, 2)); matshow(XArray[0,:,:,1].transpose(), vmin=-50, vmax=50, cmap=cm.bwr, fignum=0); colorbar()\n",
    "figure(figsize=(15, 2)); matshow(XArray[0,:,:,2].transpose(), vmin=-50, vmax=50, cmap=cm.bwr, fignum=0); colorbar()\n",
    "figure(figsize=(15, 2)); matshow(XArray[0,:,:,3].transpose(), vmin=-50, vmax=50, cmap=cm.bwr, fignum=0); colorbar()"
   ]
  },
  {
   "cell_type": "code",
   "execution_count": 9,
   "metadata": {
    "collapsed": false
   },
   "outputs": [],
   "source": [
    "# create a Clairvoyante network\n",
    "m = cv.Clairvoyante()\n",
    "m.init()"
   ]
  },
  {
   "cell_type": "code",
   "execution_count": 12,
   "metadata": {
    "collapsed": false
   },
   "outputs": [
    {
     "name": "stderr",
     "output_type": "stream",
     "text": [
      "Start at learning rate: 1.00e-03\n",
      "Number of variants for validation: 13276\n",
      "14 Training losses: 0.8066953125 Validation losses:  3.21956767616 Epoch time elapsed: 80.74 s\n",
      "27 Training losses: 0.758799658203 Validation losses:  2.68675264575 Epoch time elapsed: 77.20 s\n",
      "40 Training losses: 0.662985351563 Validation losses:  2.4042803979 Epoch time elapsed: 76.42 s\n",
      "53 Training losses: 0.819403320312 Validation losses:  2.95974114473 Epoch time elapsed: 76.47 s\n",
      "66 Training losses: 0.809888427734 Validation losses:  2.91491313037 Epoch time elapsed: 77.78 s\n",
      "79 Training losses: 0.806842871094 Validation losses:  2.91025187604 Epoch time elapsed: 79.25 s\n",
      "92 Training losses: 0.806234960938 Validation losses:  2.90969636233 Epoch time elapsed: 84.40 s\n",
      "105 Training losses: 0.805259716797 Validation losses:  2.90663338684 Epoch time elapsed: 87.60 s\n",
      "118 Training losses: 0.803079101562 Validation losses:  2.89481106649 Epoch time elapsed: 88.99 s\n",
      "131 Training losses: 0.794353613281 Validation losses:  2.83711973204 Epoch time elapsed: 90.26 s\n",
      "144 Training losses: 0.784123095703 Validation losses:  2.80400575992 Epoch time elapsed: 90.60 s\n",
      "157 Training losses: 0.775758544922 Validation losses:  2.76488941511 Epoch time elapsed: 89.60 s\n",
      "170 Training losses: 0.767610302734 Validation losses:  2.74559531768 Epoch time elapsed: 87.18 s\n",
      "183 Training losses: 0.759140966797 Validation losses:  2.72569921757 Epoch time elapsed: 89.72 s\n",
      "196 Training losses: 0.754471289063 Validation losses:  2.71763603024 Epoch time elapsed: 87.33 s\n",
      "209 Training losses: 0.674832666016 Validation losses:  2.37445257772 Epoch time elapsed: 85.34 s\n",
      "222 Training losses: 0.54224765625 Validation losses:  2.01376161636 Epoch time elapsed: 87.49 s\n",
      "235 Training losses: 0.4100765625 Validation losses:  1.31267580479 Epoch time elapsed: 81.01 s\n",
      "248 Training losses: 0.235814941406 Validation losses:  0.894493220261 Epoch time elapsed: 79.35 s\n",
      "261 Training losses: 0.189157629395 Validation losses:  0.619931599432 Epoch time elapsed: 79.10 s\n",
      "274 Training losses: 0.162052050781 Validation losses:  0.550266156681 Epoch time elapsed: 78.69 s\n",
      "287 Training losses: 0.150970349121 Validation losses:  0.503418667556 Epoch time elapsed: 78.67 s\n",
      "300 Training losses: 0.142746704102 Validation losses:  0.480547788596 Epoch time elapsed: 78.77 s\n",
      "313 Training losses: 0.136976342773 Validation losses:  0.462708126389 Epoch time elapsed: 82.01 s\n",
      "326 Training losses: 0.133261828613 Validation losses:  0.446596867997 Epoch time elapsed: 80.95 s\n",
      "339 Training losses: 0.127983972168 Validation losses:  0.431804733989 Epoch time elapsed: 80.51 s\n",
      "352 Training losses: 0.124821704102 Validation losses:  0.419343705276 Epoch time elapsed: 80.85 s\n",
      "365 Training losses: 0.120680773926 Validation losses:  0.407422411977 Epoch time elapsed: 81.38 s\n",
      "378 Training losses: 0.117163916016 Validation losses:  0.395632641256 Epoch time elapsed: 81.24 s\n",
      "391 Training losses: 0.11408338623 Validation losses:  0.386148929165 Epoch time elapsed: 81.44 s\n",
      "404 Training losses: 0.111482958984 Validation losses:  0.373655130146 Epoch time elapsed: 81.30 s\n",
      "417 Training losses: 0.0950400939941 Validation losses:  0.306828383043 Epoch time elapsed: 78.58 s\n",
      "430 Training losses: 0.0788402954102 Validation losses:  0.245762019604 Epoch time elapsed: 79.46 s\n",
      "443 Training losses: 0.0743386413574 Validation losses:  0.22923077902 Epoch time elapsed: 83.07 s\n",
      "456 Training losses: 0.0715226318359 Validation losses:  0.214884538182 Epoch time elapsed: 79.23 s\n",
      "469 Training losses: 0.0680607971191 Validation losses:  0.205907607301 Epoch time elapsed: 80.11 s\n",
      "482 Training losses: 0.0651727050781 Validation losses:  0.196626162665 Epoch time elapsed: 79.28 s\n",
      "495 Training losses: 0.0641193481445 Validation losses:  0.188336010617 Epoch time elapsed: 79.43 s\n",
      "508 Training losses: 0.0618451293945 Validation losses:  0.180415894548 Epoch time elapsed: 80.29 s\n",
      "521 Training losses: 0.0599225463867 Validation losses:  0.175804365755 Epoch time elapsed: 85.64 s\n",
      "534 Training losses: 0.056528704834 Validation losses:  0.16795854376 Epoch time elapsed: 81.94 s\n",
      "547 Training losses: 0.0558665161133 Validation losses:  0.162951399024 Epoch time elapsed: 85.92 s\n",
      "560 Training losses: 0.0557125183105 Validation losses:  0.158476192501 Epoch time elapsed: 83.61 s\n",
      "573 Training losses: 0.0525665161133 Validation losses:  0.154112555816 Epoch time elapsed: 85.61 s\n",
      "586 Training losses: 0.0524549072266 Validation losses:  0.149446216755 Epoch time elapsed: 85.84 s\n",
      "599 Training losses: 0.0500816040039 Validation losses:  0.146700710516 Epoch time elapsed: 87.43 s\n",
      "612 Training losses: 0.0494712188721 Validation losses:  0.141884302942 Epoch time elapsed: 87.73 s\n",
      "625 Training losses: 0.0487565551758 Validation losses:  0.141768641413 Epoch time elapsed: 84.31 s\n",
      "638 Training losses: 0.0469074157715 Validation losses:  0.140178251712 Epoch time elapsed: 80.93 s\n",
      "651 Training losses: 0.0476067565918 Validation losses:  0.136253418999 Epoch time elapsed: 78.86 s\n",
      "664 Training losses: 0.0463817138672 Validation losses:  0.130800620157 Epoch time elapsed: 78.71 s\n",
      "677 Training losses: 0.0456111541748 Validation losses:  0.126196107005 Epoch time elapsed: 77.73 s\n",
      "690 Training losses: 0.0437761199951 Validation losses:  0.12388615897 Epoch time elapsed: 78.81 s\n",
      "703 Training losses: 0.0431239227295 Validation losses:  0.12166405816 Epoch time elapsed: 79.56 s\n",
      "716 Training losses: 0.0425460601807 Validation losses:  0.118628501605 Epoch time elapsed: 84.05 s\n",
      "729 Training losses: 0.0412268249512 Validation losses:  0.116247054718 Epoch time elapsed: 80.18 s\n",
      "742 Training losses: 0.0407414459229 Validation losses:  0.113816498345 Epoch time elapsed: 83.99 s\n",
      "755 Training losses: 0.0393272613525 Validation losses:  0.112527036423 Epoch time elapsed: 79.97 s\n",
      "768 Training losses: 0.0399106750488 Validation losses:  0.109955321309 Epoch time elapsed: 80.91 s\n",
      "781 Training losses: 0.0389308563232 Validation losses:  0.108140918425 Epoch time elapsed: 80.98 s\n",
      "794 Training losses: 0.0373153076172 Validation losses:  0.106266620541 Epoch time elapsed: 81.06 s\n",
      "807 Training losses: 0.0376850799561 Validation losses:  0.105004743051 Epoch time elapsed: 80.92 s\n",
      "820 Training losses: 0.0374894470215 Validation losses:  0.102948158037 Epoch time elapsed: 82.24 s\n",
      "833 Training losses: 0.0373540863037 Validation losses:  0.101814263123 Epoch time elapsed: 82.89 s\n",
      "846 Training losses: 0.0357902313232 Validation losses:  0.101764555974 Epoch time elapsed: 80.94 s\n",
      "859 Training losses: 0.0342002838135 Validation losses:  0.101561286285 Epoch time elapsed: 85.12 s\n",
      "872 Training losses: 0.0354950775146 Validation losses:  0.100498476457 Epoch time elapsed: 82.91 s\n",
      "885 Training losses: 0.0355647705078 Validation losses:  0.100208334192 Epoch time elapsed: 86.78 s\n",
      "898 Training losses: 0.0357407653809 Validation losses:  0.0985934862928 Epoch time elapsed: 88.58 s\n",
      "911 Training losses: 0.0361460510254 Validation losses:  0.0982241675092 Epoch time elapsed: 83.31 s\n",
      "924 Training losses: 0.0343472503662 Validation losses:  0.0978653216154 Epoch time elapsed: 81.87 s\n",
      "937 Training losses: 0.0347512023926 Validation losses:  0.0986992450104 Epoch time elapsed: 82.51 s\n",
      "950 Training losses: 0.0331238128662 Validation losses:  0.0964813922033 Epoch time elapsed: 82.96 s\n",
      "963 Training losses: 0.032239175415 Validation losses:  0.0943275076972 Epoch time elapsed: 81.87 s\n",
      "976 Training losses: 0.0319640350342 Validation losses:  0.0927269117557 Epoch time elapsed: 82.27 s\n",
      "989 Training losses: 0.0318095184326 Validation losses:  0.0893378698815 Epoch time elapsed: 82.35 s\n",
      "1002 Training losses: 0.0313949188232 Validation losses:  0.0897581371136 Epoch time elapsed: 82.18 s\n",
      "1015 Training losses: 0.0316428863525 Validation losses:  0.0877500639223 Epoch time elapsed: 82.65 s\n",
      "1028 Training losses: 0.0312313903809 Validation losses:  0.0868851264294 Epoch time elapsed: 85.43 s\n",
      "1041 Training losses: 0.0306799743652 Validation losses:  0.088334412559 Epoch time elapsed: 87.27 s\n",
      "1054 Training losses: 0.0319570800781 Validation losses:  0.0873141011476 Epoch time elapsed: 89.06 s\n",
      "1067 Training losses: 0.0319703674316 Validation losses:  0.0866586306469 Epoch time elapsed: 86.86 s\n",
      "1080 Training losses: 0.030951953125 Validation losses:  0.0848720512609 Epoch time elapsed: 92.66 s\n",
      "1093 Training losses: 0.0298389343262 Validation losses:  0.0844142324201 Epoch time elapsed: 94.83 s\n",
      "1106 Training losses: 0.0300622436523 Validation losses:  0.0835729715658 Epoch time elapsed: 90.76 s\n",
      "1119 Training losses: 0.0300932434082 Validation losses:  0.0827105626459 Epoch time elapsed: 91.14 s\n",
      "1132 Training losses: 0.028937713623 Validation losses:  0.0830785389872 Epoch time elapsed: 95.23 s\n",
      "1145 Training losses: 0.0280050262451 Validation losses:  0.0809464921575 Epoch time elapsed: 89.88 s\n",
      "1158 Training losses: 0.0280366760254 Validation losses:  0.0807926997466 Epoch time elapsed: 87.32 s\n",
      "1171 Training losses: 0.028005947876 Validation losses:  0.0800816925867 Epoch time elapsed: 90.21 s\n",
      "1184 Training losses: 0.0275570983887 Validation losses:  0.0790221193319 Epoch time elapsed: 97.32 s\n",
      "1197 Training losses: 0.0279295623779 Validation losses:  0.0779199557119 Epoch time elapsed: 99.24 s\n",
      "1210 Training losses: 0.0271881134033 Validation losses:  0.0780286475742 Epoch time elapsed: 91.43 s\n",
      "1223 Training losses: 0.0277495758057 Validation losses:  0.0782279175209 Epoch time elapsed: 92.83 s\n",
      "1236 Training losses: 0.0267600372314 Validation losses:  0.0761842971898 Epoch time elapsed: 96.15 s\n",
      "1249 Training losses: 0.0275944030762 Validation losses:  0.0769260977722 Epoch time elapsed: 101.75 s\n",
      "1262 Training losses: 0.0273710205078 Validation losses:  0.0764658790857 Epoch time elapsed: 96.91 s\n",
      "New learning rate: 1.00e-04\n",
      "1275 Training losses: 0.0258715667725 Validation losses:  0.0753527874327 Epoch time elapsed: 91.10 s\n",
      "1288 Training losses: 0.0253698883057 Validation losses:  0.0743915113062 Epoch time elapsed: 82.14 s\n",
      "1301 Training losses: 0.0268753845215 Validation losses:  0.074180389248 Epoch time elapsed: 81.67 s\n",
      "1314 Training losses: 0.025304850769 Validation losses:  0.0740868320448 Epoch time elapsed: 83.80 s\n",
      "1327 Training losses: 0.0258132995605 Validation losses:  0.0739041725244 Epoch time elapsed: 86.62 s\n",
      "1340 Training losses: 0.0252376205444 Validation losses:  0.0740424303019 Epoch time elapsed: 89.53 s\n",
      "1353 Training losses: 0.0263211853027 Validation losses:  0.0737401278991 Epoch time elapsed: 87.87 s\n",
      "1366 Training losses: 0.0254268280029 Validation losses:  0.0738626441599 Epoch time elapsed: 84.51 s\n",
      "New learning rate: 1.00e-05\n",
      "1379 Training losses: 0.025843963623 Validation losses:  0.0738023537834 Epoch time elapsed: 84.04 s\n",
      "1392 Training losses: 0.0258091217041 Validation losses:  0.073782217147 Epoch time elapsed: 84.12 s\n",
      "1405 Training losses: 0.0252783370972 Validation losses:  0.0737484262161 Epoch time elapsed: 83.99 s\n",
      "1418 Training losses: 0.0252467269897 Validation losses:  0.0737626138097 Epoch time elapsed: 79.87 s\n",
      "1431 Training losses: 0.0258872528076 Validation losses:  0.0737906303992 Epoch time elapsed: 80.70 s\n",
      "1444 Training losses: 0.0251424667358 Validation losses:  0.073733121453 Epoch time elapsed: 82.74 s\n",
      "1457 Training losses: 0.0258803955078 Validation losses:  0.0736917080237 Epoch time elapsed: 90.46 s\n",
      "1470 Training losses: 0.0262585754395 Validation losses:  0.0736966870139 Epoch time elapsed: 90.10 s\n",
      "1483 Training losses: 0.0258962097168 Validation losses:  0.0737237427457 Epoch time elapsed: 87.88 s\n",
      "1496 Training losses: 0.0251343643188 Validation losses:  0.0737251265647 Epoch time elapsed: 87.12 s\n",
      "1509 Training losses: 0.0262524688721 Validation losses:  0.0736949997661 Epoch time elapsed: 88.03 s\n",
      "1522 Training losses: 0.0262877410889 Validation losses:  0.0736762331566 Epoch time elapsed: 88.88 s\n",
      "1535 Training losses: 0.0241207366943 Validation losses:  0.0736886967231 Epoch time elapsed: 91.83 s\n",
      "1548 Training losses: 0.0244744934082 Validation losses:  0.0736556873511 Epoch time elapsed: 91.20 s\n",
      "1561 Training losses: 0.0246086456299 Validation losses:  0.0736650844481 Epoch time elapsed: 85.56 s\n",
      "Training time elapsed: 10167.26 s\n"
     ]
    }
   ],
   "source": [
    "# training the model. The code train on all variants and validate on the first 10% variant sites\n",
    "trainingStart = time.time()\n",
    "trainBatchSize = param.trainBatchSize\n",
    "validationLosses = []\n",
    "numValItems = int(len(XArray) * 0.1 + 0.499)\n",
    "print >> sys.stderr, \"Start at learning rate: %.2e\" % m.setLearningRate(0.001)\n",
    "c = 0; maxLearningRateSwitch = 3\n",
    "epochStart = time.time()\n",
    "datasetPtr = 0\n",
    "numValItems = int(total * 0.1 + 0.499)\n",
    "valXArray, _, _ = utils.DecompressArray(XArrayCompressed, 0, numValItems, total)\n",
    "valYArray, _, _ = utils.DecompressArray(YArrayCompressed, 0, numValItems, total)\n",
    "print >> sys.stderr, \"Number of variants for validation: %d\" % len(valXArray)\n",
    "i = 1\n",
    "while i < (1 + int(param.maxEpoch * total / trainBatchSize + 0.499)):\n",
    "    XBatch, _, endFlag = utils.DecompressArray(XArrayCompressed, datasetPtr, trainBatchSize, total)\n",
    "    YBatch, _, _ = utils.DecompressArray(YArrayCompressed, datasetPtr, trainBatchSize, total)\n",
    "    loss, _ = m.train(XBatch, YBatch)\n",
    "    if endFlag != 0:\n",
    "        validationLoss = m.getLoss( valXArray, valYArray )\n",
    "        print >> sys.stderr, \" \".join([str(i),\\\n",
    "                                       \"Training losses:\", str(loss/trainBatchSize),\\\n",
    "                                       \"Validation losses: \", str(validationLoss/numValItems),\\\n",
    "                                       \"Epoch time elapsed: %.2f s\" % (time.time() - epochStart)])\n",
    "        validationLosses.append( (validationLoss, i) )\n",
    "        c += 1\n",
    "        flag = 0\n",
    "        if c >= 5:\n",
    "            if validationLosses[-5][0] - validationLosses[-4][0] < 0:\n",
    "                if validationLosses[-4][0] - validationLosses[-3][0] > 0:\n",
    "                    if validationLosses[-3][0] - validationLosses[-2][0] < 0:\n",
    "                        if validationLosses[-2][0] - validationLosses[-1][0] > 0:\n",
    "                            flag = 1\n",
    "            elif validationLosses[-5][0] - validationLosses[-4][0] > 0:\n",
    "                if validationLosses[-4][0] - validationLosses[-3][0] < 0:\n",
    "                    if validationLosses[-3][0] - validationLosses[-2][0] > 0:\n",
    "                        if validationLosses[-2][0] - validationLosses[-1][0] < 0:\n",
    "                            flag = 1\n",
    "            else: flag = 1\n",
    "        if flag == 1:\n",
    "            maxLearningRateSwitch -= 1\n",
    "            if maxLearningRateSwitch == 0: break\n",
    "            print >> sys.stderr, \"New learning rate: %.2e\" % m.setLearningRate()\n",
    "            c = 0\n",
    "        epochStart = time.time()\n",
    "        datasetPtr = 0\n",
    "    i += 1\n",
    "    datasetPtr += trainBatchSize\n",
    "\n",
    "print >> sys.stderr, \"Training time elapsed: %.2f s\" % (time.time() - trainingStart)"
   ]
  },
  {
   "cell_type": "markdown",
   "metadata": {},
   "source": [
    "## Testing on the training dataset"
   ]
  },
  {
   "cell_type": "code",
   "execution_count": 14,
   "metadata": {
    "collapsed": false
   },
   "outputs": [
    {
     "name": "stderr",
     "output_type": "stream",
     "text": [
      "Prediciton time elapsed: 19.43 s\n",
      "Version 2 model, evaluation on base change:\n",
      "all/top1/top2/top1p/top2p: 132765/107670/132057/81.10/99.47\n",
      "Version 2 model, evaluation on Zygosity:\n",
      "50278\t415\n",
      "339\t81733\n",
      "Version 2 model, evaluation on variant type:\n",
      "54095\t268\t0\t0\n",
      "205\t78001\t0\t0\n",
      "102\t48\t0\t0\n",
      "41\t5\t0\t0\n",
      "Version 2 model, evaluation on indel length:\n",
      "132556\t13\t0\t0\t0\t0\n",
      "67\t41\t0\t0\t0\t0\n",
      "28\t12\t0\t0\t0\t0\n",
      "9\t2\t0\t0\t0\t0\n",
      "15\t0\t0\t0\t0\t0\n",
      "22\t0\t0\t0\t0\t0\n"
     ]
    }
   ],
   "source": [
    "predictStart = time.time()\n",
    "predictBatchSize = param.predictBatchSize\n",
    "datasetPtr = 0\n",
    "XBatch, _, _ = utils.DecompressArray(XArrayCompressed, datasetPtr, predictBatchSize, total)\n",
    "bases = []; zs = []; ts = []; ls = []\n",
    "base, z, t, l = m.predict(XBatch)\n",
    "bases.append(base); zs.append(z); ts.append(t); ls.append(l)\n",
    "datasetPtr += predictBatchSize\n",
    "while datasetPtr < total:\n",
    "    XBatch, _, endFlag = utils.DecompressArray(XArrayCompressed, datasetPtr, predictBatchSize, total)\n",
    "    base, z, t, l = m.predict(XBatch)\n",
    "    bases.append(base); zs.append(z); ts.append(t); ls.append(l)\n",
    "    datasetPtr += predictBatchSize\n",
    "    if endFlag != 0:\n",
    "        break\n",
    "bases = np.concatenate(bases[:]); zs = np.concatenate(zs[:]); ts = np.concatenate(ts[:]); ls = np.concatenate(ls[:])\n",
    "print >> sys.stderr, \"Prediciton time elapsed: %.2f s\" % (time.time() - predictStart)\n",
    "\n",
    "# Evaluate the trained model\n",
    "YArray, _, _ = utils.DecompressArray(YArrayCompressed, 0, total, total)\n",
    "print >> sys.stderr, \"Version 2 model, evaluation on base change:\"\n",
    "allBaseCount = top1Count = top2Count = 0\n",
    "for predictV, annotateV in zip(bases, YArray[:,0:4]):\n",
    "    allBaseCount += 1\n",
    "    sortPredictV = predictV.argsort()[::-1]\n",
    "    if np.argmax(annotateV) == sortPredictV[0]: top1Count += 1; top2Count += 1\n",
    "    elif np.argmax(annotateV) == sortPredictV[1]: top2Count += 1\n",
    "print >> sys.stderr, \"all/top1/top2/top1p/top2p: %d/%d/%d/%.2f/%.2f\" %\\\n",
    "            (allBaseCount, top1Count, top2Count, float(top1Count)/allBaseCount*100, float(top2Count)/allBaseCount*100)\n",
    "print >> sys.stderr, \"Version 2 model, evaluation on Zygosity:\"\n",
    "ed = np.zeros( (2,2), dtype=np.int )\n",
    "for predictV, annotateV in zip(zs, YArray[:,4:6]):\n",
    "    ed[np.argmax(annotateV)][np.argmax(predictV)] += 1\n",
    "for i in range(2):\n",
    "    print >> sys.stderr, \"\\t\".join([str(ed[i][j]) for j in range(2)])\n",
    "print >> sys.stderr, \"Version 2 model, evaluation on variant type:\"\n",
    "ed = np.zeros( (4,4), dtype=np.int )\n",
    "for predictV, annotateV in zip(ts, YArray[:,6:10]):\n",
    "    ed[np.argmax(annotateV)][np.argmax(predictV)] += 1\n",
    "for i in range(4):\n",
    "    print >> sys.stderr, \"\\t\".join([str(ed[i][j]) for j in range(4)])\n",
    "print >> sys.stderr, \"Version 2 model, evaluation on indel length:\"\n",
    "ed = np.zeros( (6,6), dtype=np.int )\n",
    "for predictV, annotateV in zip(ls, YArray[:,10:16]):\n",
    "    ed[np.argmax(annotateV)][np.argmax(predictV)] += 1\n",
    "for i in range(6):\n",
    "    print >> sys.stderr, \"\\t\".join([str(ed[i][j]) for j in range(6)])"
   ]
  },
  {
   "cell_type": "markdown",
   "metadata": {},
   "source": [
    "## Testing on the chr22 variants"
   ]
  },
  {
   "cell_type": "code",
   "execution_count": 15,
   "metadata": {
    "collapsed": false
   },
   "outputs": [],
   "source": [
    "total, XArrayCompressed, YArrayCompressed, posArrayCompressed = \\\n",
    "utils.GetTrainingArray(\"../training/tensor_can_chr22\",\n",
    "                       \"../training/var_chr22\",\n",
    "                       \"../training/bed\")\n",
    "YArray, _, _ = utils.DecompressArray(YArrayCompressed, 0, total, total)"
   ]
  },
  {
   "cell_type": "code",
   "execution_count": 16,
   "metadata": {
    "collapsed": false
   },
   "outputs": [
    {
     "name": "stderr",
     "output_type": "stream",
     "text": [
      "Testing on the training and validation dataset ...\n",
      "Prediciton time elapsed: 11.52 s\n",
      "Version 2 model, evaluation on base change:\n",
      "all/top1/top2/top1p/top2p: 69760/57673/69399/82.67/99.48\n",
      "Version 2 model, evaluation on Zygosity:\n",
      "23695\t217\n",
      "189\t45659\n",
      "Version 2 model, evaluation on variant type:\n",
      "35065\t160\t0\t0\n",
      "121\t34320\t0\t0\n",
      "50\t22\t0\t0\n",
      "19\t3\t0\t0\n",
      "Version 2 model, evaluation on indel length:\n",
      "69657\t9\t0\t0\t0\t0\n",
      "31\t23\t0\t0\t0\t0\n",
      "13\t4\t0\t0\t0\t0\n",
      "5\t2\t0\t0\t0\t0\n",
      "5\t0\t0\t0\t0\t0\n",
      "11\t0\t0\t0\t0\t0\n"
     ]
    }
   ],
   "source": [
    "print >> sys.stderr, \"Testing on the training and validation dataset ...\"\n",
    "predictStart = time.time()\n",
    "predictBatchSize = param.predictBatchSize\n",
    "datasetPtr = 0\n",
    "XBatch, _, _ = utils.DecompressArray(XArrayCompressed, datasetPtr, predictBatchSize, total)\n",
    "bases = []; zs = []; ts = []; ls = []\n",
    "base, z, t, l = m.predict(XBatch)\n",
    "bases.append(base); zs.append(z); ts.append(t); ls.append(l)\n",
    "datasetPtr += predictBatchSize\n",
    "while datasetPtr < total:\n",
    "    XBatch, _, endFlag = utils.DecompressArray(XArrayCompressed, datasetPtr, predictBatchSize, total)\n",
    "    base, z, t, l = m.predict(XBatch)\n",
    "    bases.append(base); zs.append(z); ts.append(t); ls.append(l)\n",
    "    datasetPtr += predictBatchSize\n",
    "    if endFlag != 0:\n",
    "        break\n",
    "bases = np.concatenate(bases[:]); zs = np.concatenate(zs[:]); ts = np.concatenate(ts[:]); ls = np.concatenate(ls[:])\n",
    "print >> sys.stderr, \"Prediciton time elapsed: %.2f s\" % (time.time() - predictStart)\n",
    "\n",
    "# Evaluate the trained model\n",
    "YArray, _, _ = utils.DecompressArray(YArrayCompressed, 0, total, total)\n",
    "print >> sys.stderr, \"Version 2 model, evaluation on base change:\"\n",
    "allBaseCount = top1Count = top2Count = 0\n",
    "for predictV, annotateV in zip(bases, YArray[:,0:4]):\n",
    "    allBaseCount += 1\n",
    "    sortPredictV = predictV.argsort()[::-1]\n",
    "    if np.argmax(annotateV) == sortPredictV[0]: top1Count += 1; top2Count += 1\n",
    "    elif np.argmax(annotateV) == sortPredictV[1]: top2Count += 1\n",
    "print >> sys.stderr, \"all/top1/top2/top1p/top2p: %d/%d/%d/%.2f/%.2f\" %\\\n",
    "            (allBaseCount, top1Count, top2Count, float(top1Count)/allBaseCount*100, float(top2Count)/allBaseCount*100)\n",
    "print >> sys.stderr, \"Version 2 model, evaluation on Zygosity:\"\n",
    "ed = np.zeros( (2,2), dtype=np.int )\n",
    "for predictV, annotateV in zip(zs, YArray[:,4:6]):\n",
    "    ed[np.argmax(annotateV)][np.argmax(predictV)] += 1\n",
    "for i in range(2):\n",
    "    print >> sys.stderr, \"\\t\".join([str(ed[i][j]) for j in range(2)])\n",
    "print >> sys.stderr, \"Version 2 model, evaluation on variant type:\"\n",
    "ed = np.zeros( (4,4), dtype=np.int )\n",
    "for predictV, annotateV in zip(ts, YArray[:,6:10]):\n",
    "    ed[np.argmax(annotateV)][np.argmax(predictV)] += 1\n",
    "for i in range(4):\n",
    "    print >> sys.stderr, \"\\t\".join([str(ed[i][j]) for j in range(4)])\n",
    "print >> sys.stderr, \"Version 2 model, evaluation on indel length:\"\n",
    "ed = np.zeros( (6,6), dtype=np.int )\n",
    "for predictV, annotateV in zip(ls, YArray[:,10:16]):\n",
    "    ed[np.argmax(annotateV)][np.argmax(predictV)] += 1\n",
    "for i in range(6):\n",
    "    print >> sys.stderr, \"\\t\".join([str(ed[i][j]) for j in range(6)])"
   ]
  },
  {
   "cell_type": "markdown",
   "metadata": {},
   "source": [
    "## Visualizing predictions"
   ]
  },
  {
   "cell_type": "code",
   "execution_count": 17,
   "metadata": {
    "collapsed": false
   },
   "outputs": [
    {
     "data": {
      "text/plain": [
       "<matplotlib.image.AxesImage at 0x11fa3fc90>"
      ]
     },
     "execution_count": 17,
     "metadata": {},
     "output_type": "execute_result"
    },
    {
     "data": {
      "image/png": "[encoded data removed]",
      "text/plain": [
       "<matplotlib.figure.Figure at 0x11f894e90>"
      ]
     },
     "metadata": {},
     "output_type": "display_data"
    },
    {
     "data": {
      "image/png": "[encoded data removed]",
      "text/plain": [
       "<matplotlib.figure.Figure at 0x11f871850>"
      ]
     },
     "metadata": {},
     "output_type": "display_data"
    }
   ],
   "source": [
    "# Compare the output of the expected calls and the predicted calls\n",
    "arrayStart = 0\n",
    "arrayEnd = 100\n",
    "figure(figsize=(20, 5))\n",
    "matshow(YArray[arrayStart:arrayEnd,:].transpose(), fignum=0, cmap=cm.PuRd)\n",
    "figure(figsize=(20, 5))\n",
    "matshow(np.concatenate( (bases[arrayStart:arrayEnd,:],zs[arrayStart:arrayEnd,:],\\\n",
    "                         ts[arrayStart:arrayEnd,:],ls[arrayStart:arrayEnd,:]),1).transpose(), fignum=0, cmap=cm.PuRd)"
   ]
  },
  {
   "cell_type": "code",
   "execution_count": null,
   "metadata": {
    "collapsed": true
   },
   "outputs": [],
   "source": []
  }
 ],
 "metadata": {
  "kernelspec": {
   "display_name": "Python 2",
   "language": "python",
   "name": "python2"
  },
  "language_info": {
   "codemirror_mode": {
    "name": "ipython",
    "version": 2
   },
   "file_extension": ".py",
   "mimetype": "text/x-python",
   "name": "python",
   "nbconvert_exporter": "python",
   "pygments_lexer": "ipython2",
   "version": "2.7.13"
  }
 },
 "nbformat": 4,
 "nbformat_minor": 2
}
