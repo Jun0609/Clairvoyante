{
 "cells": [
  {
   "cell_type": "markdown",
   "metadata": {},
   "source": [
    "# Clairvoyante\n"
   ]
  },
  {
   "cell_type": "code",
   "execution_count": 1,
   "metadata": {
    "collapsed": false
   },
   "outputs": [
    {
     "name": "stdout",
     "output_type": "stream",
     "text": [
      "Populating the interactive namespace from numpy and matplotlib\n"
     ]
    }
   ],
   "source": [
    "%matplotlib inline\n",
    "%pylab inline\n",
    "import sys\n",
    "sys.path.append('../')\n",
    "import numpy as np\n",
    "import time\n",
    "import pickle\n",
    "from random import randrange"
   ]
  },
  {
   "cell_type": "code",
   "execution_count": 3,
   "metadata": {
    "collapsed": false
   },
   "outputs": [],
   "source": [
    "#import clairvoyante\n",
    "import clairvoyante.utils_v1 as utils\n",
    "import clairvoyante.clairvoyante_v1 as cv\n",
    "import clairvoyante.param as param"
   ]
  },
  {
   "cell_type": "markdown",
   "metadata": {},
   "source": [
    "Please run prepDataBeforeDemo.sh to generate training and testing data from BAM and VCF files before proceeding.\n",
    "\n",
    "References:\n",
    "1. The GIAB v3.3.2 NA12878 truth variant dataset is available at ftp://ftp-trace.ncbi.nlm.nih.gov/giab/ftp/release/NA12878_HG001/NISTv3.3.2/GRCh38\n",
    "2. The Illumina alignment is available at ftp://ftp-trace.ncbi.nlm.nih.gov/giab/ftp/data/NA12878/NIST_NA12878_HG001_HiSeq_300x/, the chr21.bam and chr22.bam were extracted from the HG001.GRCh38_full_plus_hs38d1_analysis_set_minus_alts.300x.bam file, downsampled to 50x.\n",
    "\n",
    "#### prepDataBeforeDemo.sh:\n",
    "```\n",
    "mkdir ../training\n",
    "python ../dataPrepScripts/ExtractVariantCandidates.py --bam_fn ../testingData/chr21/chr21.bam --ref_fn ../testingData/chr21/chr21.fa --can_fn ../training/can_chr21 --ctgName chr21 --ctgStart 10269870 --ctgEnd 46672937 &\n",
    "python ../dataPrepScripts/GetTruth.py --vcf_fn ../testingData/chr21/chr21.vcf --var_fn ../training/var_chr21 --ctgName chr21 &\n",
    "python ../dataPrepScripts/ExtractVariantCandidates.py --bam_fn ../testingData/chr22/chr22.bam --ref_fn ../testingData/chr22/chr22.fa --can_fn ../training/can_chr22 --ctgName chr22 --ctgStart 18924717 --ctgEnd 49973797 &\n",
    "python ../dataPrepScripts/GetTruth.py --vcf_fn ../testingData/chr22/chr22.vcf --var_fn ../training/var_chr22 --ctgName chr22 &\n",
    "wait\n",
    "\n",
    "python ../dataPrepScripts/CreateTensor.py --bam_fn ../testingData/chr21/chr21.bam --can_fn ../training/can_chr21 --ref_fn ../testingData/chr21/chr21.fa --tensor_fn ../training/tensor_can_chr21 --ctgName chr21 --ctgStart 10269870 --ctgEnd 46672937 &\n",
    "python ../dataPrepScripts/CreateTensor.py --bam_fn ../testingData/chr22/chr22.bam --can_fn ../training/can_chr22 --ref_fn ../testingData/chr22/chr22.fa --tensor_fn ../training/tensor_can_chr22 --ctgName chr22 --ctgStart 18924717 --ctgEnd 49973797 &\n",
    "wait\n",
    "\n",
    "cat ../training/can_chr21 ../training/can_chr22 > ../training/can_mul\n",
    "cat ../training/var_chr21 ../training/var_chr22 > ../training/var_mul\n",
    "cat ../training/tensor_can_chr21 ../training/tensor_can_chr22 > ../training/tensor_can_mul\n",
    "cat ../testingData/chr21/chr21.bed ../testingData/chr22/chr22.bed > ../training/bed\n",
    "python tensor2Bin.py --tensor_fn ../training/tensor_can_mul --var_fn ../training/var_mul --bed_fn ../training/bed --bin_fn ../training/tensor.bin\n",
    "```"
   ]
  },
  {
   "cell_type": "markdown",
   "metadata": {},
   "source": [
    "## Train using the chr21+chr22 variants"
   ]
  },
  {
   "cell_type": "code",
   "execution_count": 4,
   "metadata": {
    "collapsed": false
   },
   "outputs": [],
   "source": [
    "# Load the preprocessed and compressed tensors into memory\n",
    "with open(\"../training/tensor.bin\", \"rb\") as fh:\n",
    "    total = pickle.load(fh)\n",
    "    XArrayCompressed = pickle.load(fh)\n",
    "    YArrayCompressed = pickle.load(fh)\n",
    "    posArrayCompressed = pickle.load(fh)"
   ]
  },
  {
   "cell_type": "code",
   "execution_count": 5,
   "metadata": {
    "collapsed": false
   },
   "outputs": [
    {
     "name": "stderr",
     "output_type": "stream",
     "text": [
      "The size of training dataset: 132765\n"
     ]
    }
   ],
   "source": [
    "print >> sys.stderr, \"The size of training dataset: {}\".format(total)"
   ]
  },
  {
   "cell_type": "code",
   "execution_count": 6,
   "metadata": {
    "collapsed": true
   },
   "outputs": [],
   "source": [
    "# Pick a random candidate\n",
    "i = randrange(total)\n",
    "XArray, _, _ = utils.DecompressArray(XArrayCompressed, i, 1, total)"
   ]
  },
  {
   "cell_type": "code",
   "execution_count": 7,
   "metadata": {
    "collapsed": false
   },
   "outputs": [
    {
     "data": {
      "text/plain": [
       "<matplotlib.colorbar.Colorbar at 0x11d181b50>"
      ]
     },
     "execution_count": 7,
     "metadata": {},
     "output_type": "execute_result"
    },
    {
     "data": {
      "image/png": "[encoded data removed]",
      "text/plain": [
       "<matplotlib.figure.Figure at 0x11b689150>"
      ]
     },
     "metadata": {},
     "output_type": "display_data"
    },
    {
     "data": {
      "image/png": "[encoded data removed]",
      "text/plain": [
       "<matplotlib.figure.Figure at 0x11cde1790>"
      ]
     },
     "metadata": {},
     "output_type": "display_data"
    },
    {
     "data": {
      "image/png": "[encoded data removed]",
      "text/plain": [
       "<matplotlib.figure.Figure at 0x11cf4d190>"
      ]
     },
     "metadata": {},
     "output_type": "display_data"
    },
    {
     "data": {
      "image/png": "[encoded data removed]",
      "text/plain": [
       "<matplotlib.figure.Figure at 0x11d067250>"
      ]
     },
     "metadata": {},
     "output_type": "display_data"
    }
   ],
   "source": [
    "# Show how the four matrices are like\n",
    "figure(figsize=(15, 2)); matshow(XArray[0,:,:,0].transpose(), vmin=0, vmax=50, cmap=cm.hot, fignum=0); colorbar()\n",
    "figure(figsize=(15, 2)); matshow(XArray[0,:,:,1].transpose(), vmin=-50, vmax=50, cmap=cm.bwr, fignum=0); colorbar()\n",
    "figure(figsize=(15, 2)); matshow(XArray[0,:,:,2].transpose(), vmin=-50, vmax=50, cmap=cm.bwr, fignum=0); colorbar()\n",
    "figure(figsize=(15, 2)); matshow(XArray[0,:,:,3].transpose(), vmin=-50, vmax=50, cmap=cm.bwr, fignum=0); colorbar()"
   ]
  },
  {
   "cell_type": "code",
   "execution_count": 8,
   "metadata": {
    "collapsed": false
   },
   "outputs": [],
   "source": [
    "# create a Clairvoyante network\n",
    "m = cv.Clairvoyante()\n",
    "m.init()"
   ]
  },
  {
   "cell_type": "code",
   "execution_count": 9,
   "metadata": {
    "collapsed": false
   },
   "outputs": [
    {
     "name": "stderr",
     "output_type": "stream",
     "text": [
      "Start at learning rate: 1.00e-03\n",
      "Number of variants for validation: 13276\n",
      "14 Training lost: 0.440936425781 Validation lost:  1.52959140319 Epoch time elapsed: 78.98 s\n",
      "27 Training lost: 0.206801293945 Validation lost:  0.784941827005 Epoch time elapsed: 89.25 s\n",
      "40 Training lost: 0.186730456543 Validation lost:  0.664945863894 Epoch time elapsed: 94.48 s\n",
      "53 Training lost: 0.171750085449 Validation lost:  0.585795936688 Epoch time elapsed: 99.29 s\n",
      "66 Training lost: 0.148041589355 Validation lost:  0.501996009599 Epoch time elapsed: 111.48 s\n",
      "79 Training lost: 0.111953881836 Validation lost:  0.366647065781 Epoch time elapsed: 120.49 s\n",
      "92 Training lost: 0.0832566345215 Validation lost:  0.29826194531 Epoch time elapsed: 100.41 s\n",
      "105 Training lost: 0.0661357666016 Validation lost:  0.231323757097 Epoch time elapsed: 115.93 s\n",
      "118 Training lost: 0.0564356323242 Validation lost:  0.186082233683 Epoch time elapsed: 103.76 s\n",
      "131 Training lost: 0.0488859466553 Validation lost:  0.167387895392 Epoch time elapsed: 97.80 s\n",
      "144 Training lost: 0.0417902008057 Validation lost:  0.135669557687 Epoch time elapsed: 106.47 s\n",
      "157 Training lost: 0.0358626251221 Validation lost:  0.110797032709 Epoch time elapsed: 104.82 s\n",
      "170 Training lost: 0.0293861694336 Validation lost:  0.0887274999294 Epoch time elapsed: 98.98 s\n",
      "183 Training lost: 0.025382800293 Validation lost:  0.0755744007705 Epoch time elapsed: 99.12 s\n",
      "196 Training lost: 0.0245509552002 Validation lost:  0.070400567901 Epoch time elapsed: 99.17 s\n",
      "209 Training lost: 0.0219764648438 Validation lost:  0.0662136370965 Epoch time elapsed: 98.46 s\n",
      "222 Training lost: 0.0213069534302 Validation lost:  0.0603099523017 Epoch time elapsed: 93.08 s\n",
      "235 Training lost: 0.0201031585693 Validation lost:  0.0579059321538 Epoch time elapsed: 81.55 s\n",
      "248 Training lost: 0.0193459686279 Validation lost:  0.0571984282169 Epoch time elapsed: 82.94 s\n",
      "261 Training lost: 0.0181082199097 Validation lost:  0.0595905502793 Epoch time elapsed: 81.10 s\n",
      "274 Training lost: 0.0172142410278 Validation lost:  0.0579564116668 Epoch time elapsed: 80.37 s\n",
      "New learning rate: 2.00e-04\n",
      "287 Training lost: 0.0150531036377 Validation lost:  0.0463887691929 Epoch time elapsed: 80.02 s\n",
      "300 Training lost: 0.0154088348389 Validation lost:  0.0454202153734 Epoch time elapsed: 79.88 s\n",
      "313 Training lost: 0.0146986114502 Validation lost:  0.0445216708458 Epoch time elapsed: 79.81 s\n",
      "326 Training lost: 0.0147353942871 Validation lost:  0.0441243492648 Epoch time elapsed: 79.75 s\n",
      "339 Training lost: 0.0147372329712 Validation lost:  0.0440287875928 Epoch time elapsed: 80.39 s\n",
      "352 Training lost: 0.0143306838989 Validation lost:  0.043457371458 Epoch time elapsed: 80.21 s\n",
      "365 Training lost: 0.0135322052002 Validation lost:  0.0431330198982 Epoch time elapsed: 79.52 s\n",
      "378 Training lost: 0.0142353439331 Validation lost:  0.0426661303762 Epoch time elapsed: 82.46 s\n",
      "391 Training lost: 0.0142738052368 Validation lost:  0.0422960943973 Epoch time elapsed: 80.35 s\n",
      "404 Training lost: 0.0139170806885 Validation lost:  0.0425031891283 Epoch time elapsed: 79.83 s\n",
      "417 Training lost: 0.0143393890381 Validation lost:  0.0417659721593 Epoch time elapsed: 80.28 s\n",
      "New learning rate: 4.00e-05\n",
      "430 Training lost: 0.0141897140503 Validation lost:  0.0412022428866 Epoch time elapsed: 79.81 s\n",
      "443 Training lost: 0.0139695220947 Validation lost:  0.0411239582647 Epoch time elapsed: 79.42 s\n",
      "456 Training lost: 0.0138181777954 Validation lost:  0.0408963499101 Epoch time elapsed: 78.99 s\n",
      "469 Training lost: 0.0139510299683 Validation lost:  0.0409040873436 Epoch time elapsed: 79.49 s\n",
      "482 Training lost: 0.0140561004639 Validation lost:  0.0407554302348 Epoch time elapsed: 79.30 s\n",
      "Training time elapsed: 3317.47 s\n"
     ]
    }
   ],
   "source": [
    "# training the model. The code train on all variants and validate on the first 10% variant sites\n",
    "trainingStart = time.time()\n",
    "trainBatchSize = param.trainBatchSize\n",
    "validationLosts = []\n",
    "numValItems = int(len(XArray) * 0.1 + 0.499)\n",
    "print >> sys.stderr, \"Start at learning rate: %.2e\" % m.setLearningRate(0.001)\n",
    "c = 0; maxLearningRateSwitch = 3\n",
    "epochStart = time.time()\n",
    "datasetPtr = 0\n",
    "numValItems = int(total * 0.1 + 0.499)\n",
    "valXArray, _, _ = utils.DecompressArray(XArrayCompressed, 0, numValItems, total)\n",
    "valYArray, _, _ = utils.DecompressArray(YArrayCompressed, 0, numValItems, total)\n",
    "print >> sys.stderr, \"Number of variants for validation: %d\" % len(valXArray)\n",
    "i = 1\n",
    "while i < (1 + int(param.maxEpoch * total / trainBatchSize + 0.499)):\n",
    "    XBatch, _, endFlag = utils.DecompressArray(XArrayCompressed, datasetPtr, trainBatchSize, total)\n",
    "    YBatch, _, _ = utils.DecompressArray(YArrayCompressed, datasetPtr, trainBatchSize, total)\n",
    "    loss, _ = m.train(XBatch, YBatch)\n",
    "    if endFlag != 0:\n",
    "        validationLost = m.getLoss( valXArray, valYArray )\n",
    "        print >> sys.stderr, \" \".join([str(i),\\\n",
    "                                       \"Training lost:\", str(loss/trainBatchSize),\\\n",
    "                                       \"Validation lost: \", str(validationLost/numValItems),\\\n",
    "                                       \"Epoch time elapsed: %.2f s\" % (time.time() - epochStart)])\n",
    "        validationLosts.append( (validationLost, i) )\n",
    "        c += 1\n",
    "        flag = 0\n",
    "        if c >= 4:\n",
    "            if validationLosts[-4][0] - validationLosts[-3][0] > 0:\n",
    "                if validationLosts[-3][0] - validationLosts[-2][0] < 0:\n",
    "                    if validationLosts[-2][0] - validationLosts[-1][0] > 0:\n",
    "                        flag = 1\n",
    "            elif validationLosts[-4][0] - validationLosts[-3][0] < 0:\n",
    "                if validationLosts[-3][0] - validationLosts[-2][0] > 0:\n",
    "                    if validationLosts[-2][0] - validationLosts[-1][0] < 0:\n",
    "                        flag = 1\n",
    "            else: flag = 1\n",
    "        if flag == 1:\n",
    "            maxLearningRateSwitch -= 1\n",
    "            if maxLearningRateSwitch == 0: break\n",
    "            print >> sys.stderr, \"New learning rate: %.2e\" % m.setLearningRate()\n",
    "            c = 0\n",
    "        epochStart = time.time()\n",
    "        datasetPtr = 0\n",
    "    i += 1\n",
    "    datasetPtr += trainBatchSize\n",
    "\n",
    "print >> sys.stderr, \"Training time elapsed: %.2f s\" % (time.time() - trainingStart)"
   ]
  },
  {
   "cell_type": "markdown",
   "metadata": {},
   "source": [
    "## Testing on the training dataset"
   ]
  },
  {
   "cell_type": "code",
   "execution_count": 10,
   "metadata": {
    "collapsed": false
   },
   "outputs": [
    {
     "name": "stderr",
     "output_type": "stream",
     "text": [
      "Prediciton time elapsed: 27.81 s\n",
      "Version 1 model, evaluation on base change:\n",
      "all/top1/top2/top1p/top2p: 132765/105023/132329/79.10/99.67\n",
      "Version 1 model, evaluation on variant type:\n",
      "50256\t40\t0\t0\t235\n",
      "35\t27640\t0\t0\t0\n",
      "27\t11\t21\t0\t91\n",
      "4\t0\t1\t0\t41\n",
      "278\t30\t8\t0\t54047\n"
     ]
    }
   ],
   "source": [
    "predictStart = time.time()\n",
    "predictBatchSize = param.predictBatchSize\n",
    "datasetPtr = 0\n",
    "XBatch, _, _ = utils.DecompressArray(XArrayCompressed, datasetPtr, predictBatchSize, total)\n",
    "bases, ts = m.predict(XBatch)\n",
    "datasetPtr += predictBatchSize\n",
    "while datasetPtr < total:\n",
    "    XBatch, _, endFlag = utils.DecompressArray(XArrayCompressed, datasetPtr, predictBatchSize, total)\n",
    "    base, t = m.predict(XBatch)\n",
    "    bases = np.append(bases, base, 0)\n",
    "    ts = np.append(ts, t, 0)\n",
    "    datasetPtr += predictBatchSize\n",
    "    if endFlag != 0:\n",
    "        break\n",
    "print >> sys.stderr, \"Prediciton time elapsed: %.2f s\" % (time.time() - predictStart)\n",
    "\n",
    "\n",
    "YArray, _, _ = utils.DecompressArray(YArrayCompressed, 0, total, total)\n",
    "print >> sys.stderr, \"Version 1 model, evaluation on base change:\"\n",
    "allBaseCount = top1Count = top2Count = 0\n",
    "for predictV, annotateV in zip(bases, YArray[:,0:4]):\n",
    "    allBaseCount += 1\n",
    "    sortPredictV = predictV.argsort()[::-1]\n",
    "    if np.argmax(annotateV) == sortPredictV[0]:\n",
    "        top1Count += 1\n",
    "        top2Count += 1\n",
    "    elif np.argmax(annotateV) == sortPredictV[1]:\n",
    "        top2Count += 1\n",
    "print >> sys.stderr, \"all/top1/top2/top1p/top2p: %d/%d/%d/%.2f/%.2f\"\\\n",
    "    % (allBaseCount, top1Count, top2Count, float(top1Count)/allBaseCount*100, float(top2Count)/allBaseCount*100)\n",
    "print >> sys.stderr, \"Version 1 model, evaluation on variant type:\"\n",
    "ed = np.zeros( (5,5), dtype=np.int )\n",
    "for predictV, annotateV in zip(ts, YArray[:,4:9]):\n",
    "    ed[np.argmax(annotateV)][np.argmax(predictV)] += 1\n",
    "for i in range(5):\n",
    "    print >> sys.stderr, \"\\t\".join([str(ed[i][j]) for j in range(5)])"
   ]
  },
  {
   "cell_type": "markdown",
   "metadata": {},
   "source": [
    "## Testing on the chr22 variants"
   ]
  },
  {
   "cell_type": "code",
   "execution_count": 11,
   "metadata": {
    "collapsed": false
   },
   "outputs": [],
   "source": [
    "total, XArrayCompressed, YArrayCompressed, posArrayCompressed = \\\n",
    "utils.GetTrainingArray(\"../training/tensor_can_chr22\",\n",
    "                       \"../training/var_chr22\",\n",
    "                       \"../training/bed\")\n",
    "YArray, _, _ = utils.DecompressArray(YArrayCompressed, 0, total, total)"
   ]
  },
  {
   "cell_type": "code",
   "execution_count": 12,
   "metadata": {
    "collapsed": false
   },
   "outputs": [
    {
     "name": "stderr",
     "output_type": "stream",
     "text": [
      "Time elapsed: 14.54 s\n",
      "Model evaluation on the chr22 variants:\n",
      "23684\t14\t0\t0\t130\n",
      "19\t10594\t0\t0\t0\n",
      "12\t5\t7\t0\t48\n",
      "2\t0\t0\t0\t20\n",
      "162\t17\t2\t0\t35044\n"
     ]
    }
   ],
   "source": [
    "predictStart = time.time()\n",
    "predictBatchSize = param.predictBatchSize\n",
    "datasetPtr = 0\n",
    "XBatch, _, _ = utils.DecompressArray(XArrayCompressed, datasetPtr, predictBatchSize, total)\n",
    "bases, ts = m.predict(XBatch)\n",
    "datasetPtr += predictBatchSize\n",
    "while datasetPtr < total:\n",
    "    XBatch, _, endFlag = utils.DecompressArray(XArrayCompressed, datasetPtr, predictBatchSize, total)\n",
    "    base, t = m.predict(XBatch)\n",
    "    bases = np.append(bases, base, 0)\n",
    "    ts = np.append(ts, t, 0)\n",
    "    datasetPtr += predictBatchSize\n",
    "    if endFlag != 0:\n",
    "        break\n",
    "print >> sys.stderr, \"Time elapsed: %.2f s\" % (time.time() - predictStart)\n",
    "\n",
    "print >> sys.stderr, \"Model evaluation on the chr22 variants:\"\n",
    "ed = np.zeros( (5,5), dtype=np.int )\n",
    "for predictV, annotateV in zip(ts, YArray[:,4:]):\n",
    "    ed[np.argmax(annotateV)][np.argmax(predictV)] += 1\n",
    "\n",
    "for i in range(5):\n",
    "    print >> sys.stderr, \"\\t\".join([str(ed[i][j]) for j in range(5)])"
   ]
  },
  {
   "cell_type": "markdown",
   "metadata": {},
   "source": [
    "## Visualizing predictions"
   ]
  },
  {
   "cell_type": "code",
   "execution_count": 13,
   "metadata": {
    "collapsed": false
   },
   "outputs": [
    {
     "data": {
      "text/plain": [
       "<matplotlib.image.AxesImage at 0x11d9b9390>"
      ]
     },
     "execution_count": 13,
     "metadata": {},
     "output_type": "execute_result"
    },
    {
     "data": {
      "image/png": "[encoded data removed]",
      "text/plain": [
       "<matplotlib.figure.Figure at 0x1188501d0>"
      ]
     },
     "metadata": {},
     "output_type": "display_data"
    },
    {
     "data": {
      "image/png": "[encoded data removed]",
      "text/plain": [
       "<matplotlib.figure.Figure at 0x11d994cd0>"
      ]
     },
     "metadata": {},
     "output_type": "display_data"
    }
   ],
   "source": [
    "# Compare the output of the expected calls and the predicted calls\n",
    "arrayStart = 0\n",
    "arrayEnd = 100\n",
    "figure(figsize=(20, 5))\n",
    "matshow(YArray[arrayStart:arrayEnd,:].transpose(), fignum=0, cmap=cm.PuRd)\n",
    "figure(figsize=(20, 5))\n",
    "matshow(np.concatenate( (bases[arrayStart:arrayEnd,:],ts[arrayStart:arrayEnd,:]),1).transpose(), fignum=0, cmap=cm.PuRd)"
   ]
  },
  {
   "cell_type": "code",
   "execution_count": null,
   "metadata": {
    "collapsed": true
   },
   "outputs": [],
   "source": []
  }
 ],
 "metadata": {
  "kernelspec": {
   "display_name": "Python 2",
   "language": "python",
   "name": "python2"
  },
  "language_info": {
   "codemirror_mode": {
    "name": "ipython",
    "version": 2
   },
   "file_extension": ".py",
   "mimetype": "text/x-python",
   "name": "python",
   "nbconvert_exporter": "python",
   "pygments_lexer": "ipython2",
   "version": "2.7.13"
  }
 },
 "nbformat": 4,
 "nbformat_minor": 2
}
