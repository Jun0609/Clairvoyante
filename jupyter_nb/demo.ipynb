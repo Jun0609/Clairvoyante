{
 "cells": [
  {
   "cell_type": "markdown",
   "metadata": {},
   "source": [
    "# Clairvoyante\n"
   ]
  },
  {
   "cell_type": "code",
   "execution_count": 4,
   "metadata": {
    "collapsed": false
   },
   "outputs": [
    {
     "name": "stdout",
     "output_type": "stream",
     "text": [
      "Populating the interactive namespace from numpy and matplotlib\n"
     ]
    }
   ],
   "source": [
    "%matplotlib inline\n",
    "%pylab inline\n",
    "import sys\n",
    "sys.path.append('../')\n",
    "import numpy as np\n",
    "import time\n",
    "import pickle\n",
    "from random import randrange"
   ]
  },
  {
   "cell_type": "code",
   "execution_count": 5,
   "metadata": {
    "collapsed": false
   },
   "outputs": [],
   "source": [
    "#import clairvoyante\n",
    "import clairvoyante.utils as utils\n",
    "import clairvoyante.clairvoyante as cv\n",
    "import clairvoyante.param as param"
   ]
  },
  {
   "cell_type": "markdown",
   "metadata": {},
   "source": [
    "Please run prepDataBeforeDemo.sh to generate training and testing data from BAM and VCF files before proceeding.\n",
    "\n",
    "References:\n",
    "1. The GIAB v3.3.2 NA12878 truth variant dataset is available at ftp://ftp-trace.ncbi.nlm.nih.gov/giab/ftp/release/NA12878_HG001/NISTv3.3.2/GRCh38\n",
    "2. The Illumina alignment is available at ftp://ftp-trace.ncbi.nlm.nih.gov/giab/ftp/data/NA12878/NIST_NA12878_HG001_HiSeq_300x/, the chr21.bam and chr22.bam were extracted from the HG001.GRCh38_full_plus_hs38d1_analysis_set_minus_alts.300x.bam file, downsampled to 50x.\n",
    "\n",
    "#### prepDataBeforeDemo.sh:\n",
    "```\n",
    "mkdir ../training\n",
    "python ../dataPrepScripts/ExtractVariantCandidates.py --bam_fn ../testingData/chr21/chr21.bam --ref_fn ../testingData/chr21/chr21.fa --can_fn ../training/can_chr21 --ctgName chr21 --ctgStart 10269870 --ctgEnd 46672937 &\n",
    "python ../dataPrepScripts/GetTruth.py --vcf_fn ../testingData/chr21/chr21.vcf --var_fn ../training/var_chr21 --ctgName chr21 &\n",
    "python ../dataPrepScripts/ExtractVariantCandidates.py --bam_fn ../testingData/chr22/chr22.bam --ref_fn ../testingData/chr22/chr22.fa --can_fn ../training/can_chr22 --ctgName chr22 --ctgStart 18924717 --ctgEnd 49973797 &\n",
    "python ../dataPrepScripts/GetTruth.py --vcf_fn ../testingData/chr22/chr22.vcf --var_fn ../training/var_chr22 --ctgName chr22 &\n",
    "wait\n",
    "\n",
    "python ../dataPrepScripts/CreateTensor.py --bam_fn ../testingData/chr21/chr21.bam --can_fn ../training/can_chr21 --ref_fn ../testingData/chr21/chr21.fa --tensor_fn ../training/tensor_can_chr21 --ctgName chr21 --ctgStart 10269870 --ctgEnd 46672937 &\n",
    "python ../dataPrepScripts/CreateTensor.py --bam_fn ../testingData/chr22/chr22.bam --can_fn ../training/can_chr22 --ref_fn ../testingData/chr22/chr22.fa --tensor_fn ../training/tensor_can_chr22 --ctgName chr22 --ctgStart 18924717 --ctgEnd 49973797 &\n",
    "wait\n",
    "\n",
    "cat ../training/can_chr21 ../training/can_chr22 > ../training/can_mul\n",
    "cat ../training/var_chr21 ../training/var_chr22 > ../training/var_mul\n",
    "cat ../training/tensor_can_chr21 ../training/tensor_can_chr22 > ../training/tensor_can_mul\n",
    "cat ../testingData/chr21/chr21.bed ../testingData/chr22/chr22.bed > ../training/bed\n",
    "python tensor2Bin.py --tensor_fn ../training/tensor_can_mul --var_fn ../training/var_mul --bed_fn ../training/bed --bin_fn ../training/tensor.bin\n",
    "```"
   ]
  },
  {
   "cell_type": "markdown",
   "metadata": {},
   "source": [
    "## Train using the chr21+chr22 variants"
   ]
  },
  {
   "cell_type": "code",
   "execution_count": 6,
   "metadata": {
    "collapsed": false
   },
   "outputs": [],
   "source": [
    "# Load the preprocessed and compressed tensors into memory\n",
    "with open(\"../training/tensor.bin\", \"rb\") as fh:\n",
    "    total = pickle.load(fh)\n",
    "    XArrayCompressed = pickle.load(fh)\n",
    "    YArrayCompressed = pickle.load(fh)\n",
    "    posArrayCompressed = pickle.load(fh)"
   ]
  },
  {
   "cell_type": "code",
   "execution_count": 7,
   "metadata": {
    "collapsed": false
   },
   "outputs": [
    {
     "name": "stderr",
     "output_type": "stream",
     "text": [
      "The size of training dataset: 412034\n"
     ]
    }
   ],
   "source": [
    "print >> sys.stderr, \"The size of training dataset: {}\".format(total)"
   ]
  },
  {
   "cell_type": "code",
   "execution_count": 10,
   "metadata": {
    "collapsed": true
   },
   "outputs": [],
   "source": [
    "# Pick a random candidate\n",
    "i = randrange(total)\n",
    "XArray, _, _ = utils.DecompressArray(XArrayCompressed, i, 1, total)"
   ]
  },
  {
   "cell_type": "code",
   "execution_count": 16,
   "metadata": {
    "collapsed": false
   },
   "outputs": [
    {
     "data": {
      "text/plain": [
       "<matplotlib.colorbar.Colorbar at 0x124cbc350>"
      ]
     },
     "execution_count": 16,
     "metadata": {},
     "output_type": "execute_result"
    },
    {
     "data": {
      "image/png": "[encoded data removed]",
      "text/plain": [
       "<matplotlib.figure.Figure at 0x1269e0390>"
      ]
     },
     "metadata": {},
     "output_type": "display_data"
    },
    {
     "data": {
      "image/png": "[encoded data removed]",
      "text/plain": [
       "<matplotlib.figure.Figure at 0x1267b2b90>"
      ]
     },
     "metadata": {},
     "output_type": "display_data"
    },
    {
     "data": {
      "image/png": "[encoded data removed]",
      "text/plain": [
       "<matplotlib.figure.Figure at 0x126122790>"
      ]
     },
     "metadata": {},
     "output_type": "display_data"
    },
    {
     "data": {
      "image/png": "[encoded data removed]",
      "text/plain": [
       "<matplotlib.figure.Figure at 0x12688a790>"
      ]
     },
     "metadata": {},
     "output_type": "display_data"
    }
   ],
   "source": [
    "# Show how the four matrices are like\n",
    "figure(figsize=(15, 2)); matshow(XArray[0,:,:,0].transpose(), vmin=0, vmax=50, cmap=cm.hot, fignum=0); colorbar()\n",
    "figure(figsize=(15, 2)); matshow(XArray[0,:,:,1].transpose(), vmin=-50, vmax=50, cmap=cm.bwr, fignum=0); colorbar()\n",
    "figure(figsize=(15, 2)); matshow(XArray[0,:,:,2].transpose(), vmin=-50, vmax=50, cmap=cm.bwr, fignum=0); colorbar()\n",
    "figure(figsize=(15, 2)); matshow(XArray[0,:,:,3].transpose(), vmin=-50, vmax=50, cmap=cm.bwr, fignum=0); colorbar()"
   ]
  },
  {
   "cell_type": "code",
   "execution_count": 17,
   "metadata": {
    "collapsed": false
   },
   "outputs": [],
   "source": [
    "# create a Clairvoyante network\n",
    "m = cv.Clairvoyante()\n",
    "m.init()"
   ]
  },
  {
   "cell_type": "code",
   "execution_count": null,
   "metadata": {
    "collapsed": false
   },
   "outputs": [],
   "source": [
    "# training the model. The code train on all variants and validate on the first 10% variant sites\n",
    "trainingStart = time.time()\n",
    "trainBatchSize = param.trainBatchSize\n",
    "validationLosts = []\n",
    "numValItems = int(len(XArray) * 0.1 + 0.499)\n",
    "print >> sys.stderr, \"Start at learning rate: %.2e\" % m.setLearningRate(0.001)\n",
    "c = 0; maxLearningRateSwitch = 1\n",
    "epochStart = time.time()\n",
    "datasetPtr = 0\n",
    "numValItems = int(total * 0.1 + 0.499)\n",
    "valXArray, _, _ = utils.DecompressArray(XArrayCompressed, 0, numValItems, total)\n",
    "valYArray, _, _ = utils.DecompressArray(YArrayCompressed, 0, numValItems, total)\n",
    "print >> sys.stderr, \"Number of variants for validation: %d\" % len(valXArray)\n",
    "i = 1\n",
    "while i < (1 + int(param.maxEpoch * total / trainBatchSize + 0.499)):\n",
    "    XBatch, _, endFlag = utils.DecompressArray(XArrayCompressed, datasetPtr, trainBatchSize, total)\n",
    "    YBatch, _, _ = utils.DecompressArray(YArrayCompressed, datasetPtr, trainBatchSize, total)\n",
    "    loss, _ = m.train(XBatch, YBatch)\n",
    "    if endFlag != 0:\n",
    "        validationLost = m.getLoss( valXArray, valYArray )\n",
    "        print >> sys.stderr, \" \".join([str(i),\\\n",
    "                                       \"Training lost:\", str(loss/trainBatchSize),\\\n",
    "                                       \"Validation lost: \", str(validationLost/numValItems)],\\\n",
    "                                       \"Epoch time elapsed: %.2f s\" % (time.time() - epochStart))\n",
    "        validationLosts.append( (validationLost, i) )\n",
    "        c += 1\n",
    "        flag = 0\n",
    "        if c >= 4:\n",
    "            if validationLosts[-4][0] - validationLosts[-3][0] > 0:\n",
    "                if validationLosts[-3][0] - validationLosts[-2][0] < 0:\n",
    "                    if validationLosts[-2][0] - validationLosts[-1][0] > 0:\n",
    "                        flag = 1\n",
    "            elif validationLosts[-4][0] - validationLosts[-3][0] < 0:\n",
    "                if validationLosts[-3][0] - validationLosts[-2][0] > 0:\n",
    "                    if validationLosts[-2][0] - validationLosts[-1][0] < 0:\n",
    "                        flag = 1\n",
    "            else: flag = 1\n",
    "        if flag == 1:\n",
    "            maxLearningRateSwitch -= 1\n",
    "            if maxLearningRateSwitch == 0: break\n",
    "            print >> sys.stderr, \"New learning rate: %.2e\" % m.setLearningRate()\n",
    "            c = 0\n",
    "        epochStart = time.time()\n",
    "        datasetPtr = 0\n",
    "    i += 1\n",
    "    datasetPtr += trainBatchSize\n",
    "\n",
    "print >> sys.stderr, \"Training time elapsed: %.2f s\" % (time.time() - trainingStart)"
   ]
  },
  {
   "cell_type": "markdown",
   "metadata": {},
   "source": [
    "## Testing on the training dataset"
   ]
  },
  {
   "cell_type": "code",
   "execution_count": 23,
   "metadata": {
    "collapsed": false
   },
   "outputs": [
    {
     "name": "stderr",
     "output_type": "stream",
     "text": [
      "Prediciton time elapsed: 72.14 s\n",
      "Model evaluation on the training dataset:\n",
      "48338\t640\t0\t0\t1292\n",
      "416\t27055\t0\t0\t67\n",
      "176\t32\t269\t0\t1273\n",
      "5\t3\t17\t0\t265\n",
      "961\t119\t232\t0\t330874\n"
     ]
    }
   ],
   "source": [
    "predictStart = time.time()\n",
    "predictBatchSize = param.predictBatchSize\n",
    "datasetPtr = 0\n",
    "XBatch, _, _ = utils.DecompressArray(XArrayCompressed, datasetPtr, predictBatchSize, total)\n",
    "bases, ts = m.predict(XBatch)\n",
    "datasetPtr += predictBatchSize\n",
    "while datasetPtr < total:\n",
    "    XBatch, _, endFlag = utils.DecompressArray(XArrayCompressed, datasetPtr, predictBatchSize, total)\n",
    "    base, t = m.predict(XBatch)\n",
    "    bases = np.append(bases, base, 0)\n",
    "    ts = np.append(ts, t, 0)\n",
    "    datasetPtr += predictBatchSize\n",
    "    if endFlag != 0:\n",
    "        break\n",
    "print >> sys.stderr, \"Prediciton time elapsed: %.2f s\" % (time.time() - predictStart)\n",
    "\n",
    "\n",
    "YArray, _, _ = utils.DecompressArray(YArrayCompressed, 0, total, total)\n",
    "print >> sys.stderr, \"Model evaluation on the training dataset:\"\n",
    "ed = np.zeros( (5,5), dtype=np.int )\n",
    "for predictV, annotateV in zip(ts, YArray[:,4:]):\n",
    "    ed[np.argmax(annotateV)][np.argmax(predictV)] += 1\n",
    "\n",
    "for i in range(5):\n",
    "    print >> sys.stderr, \"\\t\".join([str(ed[i][j]) for j in range(5)])"
   ]
  },
  {
   "cell_type": "markdown",
   "metadata": {},
   "source": [
    "## Testing on the chr22 variants"
   ]
  },
  {
   "cell_type": "code",
   "execution_count": 24,
   "metadata": {
    "collapsed": false
   },
   "outputs": [],
   "source": [
    "total, XArrayCompressed, YArrayCompressed, posArrayCompressed = \\\n",
    "utils.GetTrainingArray(\"../training/tensor_chr22\",\n",
    "                       \"../training/var_chr22\",\n",
    "                       \"../training/bed\")\n",
    "YArray, _, _ = utils.DecompressArray(YArrayCompressed, 0, total, total)"
   ]
  },
  {
   "cell_type": "code",
   "execution_count": 26,
   "metadata": {
    "collapsed": false
   },
   "outputs": [
    {
     "name": "stderr",
     "output_type": "stream",
     "text": [
      "Time elapsed: 40.48 s\n",
      "Model evaluation on the chr22 variants:\n",
      "3500\t1182\t29\t0\t19079\n",
      "1130\t930\t12\t0\t8555\n",
      "82\t34\t6\t0\t585\n",
      "16\t8\t0\t0\t117\n",
      "18809\t8623\t233\t0\t157509\n"
     ]
    }
   ],
   "source": [
    "predictStart = time.time()\n",
    "predictBatchSize = param.predictBatchSize\n",
    "datasetPtr = 0\n",
    "XBatch, _, _ = utils.DecompressArray(XArrayCompressed, datasetPtr, predictBatchSize, total)\n",
    "bases, ts = m.predict(XBatch)\n",
    "while datasetPtr < total:\n",
    "    XBatch, _, endFlag = utils.DecompressArray(XArrayCompressed, datasetPtr, predictBatchSize, total)\n",
    "    base, t = m.predict(XBatch)\n",
    "    bases = np.append(bases, base, 0)\n",
    "    ts = np.append(ts, t, 0)\n",
    "    datasetPtr += predictBatchSize\n",
    "    if endFlag != 0:\n",
    "        break\n",
    "print >> sys.stderr, \"Time elapsed: %.2f s\" % (time.time() - predictStart)\n",
    "\n",
    "print >> sys.stderr, \"Model evaluation on the chr22 variants:\"\n",
    "ed = np.zeros( (5,5), dtype=np.int )\n",
    "for predictV, annotateV in zip(ts, YArray[:,4:]):\n",
    "    ed[np.argmax(annotateV)][np.argmax(predictV)] += 1\n",
    "\n",
    "for i in range(5):\n",
    "    print >> sys.stderr, \"\\t\".join([str(ed[i][j]) for j in range(5)])"
   ]
  },
  {
   "cell_type": "markdown",
   "metadata": {},
   "source": [
    "## Visualizing predictions"
   ]
  },
  {
   "cell_type": "code",
   "execution_count": 41,
   "metadata": {
    "collapsed": false
   },
   "outputs": [
    {
     "data": {
      "text/plain": [
       "<matplotlib.image.AxesImage at 0x12729d110>"
      ]
     },
     "execution_count": 41,
     "metadata": {},
     "output_type": "execute_result"
    },
    {
     "data": {
      "image/png": "[encoded data removed]",
      "text/plain": [
       "<matplotlib.figure.Figure at 0x13a126f10>"
      ]
     },
     "metadata": {},
     "output_type": "display_data"
    },
    {
     "data": {
      "image/png": "[encoded data removed]",
      "text/plain": [
       "<matplotlib.figure.Figure at 0x14675b5d0>"
      ]
     },
     "metadata": {},
     "output_type": "display_data"
    }
   ],
   "source": [
    "# Compare the output of the expected calls and the predicted calls\n",
    "arrayStart = 4000\n",
    "arrayEnd = 4100\n",
    "figure(figsize=(20, 5))\n",
    "matshow(YArray[arrayStart:arrayEnd,:].transpose(), fignum=0, cmap=cm.PuRd)\n",
    "figure(figsize=(20, 5))\n",
    "matshow(np.concatenate( (bases[arrayStart:arrayEnd,:],ts[arrayStart:arrayEnd,:]),1).transpose(), fignum=0, cmap=cm.PuRd)"
   ]
  },
  {
   "cell_type": "code",
   "execution_count": null,
   "metadata": {
    "collapsed": true
   },
   "outputs": [],
   "source": []
  }
 ],
 "metadata": {
  "kernelspec": {
   "display_name": "Python 2",
   "language": "python",
   "name": "python2"
  },
  "language_info": {
   "codemirror_mode": {
    "name": "ipython",
    "version": 2
   },
   "file_extension": ".py",
   "mimetype": "text/x-python",
   "name": "python",
   "nbconvert_exporter": "python",
   "pygments_lexer": "ipython2",
   "version": "2.7.13"
  }
 },
 "nbformat": 4,
 "nbformat_minor": 2
}
