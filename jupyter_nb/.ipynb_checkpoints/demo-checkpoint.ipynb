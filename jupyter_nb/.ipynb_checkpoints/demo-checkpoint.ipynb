{
 "cells": [
  {
   "cell_type": "markdown",
   "metadata": {},
   "source": [
    "# Clairvoyante\n"
   ]
  },
  {
   "cell_type": "code",
   "execution_count": 1,
   "metadata": {
    "collapsed": false
   },
   "outputs": [
    {
     "name": "stdout",
     "output_type": "stream",
     "text": [
      "Populating the interactive namespace from numpy and matplotlib\n"
     ]
    }
   ],
   "source": [
    "%matplotlib inline\n",
    "%pylab inline"
   ]
  },
  {
   "cell_type": "code",
   "execution_count": 2,
   "metadata": {
    "collapsed": false
   },
   "outputs": [],
   "source": [
    "import sys\n",
    "sys.path.append('../')"
   ]
  },
  {
   "cell_type": "code",
   "execution_count": 3,
   "metadata": {
    "collapsed": false
   },
   "outputs": [],
   "source": [
    "#import clairvoyante as cv\n",
    "import clairvoyante.utils as utils\n",
    "import clairvoyante.clairvoyante as cv"
   ]
  },
  {
   "cell_type": "markdown",
   "metadata": {},
   "source": [
    "Shell script example to get testing data from a BAM file and a VCF file\n",
    "These scripts depend on \"samtools\" to parse alignment records. \n",
    "\n",
    "```\n",
    "python ../dataPrepScripts/ExtractVariantCandidates.py --bam_fn ../testingData/chr21/hg38.NA12878-WashU_chr21-14069662-46411975.bam --ref_fn ../testingData/chr21/chr21.fa --pi_fn pi_chr21 --ctgName chr21\n",
    "\n",
    "python ../dataPrepScripts/CreateTensor.py --bam_fn ../testingData/chr21/hg38.NA12878-WashU_chr21-14069662-46411975.bam --pi_fn pi_chr21 --ctgName chr21 --ref_fn ../testingData/chr21/chr21.fa --tensor_fn tensor_chr21\n",
    "\n",
    "python ../dataPrepScripts/GetTruth.py --vcf_fn ../testingData/chr21/chr21.vcf --var_fn var_chr21 --ctgName chr21\n",
    "```"
   ]
  },
  {
   "cell_type": "markdown",
   "metadata": {},
   "source": [
    "## Training using Chr21 variant calls"
   ]
  },
  {
   "cell_type": "code",
   "execution_count": 4,
   "metadata": {
    "collapsed": false
   },
   "outputs": [],
   "source": [
    "# load the generate alignment tensors \n",
    "# we use only variants overlapping with the regions defined in `CHROM21_v.3.3.2_highconf_noinconsistent.bed`\n",
    "\n",
    "XArray, YArray, posArray = \\\n",
    "utils.GetTrainingArray(\"../training/tensor_chr21\", \n",
    "                       \"../training/var_chr21\", \n",
    "                       \"../testingData/chr21/CHROM21_v.3.3.2_highconf_noinconsistent.bed\",\n",
    "                       \"chr21\")"
   ]
  },
  {
   "cell_type": "code",
   "execution_count": 5,
   "metadata": {
    "collapsed": false
   },
   "outputs": [
    {
     "name": "stdout",
     "output_type": "stream",
     "text": [
      "(54861, 15, 4, 4)\n",
      "(54861, 9)\n"
     ]
    }
   ],
   "source": [
    "print XArray.shape\n",
    "print YArray.shape"
   ]
  },
  {
   "cell_type": "code",
   "execution_count": 6,
   "metadata": {
    "collapsed": false
   },
   "outputs": [
    {
     "data": {
      "text/plain": [
       "<matplotlib.image.AxesImage at 0x1143c7510>"
      ]
     },
     "execution_count": 6,
     "metadata": {},
     "output_type": "execute_result"
    },
    {
     "data": {
      "image/png": "[encoded data removed]",
      "text/plain": [
       "<matplotlib.figure.Figure at 0x110c490d0>"
      ]
     },
     "metadata": {},
     "output_type": "display_data"
    },
    {
     "data": {
      "image/png": "[encoded data removed]",
      "text/plain": [
       "<matplotlib.figure.Figure at 0x11434f490>"
      ]
     },
     "metadata": {},
     "output_type": "display_data"
    },
    {
     "data": {
      "image/png": "[encoded data removed]",
      "text/plain": [
       "<matplotlib.figure.Figure at 0x113ef3c90>"
      ]
     },
     "metadata": {},
     "output_type": "display_data"
    },
    {
     "data": {
      "image/png": "[encoded data removed]",
      "text/plain": [
       "<matplotlib.figure.Figure at 0x1143ab390>"
      ]
     },
     "metadata": {},
     "output_type": "display_data"
    }
   ],
   "source": [
    "# here we show how the three matrices are like for a candidate site\n",
    "\n",
    "i = 3721\n",
    "figure(figsize=(6, 2))\n",
    "matshow(XArray[i,:,:,0].transpose(), vmin=0, vmax=50, cmap=cm.coolwarm, fignum=0)\n",
    "figure(figsize=(6, 2))\n",
    "matshow(XArray[i,:,:,1].transpose(), vmin=-50, vmax=50, cmap=cm.coolwarm, fignum=0)\n",
    "figure(figsize=(6, 2))\n",
    "matshow(XArray[i,:,:,2].transpose(), vmin=-50, vmax=50, cmap=cm.coolwarm, fignum=0)\n",
    "figure(figsize=(6, 2))\n",
    "matshow(XArray[i,:,:,3].transpose(), vmin=-50, vmax=50, cmap=cm.coolwarm, fignum=0)"
   ]
  },
  {
   "cell_type": "code",
   "execution_count": 7,
   "metadata": {
    "collapsed": true
   },
   "outputs": [],
   "source": [
    "%%bash\n",
    "mkdir -p ../training/parameters"
   ]
  },
  {
   "cell_type": "code",
   "execution_count": null,
   "metadata": {
    "collapsed": false
   },
   "outputs": [],
   "source": [
    "# create a Clairvoyante\n",
    "m = cv.Clairvoyante()\n",
    "m.init()"
   ]
  },
  {
   "cell_type": "code",
   "execution_count": null,
   "metadata": {
    "collapsed": false
   },
   "outputs": [
    {
     "name": "stderr",
     "output_type": "stream",
     "text": [
      "0 Training lost: 2.7465625 Validation lost:  8.4053215848\n",
      "87 Training lost: 1.9422265625 Validation lost:  1.88300811509\n",
      "174"
     ]
    }
   ],
   "source": [
    "# training and save the parameters, we train on the first 80% SNP sites and validate on other 20% SNP sites\n",
    "batchSize = 500\n",
    "validationLosts = []\n",
    "XLen = len(XArray)\n",
    "XIdx = int(XLen * 0.8)\n",
    "for i in range(int(XIdx/batchSize)*50+1):\n",
    "    XBatch, YBatch = utils.GetBatch(XArray[:XIdx], YArray[:XIdx], size=batchSize)\n",
    "    loss = m.train(XBatch, YBatch)\n",
    "    if i % int(XIdx / batchSize) == 0:\n",
    "        validationLost = m.getLoss( XArray[XIdx:-1], YArray[XIdx:-1] )\n",
    "        print >> sys.stderr, i,\\\n",
    "                 \"Training lost:\", loss/batchSize,\\\n",
    "                 \"Validation lost: \", validationLost/(XLen-XIdx)\n",
    "        m.saveParameters('../training/parameters/cv.params-%05d' % i)\n",
    "        validationLosts.append( (validationLost, i) )\n",
    "        if i % 10 == 0 and i != 0:\n",
    "            nl = m.setLearningRate()\n",
    "            print >> sys.stderr, \"New learning rate: %e\" % nl\n",
    "        "
   ]
  },
  {
   "cell_type": "code",
   "execution_count": null,
   "metadata": {
    "collapsed": false,
    "deletable": true,
    "editable": true
   },
   "outputs": [],
   "source": [
    "# pick the parameter set of the smallest validation loss\n",
    "\n",
    "validationLosts.sort()\n",
    "i = validationLosts[0][1]\n",
    "print i\n",
    "m.restoreParameters('../training/parameters/cv.params-%04d' % i)"
   ]
  },
  {
   "cell_type": "markdown",
   "metadata": {},
   "source": [
    "## Testing using Chr22 variant calls"
   ]
  },
  {
   "cell_type": "code",
   "execution_count": null,
   "metadata": {
    "collapsed": false
   },
   "outputs": [],
   "source": [
    "XArray2, YArray2, posArray2 = \\\n",
    "utils.GetTrainingArray(\"../training/tensor_chr22\", \n",
    "                       \"../training/var_chr22\", \n",
    "                       \"../testingData/chr22/CHROM22_v.3.3.2_highconf_noinconsistent.bed\",\n",
    "                       \"chr22\")"
   ]
  },
  {
   "cell_type": "code",
   "execution_count": null,
   "metadata": {
    "collapsed": false
   },
   "outputs": [],
   "source": [
    "base, t = m.predict(XArray2)"
   ]
  },
  {
   "cell_type": "code",
   "execution_count": null,
   "metadata": {
    "collapsed": false
   },
   "outputs": [],
   "source": [
    "# we can compare the output of the expected calls and the predicted calls\n",
    "\n",
    "figure(figsize=(15, 5))\n",
    "matshow(YArray2[4000:4150,:].transpose(), fignum=0)\n",
    "figure(figsize=(15, 5))\n",
    "matshow(np.concatenate( (base[4000:4150,:],t[4000:4150,:]),1).transpose(), fignum=0)\n"
   ]
  },
  {
   "cell_type": "markdown",
   "metadata": {},
   "source": [
    "## Quick Evaluation"
   ]
  },
  {
   "cell_type": "code",
   "execution_count": null,
   "metadata": {
    "collapsed": false
   },
   "outputs": [],
   "source": [
    "ed = []\n",
    "for pos, predictV, annotateV in zip(np.array(posArray2), t, YArray2[:,4:]):\n",
    "    ed.append( (pos, np.argmax(predictV), np.argmax(annotateV)) )\n",
    "ed = np.array(ed)"
   ]
  },
  {
   "cell_type": "code",
   "execution_count": null,
   "metadata": {
    "collapsed": false
   },
   "outputs": [],
   "source": [
    "from collections import Counter"
   ]
  },
  {
   "cell_type": "code",
   "execution_count": null,
   "metadata": {
    "collapsed": false
   },
   "outputs": [],
   "source": [
    "for i in range(4):\n",
    "    cnt = Counter(ed[ed[:,2]==i,1])\n",
    "    print i,\"\\t\",\n",
    "    for j in range(4):\n",
    "        print cnt.get(j,0),\"\\t\",\n",
    "    print"
   ]
  },
  {
   "cell_type": "code",
   "execution_count": null,
   "metadata": {
    "collapsed": false
   },
   "outputs": [],
   "source": [
    "print \"Recall rate for het-call (regardless called variant types):\", 1.0*sum((ed[:,1]!=2) & (ed[:,2]==0))/sum(ed[:,2]==0)\n",
    "print \"Recall rate for het-call (called variant type = het):\", 1.0*sum((ed[:,1]==0) & (ed[:,2]==0))/sum(ed[:,2]==0)\n",
    "print\n",
    "print \"PPV for het-call (regardless called variant types):\", 1.0*sum((ed[:,1]==0) & (ed[:,2]!=2))/sum(ed[:,1]==0)\n",
    "print \"PPV for het-call (called variant type = het):\", 1.0*sum((ed[:,1]==0) & (ed[:,2]==0))/sum(ed[:,1]==0)\n",
    "print\n",
    "print \"Recall rate for hom-call (regardless called variant types):\", 1.0*sum((ed[:,1]!=2) & (ed[:,2]==1))/sum(ed[:,2]==1)\n",
    "print \"Recall rate for hom-call (called variant type = hom):\", 1.0*sum((ed[:,1]==1) & (ed[:,2]==1))/sum(ed[:,2]==1)\n",
    "print\n",
    "print \"PPV for hom-call (regardless called variant types):\", 1.0*sum((ed[:,1]==1) & (ed[:,2]!=2))/sum(ed[:,1]==1)\n",
    "print \"PPV for hom-call (called variant type = hom):\", 1.0*sum((ed[:,1]==1) & (ed[:,2]==1))/sum(ed[:,1]==1)\n",
    "print\n",
    "print \"Recall rate for all calls:\", 1.0*sum((ed[:,1]!=2) & (ed[:,2]!=2))/sum(ed[:,2]!=2) \n",
    "print \"PPV for all calls:\", 1.0*sum((ed[:,1]!=2) & (ed[:,2]!=2))/sum(ed[:,1]!=2) "
   ]
  },
  {
   "cell_type": "markdown",
   "metadata": {},
   "source": [
    "We acutally call more variants outside those \"hige confidence\" (a short alignment concept) regions, e.g., CYP2D6 regions in chr22."
   ]
  }
 ],
 "metadata": {
  "kernelspec": {
   "display_name": "Python 2",
   "language": "python",
   "name": "python2"
  },
  "language_info": {
   "codemirror_mode": {
    "name": "ipython",
    "version": 2
   },
   "file_extension": ".py",
   "mimetype": "text/x-python",
   "name": "python",
   "nbconvert_exporter": "python",
   "pygments_lexer": "ipython2",
   "version": "2.7.13"
  }
 },
 "nbformat": 4,
 "nbformat_minor": 2
}
